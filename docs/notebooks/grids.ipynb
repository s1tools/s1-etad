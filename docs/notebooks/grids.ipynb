{
 "cells": [
  {
   "cell_type": "code",
   "execution_count": 1,
   "metadata": {},
   "outputs": [],
   "source": [
    "%matplotlib inline\n",
    "\n",
    "import numpy as np\n",
    "from matplotlib import pyplot as plt\n",
    "\n",
    "%load_ext autoreload\n",
    "%autoreload 2"
   ]
  },
  {
   "cell_type": "code",
   "execution_count": 2,
   "metadata": {},
   "outputs": [],
   "source": [
    "import sys\n",
    "import pathlib\n",
    "\n",
    "root = pathlib.Path('../..')\n",
    "sys.path.append(str(root))"
   ]
  },
  {
   "cell_type": "code",
   "execution_count": 3,
   "metadata": {},
   "outputs": [],
   "source": [
    "s1product = root / '..' / 'data' /' S1B_IW_SLC__1SDV_20190805T162509_20190805T162536_017453_020D3A_BE8E.SAFE'"
   ]
  },
  {
   "cell_type": "code",
   "execution_count": 4,
   "metadata": {},
   "outputs": [
    {
     "ename": "IndexError",
     "evalue": "list index out of range",
     "output_type": "error",
     "traceback": [
      "\u001b[0;31m---------------------------------------------------------------------------\u001b[0m",
      "\u001b[0;31mIndexError\u001b[0m                                Traceback (most recent call last)",
      "\u001b[0;32m<ipython-input-4-a9370533628f>\u001b[0m in \u001b[0;36m<module>\u001b[0;34m\u001b[0m\n\u001b[1;32m     20\u001b[0m \u001b[0;34m\u001b[0m\u001b[0m\n\u001b[1;32m     21\u001b[0m \u001b[0mmetadata\u001b[0m \u001b[0;34m=\u001b[0m \u001b[0mread_s1_annotations\u001b[0m\u001b[0;34m(\u001b[0m\u001b[0ms1product\u001b[0m\u001b[0;34m)\u001b[0m\u001b[0;34m\u001b[0m\u001b[0;34m\u001b[0m\u001b[0m\n\u001b[0;32m---> 22\u001b[0;31m \u001b[0ms1_metadata\u001b[0m \u001b[0;34m=\u001b[0m \u001b[0mlist\u001b[0m\u001b[0;34m(\u001b[0m\u001b[0mmetadata\u001b[0m\u001b[0;34m.\u001b[0m\u001b[0mvalues\u001b[0m\u001b[0;34m(\u001b[0m\u001b[0;34m)\u001b[0m\u001b[0;34m)\u001b[0m\u001b[0;34m[\u001b[0m\u001b[0;36m0\u001b[0m\u001b[0;34m]\u001b[0m\u001b[0;34m\u001b[0m\u001b[0;34m\u001b[0m\u001b[0m\n\u001b[0m\u001b[1;32m     23\u001b[0m \u001b[0ms1_metadata\u001b[0m\u001b[0;34m\u001b[0m\u001b[0;34m\u001b[0m\u001b[0m\n",
      "\u001b[0;31mIndexError\u001b[0m: list index out of range"
     ]
    }
   ],
   "source": [
    "from lxml import etree\n",
    "from scipy.constants import c\n",
    "\n",
    "def read_s1_annotations(product_path):\n",
    "    # NOTE: only reads annotations needed by this example\n",
    "    product_path = pathlib.Path(product_path)\n",
    "    metadata_root = product_path / 'annotation'\n",
    "    metadata = {}\n",
    "    for metadata_file in metadata_root.glob('s1[ab]-???-slc-[hv][hv]-*-???.xml'):\n",
    "        xmldoc = etree.parse(str(metadata_file))\n",
    "        nsmap = xmldoc.getroot().nsmap\n",
    "        xp = 'imageAnnotation/imageInformation/azimuthTimeInterval'\n",
    "        daz_s = float(xmldoc.findtext(xp, namespaces=nsmap))\n",
    "        xp = 'imageAnnotation/imageInformation/rangePixelSpacing'\n",
    "        drg_m = float(xmldoc.findtext(xp, namespaces=nsmap))\n",
    "        drg_s = drg_m * 2 / c\n",
    "        metadata[metadata_file.stem] = dict(drg_s=drg_s, daz_s=daz_s)\n",
    "        \n",
    "    return metadata\n",
    "\n",
    "metadata = read_s1_annotations(s1product)\n",
    "s1_metadata = list(metadata.values())[0]\n",
    "s1_metadata"
   ]
  },
  {
   "cell_type": "code",
   "execution_count": null,
   "metadata": {},
   "outputs": [],
   "source": [
    "import s1etad"
   ]
  },
  {
   "cell_type": "code",
   "execution_count": null,
   "metadata": {},
   "outputs": [],
   "source": [
    "path = root / 'test' / 'S1B_IW_ETA__AXDV_20190805T162509_20190805T162536_017453_020D3A_____.SAFE'\n",
    "product = s1etad.Sentinel1Etad(path)\n",
    "product"
   ]
  },
  {
   "cell_type": "code",
   "execution_count": null,
   "metadata": {},
   "outputs": [],
   "source": [
    "swath = product['IW3']\n",
    "swath"
   ]
  },
  {
   "cell_type": "code",
   "execution_count": null,
   "metadata": {},
   "outputs": [],
   "source": [
    "burst = swath[3]\n",
    "burst"
   ]
  },
  {
   "cell_type": "code",
   "execution_count": null,
   "metadata": {},
   "outputs": [],
   "source": [
    "kxf = burst.sampling['x']/s1_metadata['drg_s']\n",
    "kyf = burst.sampling['y']/s1_metadata['daz_s']\n",
    "kx = round(kxf)\n",
    "ky = round(kyf)\n",
    "print('Grid scaling factors:')\n",
    "print(f'  x: {kx} (err: {kx - kxf:.3g})')\n",
    "print(f'  y: {ky} (err: {ky - kyf:.3g})')"
   ]
  },
  {
   "cell_type": "code",
   "execution_count": null,
   "metadata": {},
   "outputs": [],
   "source": [
    "# read corrections\n",
    "az, rg = burst.get_burst_grid()\n",
    "correction_m = burst.get_sum_correction(meter=True)"
   ]
  },
  {
   "cell_type": "code",
   "execution_count": null,
   "metadata": {},
   "outputs": [],
   "source": [
    "extent=[rg[0]*1e6, rg[-1]*1e6, az[0], az[-1]]\n",
    "fig, ax = plt.subplots(1, 2, figsize=[13,5])\n",
    "\n",
    "img = ax[0].imshow(correction_m['x'], aspect='auto', extent=extent)\n",
    "fig.colorbar(img, ax=ax[0]).set_label('[m]')\n",
    "ax[0].grid()\n",
    "ax[0].set_xlabel(r'$\\tau\\ [\\mu s]$')\n",
    "ax[0].set_ylabel('t [s]')\n",
    "ax[0].set_title('Range')\n",
    "\n",
    "img = ax[1].imshow(correction_m['y'], aspect='auto', extent=extent)\n",
    "fig.colorbar(img, ax=ax[1]).set_label('[m]')\n",
    "ax[1].grid()\n",
    "ax[1].set_xlabel(r'$\\tau\\ [\\mu s]$')\n",
    "ax[1].set_ylabel('t [s]')\n",
    "ax[1].set_title('Azimuth')\n",
    "\n",
    "fig.suptitle(f'Sum of corrections for {burst.swath_id} Burst{burst.burst_index:04d}')"
   ]
  },
  {
   "cell_type": "code",
   "execution_count": null,
   "metadata": {},
   "outputs": [],
   "source": [
    "# resample to SLC sampling\n",
    "\n",
    "from scipy.interpolate import RectBivariateSpline\n",
    "\n",
    "az, rg = burst.get_burst_grid()\n",
    "correction_s = burst.get_sum_correction()\n",
    "\n",
    "# relatve coordinates\n",
    "n_az_slc = (len(az) - 1) * ky + 1\n",
    "n_rg_slc = (len(rg) - 1) * kx + 1\n",
    "\n",
    "az_slc_rel = np.arange(n_az_slc) / ky\n",
    "rg_slc_rel = np.arange(n_rg_slc) / kx\n",
    "\n",
    "az_slc = az[0] + az_slc_rel * burst.sampling['y']\n",
    "rg_slc = rg[0] + rg_slc_rel * burst.sampling['x']\n",
    "\n",
    "interpx = RectBivariateSpline(np.arange(len(az)), np.arange(len(rg)), correction_s['x'])\n",
    "slc_x_correction_s = interpx(az_slc_rel, rg_slc_rel)\n",
    "interpy = RectBivariateSpline(np.arange(len(az)), np.arange(len(rg)), correction_s['y'])\n",
    "slc_y_correction_s = interpy(az_slc_rel, rg_slc_rel)\n",
    "\n",
    "slc_x_correction_pix = slc_x_correction_s / s1_metadata['drg_s']\n",
    "slc_y_correction_pix = slc_y_correction_s / s1_metadata['daz_s']"
   ]
  },
  {
   "cell_type": "code",
   "execution_count": null,
   "metadata": {},
   "outputs": [],
   "source": [
    "fig, ax = plt.subplots(1, 2, figsize=[13,5])\n",
    "\n",
    "img = ax[0].imshow(slc_x_correction_pix, aspect='auto')\n",
    "fig.colorbar(img, ax=ax[0]).set_label('[samples]')\n",
    "ax[0].grid()\n",
    "ax[0].set_xlabel('Range [samples]$')\n",
    "ax[0].set_ylabel('Azimuth [samples]')\n",
    "ax[0].set_title('Range')\n",
    "\n",
    "img = ax[1].imshow(slc_y_correction_pix, aspect='auto')\n",
    "fig.colorbar(img, ax=ax[1]).set_label('[samples]')\n",
    "ax[1].grid()\n",
    "ax[0].set_xlabel('Range [samples]$')\n",
    "ax[0].set_ylabel('Azimuth [samples]')\n",
    "ax[1].set_title('Azimuth')\n",
    "\n",
    "fig.suptitle(f'Sum of corrections for {burst.swath_id} Burst{burst.burst_index:04d}')"
   ]
  },
  {
   "cell_type": "code",
   "execution_count": null,
   "metadata": {},
   "outputs": [],
   "source": [
    "xslice = slice(24995, 25005)\n",
    "yslice = slice(0, 5)\n",
    "fig = plt.figure(figsize=[10, 7])\n",
    "Y, X = np.meshgrid(np.arange(yslice.start, yslice.stop), np.arange(xslice.start, xslice.stop))\n",
    "C = np.hypot(slc_y_correction_pix[yslice, xslice], slc_x_correction_pix[yslice, xslice])\n",
    "plt.scatter(Y, X)\n",
    "plt.quiver(Y, X,\n",
    "           slc_y_correction_pix[yslice, xslice], slc_x_correction_pix[yslice, xslice], C,\n",
    "           scale_units='xy', scale=1, angles='xy')\n",
    "plt.grid()\n",
    "plt.colorbar()"
   ]
  },
  {
   "cell_type": "code",
   "execution_count": null,
   "metadata": {},
   "outputs": [],
   "source": [
    "correction_m['x'].shape"
   ]
  },
  {
   "cell_type": "code",
   "execution_count": null,
   "metadata": {},
   "outputs": [],
   "source": [
    "burst"
   ]
  },
  {
   "cell_type": "code",
   "execution_count": null,
   "metadata": {},
   "outputs": [],
   "source": [
    "burst._grp"
   ]
  },
  {
   "cell_type": "code",
   "execution_count": null,
   "metadata": {},
   "outputs": [],
   "source": [
    "iw1"
   ]
  },
  {
   "cell_type": "code",
   "execution_count": null,
   "metadata": {},
   "outputs": [],
   "source": [
    "b1 = iw1[1]\n",
    "b1._grp"
   ]
  },
  {
   "cell_type": "code",
   "execution_count": null,
   "metadata": {},
   "outputs": [],
   "source": [
    "(2 - 1) * 14 + 1"
   ]
  },
  {
   "cell_type": "code",
   "execution_count": null,
   "metadata": {},
   "outputs": [],
   "source": [
    "len(az), len(rg), az_slc_rel[-1], rg_slc_rel[-1]"
   ]
  },
  {
   "cell_type": "code",
   "execution_count": null,
   "metadata": {},
   "outputs": [],
   "source": [
    "from scipy import ndimage"
   ]
  },
  {
   "cell_type": "code",
   "execution_count": null,
   "metadata": {},
   "outputs": [],
   "source": [
    "ndimage.maximum_position(np.abs(slc_x_correction_pix))"
   ]
  },
  {
   "cell_type": "code",
   "execution_count": null,
   "metadata": {},
   "outputs": [],
   "source": [
    "slc_x_correction_pix.shape"
   ]
  },
  {
   "cell_type": "code",
   "execution_count": null,
   "metadata": {},
   "outputs": [],
   "source": [
    "slc_x_correction_pix[yslice, xslice].shape"
   ]
  },
  {
   "cell_type": "code",
   "execution_count": null,
   "metadata": {},
   "outputs": [],
   "source": [
    "slc_x_correction_pix[yslice, xslice].max(), slc_y_correction_pix[yslice, xslice].max()"
   ]
  },
  {
   "cell_type": "code",
   "execution_count": null,
   "metadata": {},
   "outputs": [],
   "source": [
    "np.arange(slice(3,8)"
   ]
  },
  {
   "cell_type": "code",
   "execution_count": null,
   "metadata": {},
   "outputs": [],
   "source": []
  }
 ],
 "metadata": {
  "kernelspec": {
   "display_name": "Python 3",
   "language": "python",
   "name": "python3"
  },
  "language_info": {
   "codemirror_mode": {
    "name": "ipython",
    "version": 3
   },
   "file_extension": ".py",
   "mimetype": "text/x-python",
   "name": "python",
   "nbconvert_exporter": "python",
   "pygments_lexer": "ipython3",
   "version": "3.7.7"
  }
 },
 "nbformat": 4,
 "nbformat_minor": 4
}
