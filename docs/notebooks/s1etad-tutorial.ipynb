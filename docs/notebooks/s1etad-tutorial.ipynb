{
 "cells": [
  {
   "cell_type": "markdown",
   "metadata": {},
   "source": [
    "# Basic usage"
   ]
  },
  {
   "cell_type": "markdown",
   "metadata": {},
   "source": [
    "## Notebook setup"
   ]
  },
  {
   "cell_type": "code",
   "execution_count": 1,
   "metadata": {},
   "outputs": [],
   "source": [
    "%matplotlib inline\n",
    "%load_ext autoreload\n",
    "%autoreload 2"
   ]
  },
  {
   "cell_type": "code",
   "execution_count": 2,
   "metadata": {},
   "outputs": [],
   "source": [
    "import sys\n",
    "sys.path.append('../..')"
   ]
  },
  {
   "cell_type": "code",
   "execution_count": 3,
   "metadata": {},
   "outputs": [],
   "source": [
    "import numpy as np\n",
    "import matplotlib.pyplot as plt"
   ]
  },
  {
   "cell_type": "code",
   "execution_count": 4,
   "metadata": {},
   "outputs": [],
   "source": [
    "import s1etad\n",
    "from s1etad import Sentinel1Etad, ECorrectionType"
   ]
  },
  {
   "cell_type": "markdown",
   "metadata": {},
   "source": [
    "## Sentinel1Etad product"
   ]
  },
  {
   "cell_type": "code",
   "execution_count": 5,
   "metadata": {},
   "outputs": [],
   "source": [
    "filename = '../../sample-products/S1B_IW_ETA__AXDH_20200127T113414_20200127T113858_020002_025D72_0096.SAFE'"
   ]
  },
  {
   "cell_type": "code",
   "execution_count": 6,
   "metadata": {},
   "outputs": [],
   "source": [
    "eta = Sentinel1Etad(filename)"
   ]
  },
  {
   "cell_type": "code",
   "execution_count": 7,
   "metadata": {},
   "outputs": [
    {
     "data": {
      "text/plain": [
       "Sentinel1Etad(\"../../sample-products/S1B_IW_ETA__AXDH_20200127T113414_20200127T113858_020002_025D72_0096.SAFE\")  # 0x7fd46ed871d0\n",
       "Number of Sentinel-1 slices: 11\n",
       "Sentinel-1 products list:\n",
       "  S1B_IW_SLC__1ADH_20200127T113414_20200127T113444_020002_025D72_FD42.SAFE\n",
       "  S1B_IW_SLC__1ADH_20200127T113442_20200127T113510_020002_025D72_FC8F.SAFE\n",
       "  S1B_IW_SLC__1ADH_20200127T113507_20200127T113534_020002_025D72_78DF.SAFE\n",
       "  S1B_IW_SLC__1ADH_20200127T113532_20200127T113559_020002_025D72_1ABB.SAFE\n",
       "  S1B_IW_SLC__1ADH_20200127T113557_20200127T113624_020002_025D72_6706.SAFE\n",
       "  S1B_IW_SLC__1ADH_20200127T113622_20200127T113649_020002_025D72_78F0.SAFE\n",
       "  S1B_IW_SLC__1ADH_20200127T113647_20200127T113715_020002_025D72_11FB.SAFE\n",
       "  S1B_IW_SLC__1ADH_20200127T113712_20200127T113739_020002_025D72_FCC6.SAFE\n",
       "  S1B_IW_SLC__1ADH_20200127T113737_20200127T113804_020002_025D72_1FED.SAFE\n",
       "  S1B_IW_SLC__1ADH_20200127T113802_20200127T113829_020002_025D72_C434.SAFE\n",
       "  S1B_IW_SLC__1ADH_20200127T113827_20200127T113858_020002_025D72_E443.SAFE\n",
       "Number of swaths: 3\n",
       "Swath list: IW1, IW2, IW3\n",
       "Azimuth time:\n",
       "  min: 2020-01-27 11:34:14.475597\n",
       "  max: 2020-01-27 11:38:58.167033\n",
       "Range time:\n",
       "  min: 0.005371080957826855\n",
       "  max: 0.006416814907377812\n",
       "Grid sampling:\n",
       "  x: 8.081406101630269e-07\n",
       "  y: 0.028777788199999974\n",
       "  unit: s\n",
       "Grid spacing:\n",
       "  x: 200.0\n",
       "  y: 200.0\n",
       "  unit: m\n",
       "Processing settings:\n",
       "  troposphericDelayCorrection: True\n",
       "  ionosphericDelayCorrection: True\n",
       "  solidEarthTideCorrection: True\n",
       "  bistaticAzimuthCorrection: True\n",
       "  dopplerShiftRangeCorrection: True\n",
       "  FMMismatchAzimuthCorrection: True"
      ]
     },
     "execution_count": 7,
     "metadata": {},
     "output_type": "execute_result"
    }
   ],
   "source": [
    "eta"
   ]
  },
  {
   "cell_type": "markdown",
   "metadata": {},
   "source": [
    "### Check which corrections have been enabled"
   ]
  },
  {
   "cell_type": "code",
   "execution_count": 8,
   "metadata": {},
   "outputs": [
    {
     "data": {
      "text/plain": [
       "{'troposphericDelayCorrection': True,\n",
       " 'ionosphericDelayCorrection': True,\n",
       " 'solidEarthTideCorrection': True,\n",
       " 'bistaticAzimuthCorrection': True,\n",
       " 'dopplerShiftRangeCorrection': True,\n",
       " 'FMMismatchAzimuthCorrection': True}"
      ]
     },
     "execution_count": 8,
     "metadata": {},
     "output_type": "execute_result"
    }
   ],
   "source": [
    "eta.processing_setting()"
   ]
  },
  {
   "cell_type": "markdown",
   "metadata": {},
   "source": [
    "### The burst catalogue"
   ]
  },
  {
   "cell_type": "markdown",
   "metadata": {},
   "source": [
    "It is a pandas dataframe to allow easy filtering.\n",
    "\n",
    "See also use cases in the \"Use case 1: Selecting the bursts\" section for a more complete explanation on the burst catalogue and the query mechanism."
   ]
  },
  {
   "cell_type": "code",
   "execution_count": 9,
   "metadata": {},
   "outputs": [
    {
     "data": {
      "text/html": [
       "<div>\n",
       "<style scoped>\n",
       "    .dataframe tbody tr th:only-of-type {\n",
       "        vertical-align: middle;\n",
       "    }\n",
       "\n",
       "    .dataframe tbody tr th {\n",
       "        vertical-align: top;\n",
       "    }\n",
       "\n",
       "    .dataframe thead th {\n",
       "        text-align: right;\n",
       "    }\n",
       "</style>\n",
       "<table border=\"1\" class=\"dataframe\">\n",
       "  <thead>\n",
       "    <tr style=\"text-align: right;\">\n",
       "      <th></th>\n",
       "      <th>bIndex</th>\n",
       "      <th>pIndex</th>\n",
       "      <th>sIndex</th>\n",
       "      <th>productID</th>\n",
       "      <th>swathID</th>\n",
       "      <th>azimuthTimeMin</th>\n",
       "      <th>azimuthTimeMax</th>\n",
       "    </tr>\n",
       "  </thead>\n",
       "  <tbody>\n",
       "    <tr>\n",
       "      <th>0</th>\n",
       "      <td>1</td>\n",
       "      <td>1</td>\n",
       "      <td>1</td>\n",
       "      <td>S1B_IW_SLC__1ADH_20200127T113414_20200127T1134...</td>\n",
       "      <td>IW1</td>\n",
       "      <td>2020-01-27 11:34:14.475597000</td>\n",
       "      <td>2020-01-27 11:34:17.641153701</td>\n",
       "    </tr>\n",
       "    <tr>\n",
       "      <th>1</th>\n",
       "      <td>4</td>\n",
       "      <td>1</td>\n",
       "      <td>1</td>\n",
       "      <td>S1B_IW_SLC__1ADH_20200127T113414_20200127T1134...</td>\n",
       "      <td>IW1</td>\n",
       "      <td>2020-01-27 11:34:17.209486879</td>\n",
       "      <td>2020-01-27 11:34:20.403821369</td>\n",
       "    </tr>\n",
       "    <tr>\n",
       "      <th>2</th>\n",
       "      <td>7</td>\n",
       "      <td>1</td>\n",
       "      <td>1</td>\n",
       "      <td>S1B_IW_SLC__1ADH_20200127T113414_20200127T1134...</td>\n",
       "      <td>IW1</td>\n",
       "      <td>2020-01-27 11:34:19.972154546</td>\n",
       "      <td>2020-01-27 11:34:23.166489036</td>\n",
       "    </tr>\n",
       "    <tr>\n",
       "      <th>3</th>\n",
       "      <td>10</td>\n",
       "      <td>1</td>\n",
       "      <td>1</td>\n",
       "      <td>S1B_IW_SLC__1ADH_20200127T113414_20200127T1134...</td>\n",
       "      <td>IW1</td>\n",
       "      <td>2020-01-27 11:34:22.734822213</td>\n",
       "      <td>2020-01-27 11:34:25.929156703</td>\n",
       "    </tr>\n",
       "    <tr>\n",
       "      <th>4</th>\n",
       "      <td>13</td>\n",
       "      <td>1</td>\n",
       "      <td>1</td>\n",
       "      <td>S1B_IW_SLC__1ADH_20200127T113414_20200127T1134...</td>\n",
       "      <td>IW1</td>\n",
       "      <td>2020-01-27 11:34:25.497489880</td>\n",
       "      <td>2020-01-27 11:34:28.663046582</td>\n",
       "    </tr>\n",
       "  </tbody>\n",
       "</table>\n",
       "</div>"
      ],
      "text/plain": [
       "   bIndex  pIndex  sIndex                                          productID  \\\n",
       "0       1       1       1  S1B_IW_SLC__1ADH_20200127T113414_20200127T1134...   \n",
       "1       4       1       1  S1B_IW_SLC__1ADH_20200127T113414_20200127T1134...   \n",
       "2       7       1       1  S1B_IW_SLC__1ADH_20200127T113414_20200127T1134...   \n",
       "3      10       1       1  S1B_IW_SLC__1ADH_20200127T113414_20200127T1134...   \n",
       "4      13       1       1  S1B_IW_SLC__1ADH_20200127T113414_20200127T1134...   \n",
       "\n",
       "  swathID                azimuthTimeMin                azimuthTimeMax  \n",
       "0     IW1 2020-01-27 11:34:14.475597000 2020-01-27 11:34:17.641153701  \n",
       "1     IW1 2020-01-27 11:34:17.209486879 2020-01-27 11:34:20.403821369  \n",
       "2     IW1 2020-01-27 11:34:19.972154546 2020-01-27 11:34:23.166489036  \n",
       "3     IW1 2020-01-27 11:34:22.734822213 2020-01-27 11:34:25.929156703  \n",
       "4     IW1 2020-01-27 11:34:25.497489880 2020-01-27 11:34:28.663046582  "
      ]
     },
     "execution_count": 9,
     "metadata": {},
     "output_type": "execute_result"
    }
   ],
   "source": [
    "eta.burst_catalogue.head()"
   ]
  },
  {
   "cell_type": "markdown",
   "metadata": {},
   "source": [
    "**Tip**: the total number of bursts in a product can be retrieved as follows:"
   ]
  },
  {
   "cell_type": "code",
   "execution_count": 10,
   "metadata": {},
   "outputs": [
    {
     "name": "stdout",
     "output_type": "stream",
     "text": [
      "Total number of bursts: 306\n"
     ]
    }
   ],
   "source": [
    "print('Total number of bursts:', len(eta.burst_catalogue))"
   ]
  },
  {
   "cell_type": "markdown",
   "metadata": {},
   "source": [
    "## Swath objects"
   ]
  },
  {
   "cell_type": "markdown",
   "metadata": {},
   "source": [
    "### How many swaths are stored in a product?"
   ]
  },
  {
   "cell_type": "code",
   "execution_count": 11,
   "metadata": {},
   "outputs": [
    {
     "name": "stdout",
     "output_type": "stream",
     "text": [
      "Number of swaths: 3\n",
      "Swath list: ['IW1', 'IW2', 'IW3']\n"
     ]
    }
   ],
   "source": [
    "print('Number of swaths:', eta.number_of_swath)\n",
    "print('Swath list:', eta.swath_list)"
   ]
  },
  {
   "cell_type": "markdown",
   "metadata": {},
   "source": [
    "### How to retrieve a Sentinel1EtadSwath object"
   ]
  },
  {
   "cell_type": "code",
   "execution_count": 12,
   "metadata": {},
   "outputs": [],
   "source": [
    "swath = eta['IW2']"
   ]
  },
  {
   "cell_type": "code",
   "execution_count": 13,
   "metadata": {},
   "outputs": [
    {
     "data": {
      "text/plain": [
       "Sentinel1EtadSwath(\"/IW2\")  0x7fd457cf9a90\n",
       "Swaths ID: IW2\n",
       "Number of bursts: 102\n",
       "Burst list: [2, 5, 8, 11, 14, 17, 20, 23, 26, 29, 32, 35, 38, 41, 44, 47, 50, 53, 56, 59, 62, 65, 68, 71, 74, 77, 80, 83, 86, 89, 92, 95, 98, 101, 104, 107, 110, 113, 116, 119, 122, 125, 128, 131, 134, 137, 140, 143, 146, 149, 152, 155, 158, 161, 164, 167, 170, 173, 176, 179, 182, 185, 188, 191, 194, 197, 200, 203, 206, 209, 212, 215, 218, 221, 224, 227, 230, 233, 236, 239, 242, 245, 248, 251, 254, 257, 260, 263, 266, 269, 272, 275, 278, 281, 284, 287, 290, 293, 296, 299, 302, 305]\n",
       "Sampling start:\n",
       "  x: 0.00030628529125177\n",
       "  y: 0.920889222400092\n",
       "  units: s\n",
       "Sampling:\n",
       "  x: 8.081406101630269e-07\n",
       "  y: 0.028777788199999974\n",
       "  units: s"
      ]
     },
     "execution_count": 13,
     "metadata": {},
     "output_type": "execute_result"
    }
   ],
   "source": [
    "swath"
   ]
  },
  {
   "cell_type": "markdown",
   "metadata": {},
   "source": [
    "## Burst objects"
   ]
  },
  {
   "cell_type": "code",
   "execution_count": 14,
   "metadata": {},
   "outputs": [],
   "source": [
    "burst = swath[2]"
   ]
  },
  {
   "cell_type": "code",
   "execution_count": 15,
   "metadata": {},
   "outputs": [
    {
     "data": {
      "text/plain": [
       "Sentinel1EtadBurst(\"/IW2/Burst0002\")  0x7fd45a0065d0\n",
       "Swaths ID: IW2\n",
       "Burst index: 2\n",
       "Shape: (113, 479)\n",
       "Sampling start:\n",
       "  x: 0.00030628529125177\n",
       "  y: 0.920889222400092\n",
       "  units: s\n",
       "Sampling:\n",
       "  x: 8.081406101630269e-07\n",
       "  y: 0.028777788199999974\n",
       "  units: s"
      ]
     },
     "execution_count": 15,
     "metadata": {},
     "output_type": "execute_result"
    }
   ],
   "source": [
    "burst"
   ]
  },
  {
   "cell_type": "markdown",
   "metadata": {},
   "source": [
    "**NOTE**: one can only get bursts whose index is present in the \"burst list\" of the swath"
   ]
  },
  {
   "cell_type": "code",
   "execution_count": 16,
   "metadata": {},
   "outputs": [
    {
     "data": {
      "text/plain": [
       "[2,\n",
       " 5,\n",
       " 8,\n",
       " 11,\n",
       " 14,\n",
       " 17,\n",
       " 20,\n",
       " 23,\n",
       " 26,\n",
       " 29,\n",
       " 32,\n",
       " 35,\n",
       " 38,\n",
       " 41,\n",
       " 44,\n",
       " 47,\n",
       " 50,\n",
       " 53,\n",
       " 56,\n",
       " 59,\n",
       " 62,\n",
       " 65,\n",
       " 68,\n",
       " 71,\n",
       " 74,\n",
       " 77,\n",
       " 80,\n",
       " 83,\n",
       " 86,\n",
       " 89,\n",
       " 92,\n",
       " 95,\n",
       " 98,\n",
       " 101,\n",
       " 104,\n",
       " 107,\n",
       " 110,\n",
       " 113,\n",
       " 116,\n",
       " 119,\n",
       " 122,\n",
       " 125,\n",
       " 128,\n",
       " 131,\n",
       " 134,\n",
       " 137,\n",
       " 140,\n",
       " 143,\n",
       " 146,\n",
       " 149,\n",
       " 152,\n",
       " 155,\n",
       " 158,\n",
       " 161,\n",
       " 164,\n",
       " 167,\n",
       " 170,\n",
       " 173,\n",
       " 176,\n",
       " 179,\n",
       " 182,\n",
       " 185,\n",
       " 188,\n",
       " 191,\n",
       " 194,\n",
       " 197,\n",
       " 200,\n",
       " 203,\n",
       " 206,\n",
       " 209,\n",
       " 212,\n",
       " 215,\n",
       " 218,\n",
       " 221,\n",
       " 224,\n",
       " 227,\n",
       " 230,\n",
       " 233,\n",
       " 236,\n",
       " 239,\n",
       " 242,\n",
       " 245,\n",
       " 248,\n",
       " 251,\n",
       " 254,\n",
       " 257,\n",
       " 260,\n",
       " 263,\n",
       " 266,\n",
       " 269,\n",
       " 272,\n",
       " 275,\n",
       " 278,\n",
       " 281,\n",
       " 284,\n",
       " 287,\n",
       " 290,\n",
       " 293,\n",
       " 296,\n",
       " 299,\n",
       " 302,\n",
       " 305]"
      ]
     },
     "execution_count": 16,
     "metadata": {},
     "output_type": "execute_result"
    }
   ],
   "source": [
    "swath.burst_list"
   ]
  },
  {
   "cell_type": "code",
   "execution_count": 17,
   "metadata": {},
   "outputs": [
    {
     "name": "stdout",
     "output_type": "stream",
     "text": [
      "ERROR: Ops someting went wrong: IndexError('Burst0001 not found in /IW2')\n"
     ]
    }
   ],
   "source": [
    "try:\n",
    "    swath[1]\n",
    "except IndexError as exc:\n",
    "    print('ERROR: Ops someting went wrong:', repr(exc))"
   ]
  },
  {
   "cell_type": "markdown",
   "metadata": {},
   "source": [
    "## String representation"
   ]
  },
  {
   "cell_type": "markdown",
   "metadata": {},
   "source": [
    "Please note that the string representation of Sentinel1Etad object is a \"one-line\" string providing only basic information:"
   ]
  },
  {
   "cell_type": "code",
   "execution_count": 18,
   "metadata": {},
   "outputs": [
    {
     "name": "stdout",
     "output_type": "stream",
     "text": [
      "Product: Sentinel1Etad(\"S1B_IW_ETA__AXDH_20200127T113414_20200127T113858_020002_025D72_0096.SAFE\")\n",
      "Swath: Sentinel1EtadSwath(\"/IW2\")  0x7fd457cf9a90\n",
      "Burst: Sentinel1EtadBurst(\"/IW2/Burst0002\")  0x7fd45a0065d0\n"
     ]
    }
   ],
   "source": [
    "print('Product:', str(eta))\n",
    "print('Swath:', str(swath))\n",
    "print('Burst:', str(burst))"
   ]
  },
  {
   "cell_type": "markdown",
   "metadata": {},
   "source": [
    "Anyway in Jupyter environments a richer representation is also available:"
   ]
  },
  {
   "cell_type": "code",
   "execution_count": 19,
   "metadata": {},
   "outputs": [
    {
     "data": {
      "text/plain": [
       "Sentinel1Etad(\"../../sample-products/S1B_IW_ETA__AXDH_20200127T113414_20200127T113858_020002_025D72_0096.SAFE\")  # 0x7fd46ed871d0\n",
       "Number of Sentinel-1 slices: 11\n",
       "Sentinel-1 products list:\n",
       "  S1B_IW_SLC__1ADH_20200127T113414_20200127T113444_020002_025D72_FD42.SAFE\n",
       "  S1B_IW_SLC__1ADH_20200127T113442_20200127T113510_020002_025D72_FC8F.SAFE\n",
       "  S1B_IW_SLC__1ADH_20200127T113507_20200127T113534_020002_025D72_78DF.SAFE\n",
       "  S1B_IW_SLC__1ADH_20200127T113532_20200127T113559_020002_025D72_1ABB.SAFE\n",
       "  S1B_IW_SLC__1ADH_20200127T113557_20200127T113624_020002_025D72_6706.SAFE\n",
       "  S1B_IW_SLC__1ADH_20200127T113622_20200127T113649_020002_025D72_78F0.SAFE\n",
       "  S1B_IW_SLC__1ADH_20200127T113647_20200127T113715_020002_025D72_11FB.SAFE\n",
       "  S1B_IW_SLC__1ADH_20200127T113712_20200127T113739_020002_025D72_FCC6.SAFE\n",
       "  S1B_IW_SLC__1ADH_20200127T113737_20200127T113804_020002_025D72_1FED.SAFE\n",
       "  S1B_IW_SLC__1ADH_20200127T113802_20200127T113829_020002_025D72_C434.SAFE\n",
       "  S1B_IW_SLC__1ADH_20200127T113827_20200127T113858_020002_025D72_E443.SAFE\n",
       "Number of swaths: 3\n",
       "Swath list: IW1, IW2, IW3\n",
       "Azimuth time:\n",
       "  min: 2020-01-27 11:34:14.475597\n",
       "  max: 2020-01-27 11:38:58.167033\n",
       "Range time:\n",
       "  min: 0.005371080957826855\n",
       "  max: 0.006416814907377812\n",
       "Grid sampling:\n",
       "  x: 8.081406101630269e-07\n",
       "  y: 0.028777788199999974\n",
       "  unit: s\n",
       "Grid spacing:\n",
       "  x: 200.0\n",
       "  y: 200.0\n",
       "  unit: m\n",
       "Processing settings:\n",
       "  troposphericDelayCorrection: True\n",
       "  ionosphericDelayCorrection: True\n",
       "  solidEarthTideCorrection: True\n",
       "  bistaticAzimuthCorrection: True\n",
       "  dopplerShiftRangeCorrection: True\n",
       "  FMMismatchAzimuthCorrection: True"
      ]
     },
     "execution_count": 19,
     "metadata": {},
     "output_type": "execute_result"
    }
   ],
   "source": [
    "eta"
   ]
  },
  {
   "cell_type": "markdown",
   "metadata": {},
   "source": [
    "## Iteration"
   ]
  },
  {
   "cell_type": "markdown",
   "metadata": {},
   "source": [
    "It is possible to iterate over products and swats in the same way one does it with any other python container."
   ]
  },
  {
   "cell_type": "code",
   "execution_count": 20,
   "metadata": {},
   "outputs": [
    {
     "name": "stdout",
     "output_type": "stream",
     "text": [
      "Sentinel1EtadSwath(\"/IW1\")  0x7fd45a015490\n",
      "1 IW1 Sentinel1EtadBurst(\"/IW1/Burst0001\")  0x7fd45a015610\n",
      "4 IW1 Sentinel1EtadBurst(\"/IW1/Burst0004\")  0x7fd45a015bd0\n",
      "7 IW1 Sentinel1EtadBurst(\"/IW1/Burst0007\")  0x7fd45a015fd0\n",
      "10 IW1 Sentinel1EtadBurst(\"/IW1/Burst0010\")  0x7fd45a018410\n",
      "13 IW1 Sentinel1EtadBurst(\"/IW1/Burst0013\")  0x7fd45a011990\n",
      "16 IW1 Sentinel1EtadBurst(\"/IW1/Burst0016\")  0x7fd45a015e50\n",
      "19 IW1 Sentinel1EtadBurst(\"/IW1/Burst0019\")  0x7fd45a015950\n",
      "22 IW1 Sentinel1EtadBurst(\"/IW1/Burst0022\")  0x7fd45a00f550\n",
      "25 IW1 Sentinel1EtadBurst(\"/IW1/Burst0025\")  0x7fd45a015f50\n",
      "28 IW1 Sentinel1EtadBurst(\"/IW1/Burst0028\")  0x7fd45a00f3d0\n",
      "31 IW1 Sentinel1EtadBurst(\"/IW1/Burst0031\")  0x7fd45a00ab50\n",
      "34 IW1 Sentinel1EtadBurst(\"/IW1/Burst0034\")  0x7fd45a00fc90\n",
      "37 IW1 Sentinel1EtadBurst(\"/IW1/Burst0037\")  0x7fd45a00f6d0\n",
      "40 IW1 Sentinel1EtadBurst(\"/IW1/Burst0040\")  0x7fd45a015cd0\n",
      "43 IW1 Sentinel1EtadBurst(\"/IW1/Burst0043\")  0x7fd45a015a90\n",
      "46 IW1 Sentinel1EtadBurst(\"/IW1/Burst0046\")  0x7fd45a00a710\n",
      "49 IW1 Sentinel1EtadBurst(\"/IW1/Burst0049\")  0x7fd45a006f90\n",
      "52 IW1 Sentinel1EtadBurst(\"/IW1/Burst0052\")  0x7fd45a006790\n",
      "55 IW1 Sentinel1EtadBurst(\"/IW1/Burst0055\")  0x7fd457cf9dd0\n",
      "58 IW1 Sentinel1EtadBurst(\"/IW1/Burst0058\")  0x7fd45a006a90\n",
      "61 IW1 Sentinel1EtadBurst(\"/IW1/Burst0061\")  0x7fd45a006b90\n",
      "64 IW1 Sentinel1EtadBurst(\"/IW1/Burst0064\")  0x7fd45a00a290\n",
      "67 IW1 Sentinel1EtadBurst(\"/IW1/Burst0067\")  0x7fd45a00a0d0\n",
      "70 IW1 Sentinel1EtadBurst(\"/IW1/Burst0070\")  0x7fd45a00a610\n",
      "73 IW1 Sentinel1EtadBurst(\"/IW1/Burst0073\")  0x7fd45a015a50\n",
      "76 IW1 Sentinel1EtadBurst(\"/IW1/Burst0076\")  0x7fd45a006150\n",
      "79 IW1 Sentinel1EtadBurst(\"/IW1/Burst0079\")  0x7fd45a00a4d0\n",
      "82 IW1 Sentinel1EtadBurst(\"/IW1/Burst0082\")  0x7fd45a006690\n",
      "85 IW1 Sentinel1EtadBurst(\"/IW1/Burst0085\")  0x7fd45a015f10\n",
      "88 IW1 Sentinel1EtadBurst(\"/IW1/Burst0088\")  0x7fd45a00f5d0\n",
      "91 IW1 Sentinel1EtadBurst(\"/IW1/Burst0091\")  0x7fd45a00f410\n",
      "94 IW1 Sentinel1EtadBurst(\"/IW1/Burst0094\")  0x7fd457cf9d50\n",
      "97 IW1 Sentinel1EtadBurst(\"/IW1/Burst0097\")  0x7fd457cf9cd0\n",
      "100 IW1 Sentinel1EtadBurst(\"/IW1/Burst0100\")  0x7fd457cf9510\n",
      "103 IW1 Sentinel1EtadBurst(\"/IW1/Burst0103\")  0x7fd457cf9b10\n",
      "106 IW1 Sentinel1EtadBurst(\"/IW1/Burst0106\")  0x7fd457cf9790\n",
      "109 IW1 Sentinel1EtadBurst(\"/IW1/Burst0109\")  0x7fd457cf9d10\n",
      "112 IW1 Sentinel1EtadBurst(\"/IW1/Burst0112\")  0x7fd457cf9250\n",
      "115 IW1 Sentinel1EtadBurst(\"/IW1/Burst0115\")  0x7fd457cf9c90\n",
      "118 IW1 Sentinel1EtadBurst(\"/IW1/Burst0118\")  0x7fd457ca5a10\n",
      "121 IW1 Sentinel1EtadBurst(\"/IW1/Burst0121\")  0x7fd457ca5450\n",
      "124 IW1 Sentinel1EtadBurst(\"/IW1/Burst0124\")  0x7fd457ca5050\n",
      "127 IW1 Sentinel1EtadBurst(\"/IW1/Burst0127\")  0x7fd46ed12990\n",
      "130 IW1 Sentinel1EtadBurst(\"/IW1/Burst0130\")  0x7fd457cba050\n",
      "133 IW1 Sentinel1EtadBurst(\"/IW1/Burst0133\")  0x7fd457ca5910\n",
      "136 IW1 Sentinel1EtadBurst(\"/IW1/Burst0136\")  0x7fd46d51bf90\n",
      "139 IW1 Sentinel1EtadBurst(\"/IW1/Burst0139\")  0x7fd46ed72ed0\n",
      "142 IW1 Sentinel1EtadBurst(\"/IW1/Burst0142\")  0x7fd46c8de7d0\n",
      "145 IW1 Sentinel1EtadBurst(\"/IW1/Burst0145\")  0x7fd46ed7ddd0\n",
      "148 IW1 Sentinel1EtadBurst(\"/IW1/Burst0148\")  0x7fd457ca5990\n",
      "151 IW1 Sentinel1EtadBurst(\"/IW1/Burst0151\")  0x7fd457ccbd10\n",
      "154 IW1 Sentinel1EtadBurst(\"/IW1/Burst0154\")  0x7fd45a018650\n",
      "157 IW1 Sentinel1EtadBurst(\"/IW1/Burst0157\")  0x7fd45a018550\n",
      "160 IW1 Sentinel1EtadBurst(\"/IW1/Burst0160\")  0x7fd45a018350\n",
      "163 IW1 Sentinel1EtadBurst(\"/IW1/Burst0163\")  0x7fd45a018810\n",
      "166 IW1 Sentinel1EtadBurst(\"/IW1/Burst0166\")  0x7fd45a018150\n",
      "169 IW1 Sentinel1EtadBurst(\"/IW1/Burst0169\")  0x7fd45a018250\n",
      "172 IW1 Sentinel1EtadBurst(\"/IW1/Burst0172\")  0x7fd45a0184d0\n",
      "175 IW1 Sentinel1EtadBurst(\"/IW1/Burst0175\")  0x7fd45a018b90\n",
      "178 IW1 Sentinel1EtadBurst(\"/IW1/Burst0178\")  0x7fd45a018750\n",
      "181 IW1 Sentinel1EtadBurst(\"/IW1/Burst0181\")  0x7fd45a018e10\n",
      "184 IW1 Sentinel1EtadBurst(\"/IW1/Burst0184\")  0x7fd45a018590\n",
      "187 IW1 Sentinel1EtadBurst(\"/IW1/Burst0187\")  0x7fd45a01a050\n",
      "190 IW1 Sentinel1EtadBurst(\"/IW1/Burst0190\")  0x7fd45a0181d0\n",
      "193 IW1 Sentinel1EtadBurst(\"/IW1/Burst0193\")  0x7fd45a01a250\n",
      "196 IW1 Sentinel1EtadBurst(\"/IW1/Burst0196\")  0x7fd45a018f10\n",
      "199 IW1 Sentinel1EtadBurst(\"/IW1/Burst0199\")  0x7fd45a01a450\n",
      "202 IW1 Sentinel1EtadBurst(\"/IW1/Burst0202\")  0x7fd45a01a310\n",
      "205 IW1 Sentinel1EtadBurst(\"/IW1/Burst0205\")  0x7fd45a01a0d0\n",
      "208 IW1 Sentinel1EtadBurst(\"/IW1/Burst0208\")  0x7fd45a01a290\n",
      "211 IW1 Sentinel1EtadBurst(\"/IW1/Burst0211\")  0x7fd45a01a550\n",
      "214 IW1 Sentinel1EtadBurst(\"/IW1/Burst0214\")  0x7fd45a01a950\n",
      "217 IW1 Sentinel1EtadBurst(\"/IW1/Burst0217\")  0x7fd45a01ad50\n",
      "220 IW1 Sentinel1EtadBurst(\"/IW1/Burst0220\")  0x7fd45a01b190\n",
      "223 IW1 Sentinel1EtadBurst(\"/IW1/Burst0223\")  0x7fd45a01aad0\n",
      "226 IW1 Sentinel1EtadBurst(\"/IW1/Burst0226\")  0x7fd45a01a8d0\n",
      "229 IW1 Sentinel1EtadBurst(\"/IW1/Burst0229\")  0x7fd45a01a7d0\n",
      "232 IW1 Sentinel1EtadBurst(\"/IW1/Burst0232\")  0x7fd45a01a6d0\n",
      "235 IW1 Sentinel1EtadBurst(\"/IW1/Burst0235\")  0x7fd45a01a650\n",
      "238 IW1 Sentinel1EtadBurst(\"/IW1/Burst0238\")  0x7fd45a01ac10\n",
      "241 IW1 Sentinel1EtadBurst(\"/IW1/Burst0241\")  0x7fd45a01b0d0\n",
      "244 IW1 Sentinel1EtadBurst(\"/IW1/Burst0244\")  0x7fd45a01b510\n",
      "247 IW1 Sentinel1EtadBurst(\"/IW1/Burst0247\")  0x7fd45a01a190\n",
      "250 IW1 Sentinel1EtadBurst(\"/IW1/Burst0250\")  0x7fd45a01b450\n",
      "253 IW1 Sentinel1EtadBurst(\"/IW1/Burst0253\")  0x7fd45a01b690\n",
      "256 IW1 Sentinel1EtadBurst(\"/IW1/Burst0256\")  0x7fd45a01b610\n",
      "259 IW1 Sentinel1EtadBurst(\"/IW1/Burst0259\")  0x7fd45a01b250\n",
      "262 IW1 Sentinel1EtadBurst(\"/IW1/Burst0262\")  0x7fd45a01b2d0\n",
      "265 IW1 Sentinel1EtadBurst(\"/IW1/Burst0265\")  0x7fd45a01b790\n",
      "268 IW1 Sentinel1EtadBurst(\"/IW1/Burst0268\")  0x7fd45a01b890\n",
      "271 IW1 Sentinel1EtadBurst(\"/IW1/Burst0271\")  0x7fd45a01b990\n",
      "274 IW1 Sentinel1EtadBurst(\"/IW1/Burst0274\")  0x7fd45a01ba90\n",
      "277 IW1 Sentinel1EtadBurst(\"/IW1/Burst0277\")  0x7fd45a01bb90\n",
      "280 IW1 Sentinel1EtadBurst(\"/IW1/Burst0280\")  0x7fd45a01bc90\n",
      "283 IW1 Sentinel1EtadBurst(\"/IW1/Burst0283\")  0x7fd45a01bd90\n",
      "286 IW1 Sentinel1EtadBurst(\"/IW1/Burst0286\")  0x7fd45a01bc10\n",
      "289 IW1 Sentinel1EtadBurst(\"/IW1/Burst0289\")  0x7fd45a01bf90\n",
      "292 IW1 Sentinel1EtadBurst(\"/IW1/Burst0292\")  0x7fd45a0193d0\n",
      "295 IW1 Sentinel1EtadBurst(\"/IW1/Burst0295\")  0x7fd45a019290\n",
      "298 IW1 Sentinel1EtadBurst(\"/IW1/Burst0298\")  0x7fd45a019190\n",
      "301 IW1 Sentinel1EtadBurst(\"/IW1/Burst0301\")  0x7fd45a019090\n",
      "304 IW1 Sentinel1EtadBurst(\"/IW1/Burst0304\")  0x7fd45a0194d0\n",
      "\n",
      "Sentinel1EtadSwath(\"/IW2\")  0x7fd457cf9a90\n",
      "2 IW2 Sentinel1EtadBurst(\"/IW2/Burst0002\")  0x7fd45a0065d0\n",
      "5 IW2 Sentinel1EtadBurst(\"/IW2/Burst0005\")  0x7fd45a019050\n",
      "8 IW2 Sentinel1EtadBurst(\"/IW2/Burst0008\")  0x7fd45a019750\n",
      "11 IW2 Sentinel1EtadBurst(\"/IW2/Burst0011\")  0x7fd45a019210\n",
      "14 IW2 Sentinel1EtadBurst(\"/IW2/Burst0014\")  0x7fd45a019950\n",
      "17 IW2 Sentinel1EtadBurst(\"/IW2/Burst0017\")  0x7fd45a019a50\n",
      "20 IW2 Sentinel1EtadBurst(\"/IW2/Burst0020\")  0x7fd45a019b50\n",
      "23 IW2 Sentinel1EtadBurst(\"/IW2/Burst0023\")  0x7fd45a019bd0\n",
      "26 IW2 Sentinel1EtadBurst(\"/IW2/Burst0026\")  0x7fd45a019d50\n",
      "29 IW2 Sentinel1EtadBurst(\"/IW2/Burst0029\")  0x7fd45a019e50\n",
      "32 IW2 Sentinel1EtadBurst(\"/IW2/Burst0032\")  0x7fd45a019ed0\n",
      "35 IW2 Sentinel1EtadBurst(\"/IW2/Burst0035\")  0x7fd45a0190d0\n",
      "38 IW2 Sentinel1EtadBurst(\"/IW2/Burst0038\")  0x7fd45a01d190\n",
      "41 IW2 Sentinel1EtadBurst(\"/IW2/Burst0041\")  0x7fd45a01d290\n",
      "44 IW2 Sentinel1EtadBurst(\"/IW2/Burst0044\")  0x7fd45a01d390\n",
      "47 IW2 Sentinel1EtadBurst(\"/IW2/Burst0047\")  0x7fd45a01d490\n",
      "50 IW2 Sentinel1EtadBurst(\"/IW2/Burst0050\")  0x7fd45a01d590\n",
      "53 IW2 Sentinel1EtadBurst(\"/IW2/Burst0053\")  0x7fd45a01d690\n",
      "56 IW2 Sentinel1EtadBurst(\"/IW2/Burst0056\")  0x7fd45a01d790\n",
      "59 IW2 Sentinel1EtadBurst(\"/IW2/Burst0059\")  0x7fd45a01d810\n",
      "62 IW2 Sentinel1EtadBurst(\"/IW2/Burst0062\")  0x7fd45a01d990\n",
      "65 IW2 Sentinel1EtadBurst(\"/IW2/Burst0065\")  0x7fd45a01da90\n",
      "68 IW2 Sentinel1EtadBurst(\"/IW2/Burst0068\")  0x7fd45a01db90\n",
      "71 IW2 Sentinel1EtadBurst(\"/IW2/Burst0071\")  0x7fd45a01dc90\n",
      "74 IW2 Sentinel1EtadBurst(\"/IW2/Burst0074\")  0x7fd45a01dd90\n",
      "77 IW2 Sentinel1EtadBurst(\"/IW2/Burst0077\")  0x7fd45a01de90\n",
      "80 IW2 Sentinel1EtadBurst(\"/IW2/Burst0080\")  0x7fd45a0222d0\n",
      "83 IW2 Sentinel1EtadBurst(\"/IW2/Burst0083\")  0x7fd45a022650\n",
      "86 IW2 Sentinel1EtadBurst(\"/IW2/Burst0086\")  0x7fd45a022290\n",
      "89 IW2 Sentinel1EtadBurst(\"/IW2/Burst0089\")  0x7fd45a0225d0\n",
      "92 IW2 Sentinel1EtadBurst(\"/IW2/Burst0092\")  0x7fd45a022590\n",
      "95 IW2 Sentinel1EtadBurst(\"/IW2/Burst0095\")  0x7fd45a0221d0\n",
      "98 IW2 Sentinel1EtadBurst(\"/IW2/Burst0098\")  0x7fd45a022390\n",
      "101 IW2 Sentinel1EtadBurst(\"/IW2/Burst0101\")  0x7fd45a022410\n",
      "104 IW2 Sentinel1EtadBurst(\"/IW2/Burst0104\")  0x7fd45a022490\n",
      "107 IW2 Sentinel1EtadBurst(\"/IW2/Burst0107\")  0x7fd45a022510\n",
      "110 IW2 Sentinel1EtadBurst(\"/IW2/Burst0110\")  0x7fd45a0227d0\n",
      "113 IW2 Sentinel1EtadBurst(\"/IW2/Burst0113\")  0x7fd45a022110\n",
      "116 IW2 Sentinel1EtadBurst(\"/IW2/Burst0116\")  0x7fd45a022550\n",
      "119 IW2 Sentinel1EtadBurst(\"/IW2/Burst0119\")  0x7fd45a022210\n",
      "122 IW2 Sentinel1EtadBurst(\"/IW2/Burst0122\")  0x7fd45a022350\n",
      "125 IW2 Sentinel1EtadBurst(\"/IW2/Burst0125\")  0x7fd45a022450\n",
      "128 IW2 Sentinel1EtadBurst(\"/IW2/Burst0128\")  0x7fd45a022790\n",
      "131 IW2 Sentinel1EtadBurst(\"/IW2/Burst0131\")  0x7fd45a0223d0\n",
      "134 IW2 Sentinel1EtadBurst(\"/IW2/Burst0134\")  0x7fd45a0228d0\n",
      "137 IW2 Sentinel1EtadBurst(\"/IW2/Burst0137\")  0x7fd45a022950\n",
      "140 IW2 Sentinel1EtadBurst(\"/IW2/Burst0140\")  0x7fd45a022cd0\n",
      "143 IW2 Sentinel1EtadBurst(\"/IW2/Burst0143\")  0x7fd45a022050\n",
      "146 IW2 Sentinel1EtadBurst(\"/IW2/Burst0146\")  0x7fd45a022690\n",
      "149 IW2 Sentinel1EtadBurst(\"/IW2/Burst0149\")  0x7fd45a022e50\n",
      "152 IW2 Sentinel1EtadBurst(\"/IW2/Burst0152\")  0x7fd45a025210\n",
      "155 IW2 Sentinel1EtadBurst(\"/IW2/Burst0155\")  0x7fd45a025590\n",
      "158 IW2 Sentinel1EtadBurst(\"/IW2/Burst0158\")  0x7fd45a025910\n",
      "161 IW2 Sentinel1EtadBurst(\"/IW2/Burst0161\")  0x7fd45a022190\n",
      "164 IW2 Sentinel1EtadBurst(\"/IW2/Burst0164\")  0x7fd45a022a50\n",
      "167 IW2 Sentinel1EtadBurst(\"/IW2/Burst0167\")  0x7fd45a0256d0\n",
      "170 IW2 Sentinel1EtadBurst(\"/IW2/Burst0170\")  0x7fd45a022d50\n",
      "173 IW2 Sentinel1EtadBurst(\"/IW2/Burst0173\")  0x7fd45a0257d0\n",
      "176 IW2 Sentinel1EtadBurst(\"/IW2/Burst0176\")  0x7fd45a022c50\n",
      "179 IW2 Sentinel1EtadBurst(\"/IW2/Burst0179\")  0x7fd45a022b90\n",
      "182 IW2 Sentinel1EtadBurst(\"/IW2/Burst0182\")  0x7fd45a022b10\n",
      "185 IW2 Sentinel1EtadBurst(\"/IW2/Burst0185\")  0x7fd45a022a90\n",
      "188 IW2 Sentinel1EtadBurst(\"/IW2/Burst0188\")  0x7fd45a025810\n",
      "191 IW2 Sentinel1EtadBurst(\"/IW2/Burst0191\")  0x7fd45a025890\n",
      "194 IW2 Sentinel1EtadBurst(\"/IW2/Burst0194\")  0x7fd45a025850\n",
      "197 IW2 Sentinel1EtadBurst(\"/IW2/Burst0197\")  0x7fd45a022e90\n",
      "200 IW2 Sentinel1EtadBurst(\"/IW2/Burst0200\")  0x7fd45a025790\n",
      "203 IW2 Sentinel1EtadBurst(\"/IW2/Burst0203\")  0x7fd45a025650\n",
      "206 IW2 Sentinel1EtadBurst(\"/IW2/Burst0206\")  0x7fd45a0255d0\n",
      "209 IW2 Sentinel1EtadBurst(\"/IW2/Burst0209\")  0x7fd45a0254d0\n",
      "212 IW2 Sentinel1EtadBurst(\"/IW2/Burst0212\")  0x7fd45a0250d0\n",
      "215 IW2 Sentinel1EtadBurst(\"/IW2/Burst0215\")  0x7fd45a0253d0\n",
      "218 IW2 Sentinel1EtadBurst(\"/IW2/Burst0218\")  0x7fd45a025a10\n",
      "221 IW2 Sentinel1EtadBurst(\"/IW2/Burst0221\")  0x7fd45a025450\n",
      "224 IW2 Sentinel1EtadBurst(\"/IW2/Burst0224\")  0x7fd45a025350\n",
      "227 IW2 Sentinel1EtadBurst(\"/IW2/Burst0227\")  0x7fd45a025410\n",
      "230 IW2 Sentinel1EtadBurst(\"/IW2/Burst0230\")  0x7fd45a025b90\n",
      "233 IW2 Sentinel1EtadBurst(\"/IW2/Burst0233\")  0x7fd45a025950\n",
      "236 IW2 Sentinel1EtadBurst(\"/IW2/Burst0236\")  0x7fd45a025190\n",
      "239 IW2 Sentinel1EtadBurst(\"/IW2/Burst0239\")  0x7fd45a025510\n",
      "242 IW2 Sentinel1EtadBurst(\"/IW2/Burst0242\")  0x7fd45a025110\n",
      "245 IW2 Sentinel1EtadBurst(\"/IW2/Burst0245\")  0x7fd45a025b50\n",
      "248 IW2 Sentinel1EtadBurst(\"/IW2/Burst0248\")  0x7fd45a025c10\n",
      "251 IW2 Sentinel1EtadBurst(\"/IW2/Burst0251\")  0x7fd45a025f90\n",
      "254 IW2 Sentinel1EtadBurst(\"/IW2/Burst0254\")  0x7fd45a025990\n",
      "257 IW2 Sentinel1EtadBurst(\"/IW2/Burst0257\")  0x7fd45a027050\n",
      "260 IW2 Sentinel1EtadBurst(\"/IW2/Burst0260\")  0x7fd45a025d10\n",
      "263 IW2 Sentinel1EtadBurst(\"/IW2/Burst0263\")  0x7fd45a0271d0\n",
      "266 IW2 Sentinel1EtadBurst(\"/IW2/Burst0266\")  0x7fd45a025290\n",
      "269 IW2 Sentinel1EtadBurst(\"/IW2/Burst0269\")  0x7fd45a025310\n",
      "272 IW2 Sentinel1EtadBurst(\"/IW2/Burst0272\")  0x7fd45a025390\n",
      "275 IW2 Sentinel1EtadBurst(\"/IW2/Burst0275\")  0x7fd45a027110\n",
      "278 IW2 Sentinel1EtadBurst(\"/IW2/Burst0278\")  0x7fd45a027090\n",
      "281 IW2 Sentinel1EtadBurst(\"/IW2/Burst0281\")  0x7fd45a0274d0\n",
      "284 IW2 Sentinel1EtadBurst(\"/IW2/Burst0284\")  0x7fd45a027390\n",
      "287 IW2 Sentinel1EtadBurst(\"/IW2/Burst0287\")  0x7fd45a027450\n",
      "290 IW2 Sentinel1EtadBurst(\"/IW2/Burst0290\")  0x7fd45a0275d0\n",
      "293 IW2 Sentinel1EtadBurst(\"/IW2/Burst0293\")  0x7fd45a027950\n",
      "296 IW2 Sentinel1EtadBurst(\"/IW2/Burst0296\")  0x7fd45a0277d0\n",
      "299 IW2 Sentinel1EtadBurst(\"/IW2/Burst0299\")  0x7fd45a027750\n",
      "302 IW2 Sentinel1EtadBurst(\"/IW2/Burst0302\")  0x7fd45a0276d0\n",
      "305 IW2 Sentinel1EtadBurst(\"/IW2/Burst0305\")  0x7fd45a027650\n",
      "\n",
      "Sentinel1EtadSwath(\"/IW3\")  0x7fd45a027550\n",
      "3 IW3 Sentinel1EtadBurst(\"/IW3/Burst0003\")  0x7fd45a025c90\n",
      "6 IW3 Sentinel1EtadBurst(\"/IW3/Burst0006\")  0x7fd45a027890\n",
      "9 IW3 Sentinel1EtadBurst(\"/IW3/Burst0009\")  0x7fd45a027590\n",
      "12 IW3 Sentinel1EtadBurst(\"/IW3/Burst0012\")  0x7fd45a027290\n",
      "15 IW3 Sentinel1EtadBurst(\"/IW3/Burst0015\")  0x7fd45a027310\n",
      "18 IW3 Sentinel1EtadBurst(\"/IW3/Burst0018\")  0x7fd45a027910\n",
      "21 IW3 Sentinel1EtadBurst(\"/IW3/Burst0021\")  0x7fd45a0279d0\n",
      "24 IW3 Sentinel1EtadBurst(\"/IW3/Burst0024\")  0x7fd45a027a50\n",
      "27 IW3 Sentinel1EtadBurst(\"/IW3/Burst0027\")  0x7fd45a027ad0\n",
      "30 IW3 Sentinel1EtadBurst(\"/IW3/Burst0030\")  0x7fd45a027b50\n",
      "33 IW3 Sentinel1EtadBurst(\"/IW3/Burst0033\")  0x7fd45a027bd0\n",
      "36 IW3 Sentinel1EtadBurst(\"/IW3/Burst0036\")  0x7fd45a027c50\n",
      "39 IW3 Sentinel1EtadBurst(\"/IW3/Burst0039\")  0x7fd45a027c10\n",
      "42 IW3 Sentinel1EtadBurst(\"/IW3/Burst0042\")  0x7fd45a027d50\n",
      "45 IW3 Sentinel1EtadBurst(\"/IW3/Burst0045\")  0x7fd45a027dd0\n",
      "48 IW3 Sentinel1EtadBurst(\"/IW3/Burst0048\")  0x7fd45a027e50\n",
      "51 IW3 Sentinel1EtadBurst(\"/IW3/Burst0051\")  0x7fd45a027ed0\n",
      "54 IW3 Sentinel1EtadBurst(\"/IW3/Burst0054\")  0x7fd45a027f50\n",
      "57 IW3 Sentinel1EtadBurst(\"/IW3/Burst0057\")  0x7fd45a027fd0\n",
      "60 IW3 Sentinel1EtadBurst(\"/IW3/Burst0060\")  0x7fd45a023390\n",
      "63 IW3 Sentinel1EtadBurst(\"/IW3/Burst0063\")  0x7fd45a023250\n",
      "66 IW3 Sentinel1EtadBurst(\"/IW3/Burst0066\")  0x7fd45a0231d0\n",
      "69 IW3 Sentinel1EtadBurst(\"/IW3/Burst0069\")  0x7fd45a023510\n",
      "72 IW3 Sentinel1EtadBurst(\"/IW3/Burst0072\")  0x7fd45a0233d0\n",
      "75 IW3 Sentinel1EtadBurst(\"/IW3/Burst0075\")  0x7fd45a023110\n",
      "78 IW3 Sentinel1EtadBurst(\"/IW3/Burst0078\")  0x7fd45a023190\n",
      "81 IW3 Sentinel1EtadBurst(\"/IW3/Burst0081\")  0x7fd45a023210\n",
      "84 IW3 Sentinel1EtadBurst(\"/IW3/Burst0084\")  0x7fd45a023310\n",
      "87 IW3 Sentinel1EtadBurst(\"/IW3/Burst0087\")  0x7fd45a023550\n",
      "90 IW3 Sentinel1EtadBurst(\"/IW3/Burst0090\")  0x7fd45a0235d0\n",
      "93 IW3 Sentinel1EtadBurst(\"/IW3/Burst0093\")  0x7fd45a023650\n",
      "96 IW3 Sentinel1EtadBurst(\"/IW3/Burst0096\")  0x7fd45a0236d0\n",
      "99 IW3 Sentinel1EtadBurst(\"/IW3/Burst0099\")  0x7fd45a023750\n",
      "102 IW3 Sentinel1EtadBurst(\"/IW3/Burst0102\")  0x7fd45a023450\n",
      "105 IW3 Sentinel1EtadBurst(\"/IW3/Burst0105\")  0x7fd45a023850\n",
      "108 IW3 Sentinel1EtadBurst(\"/IW3/Burst0108\")  0x7fd45a0238d0\n",
      "111 IW3 Sentinel1EtadBurst(\"/IW3/Burst0111\")  0x7fd45a023950\n",
      "114 IW3 Sentinel1EtadBurst(\"/IW3/Burst0114\")  0x7fd45a0239d0\n",
      "117 IW3 Sentinel1EtadBurst(\"/IW3/Burst0117\")  0x7fd45a023a50\n",
      "120 IW3 Sentinel1EtadBurst(\"/IW3/Burst0120\")  0x7fd45a023ad0\n",
      "123 IW3 Sentinel1EtadBurst(\"/IW3/Burst0123\")  0x7fd45a023b50\n",
      "126 IW3 Sentinel1EtadBurst(\"/IW3/Burst0126\")  0x7fd45a023bd0\n",
      "129 IW3 Sentinel1EtadBurst(\"/IW3/Burst0129\")  0x7fd45a023f50\n",
      "132 IW3 Sentinel1EtadBurst(\"/IW3/Burst0132\")  0x7fd45a023490\n",
      "135 IW3 Sentinel1EtadBurst(\"/IW3/Burst0135\")  0x7fd45a023690\n",
      "138 IW3 Sentinel1EtadBurst(\"/IW3/Burst0138\")  0x7fd45a023c10\n",
      "141 IW3 Sentinel1EtadBurst(\"/IW3/Burst0141\")  0x7fd45a02a110\n",
      "144 IW3 Sentinel1EtadBurst(\"/IW3/Burst0144\")  0x7fd45a023dd0\n",
      "147 IW3 Sentinel1EtadBurst(\"/IW3/Burst0147\")  0x7fd45a023590\n",
      "150 IW3 Sentinel1EtadBurst(\"/IW3/Burst0150\")  0x7fd45a023090\n",
      "153 IW3 Sentinel1EtadBurst(\"/IW3/Burst0153\")  0x7fd45a02a050\n",
      "156 IW3 Sentinel1EtadBurst(\"/IW3/Burst0156\")  0x7fd45a02a0d0\n",
      "159 IW3 Sentinel1EtadBurst(\"/IW3/Burst0159\")  0x7fd45a02a190\n",
      "162 IW3 Sentinel1EtadBurst(\"/IW3/Burst0162\")  0x7fd45a02a210\n",
      "165 IW3 Sentinel1EtadBurst(\"/IW3/Burst0165\")  0x7fd45a02a590\n",
      "168 IW3 Sentinel1EtadBurst(\"/IW3/Burst0168\")  0x7fd45a02a450\n",
      "171 IW3 Sentinel1EtadBurst(\"/IW3/Burst0171\")  0x7fd45a02a610\n",
      "174 IW3 Sentinel1EtadBurst(\"/IW3/Burst0174\")  0x7fd45a02a390\n",
      "177 IW3 Sentinel1EtadBurst(\"/IW3/Burst0177\")  0x7fd45a023150\n",
      "180 IW3 Sentinel1EtadBurst(\"/IW3/Burst0180\")  0x7fd45a02a490\n",
      "183 IW3 Sentinel1EtadBurst(\"/IW3/Burst0183\")  0x7fd45a02a1d0\n",
      "186 IW3 Sentinel1EtadBurst(\"/IW3/Burst0186\")  0x7fd45a02a5d0\n",
      "189 IW3 Sentinel1EtadBurst(\"/IW3/Burst0189\")  0x7fd45a02a690\n",
      "192 IW3 Sentinel1EtadBurst(\"/IW3/Burst0192\")  0x7fd45a02aa10\n",
      "195 IW3 Sentinel1EtadBurst(\"/IW3/Burst0195\")  0x7fd45a02a350\n",
      "198 IW3 Sentinel1EtadBurst(\"/IW3/Burst0198\")  0x7fd45a02a750\n",
      "201 IW3 Sentinel1EtadBurst(\"/IW3/Burst0201\")  0x7fd45a02a410\n",
      "204 IW3 Sentinel1EtadBurst(\"/IW3/Burst0204\")  0x7fd45a02a910\n",
      "207 IW3 Sentinel1EtadBurst(\"/IW3/Burst0207\")  0x7fd45a02a2d0\n",
      "210 IW3 Sentinel1EtadBurst(\"/IW3/Burst0210\")  0x7fd45a02a850\n",
      "213 IW3 Sentinel1EtadBurst(\"/IW3/Burst0213\")  0x7fd45a02a8d0\n",
      "216 IW3 Sentinel1EtadBurst(\"/IW3/Burst0216\")  0x7fd45a02ae10\n",
      "219 IW3 Sentinel1EtadBurst(\"/IW3/Burst0219\")  0x7fd45a02a150\n",
      "222 IW3 Sentinel1EtadBurst(\"/IW3/Burst0222\")  0x7fd45a02af10\n",
      "225 IW3 Sentinel1EtadBurst(\"/IW3/Burst0225\")  0x7fd45a02a6d0\n",
      "228 IW3 Sentinel1EtadBurst(\"/IW3/Burst0228\")  0x7fd45a02ab90\n",
      "231 IW3 Sentinel1EtadBurst(\"/IW3/Burst0231\")  0x7fd45a02a990\n",
      "234 IW3 Sentinel1EtadBurst(\"/IW3/Burst0234\")  0x7fd45a02ac90\n",
      "237 IW3 Sentinel1EtadBurst(\"/IW3/Burst0237\")  0x7fd45a02ad10\n",
      "240 IW3 Sentinel1EtadBurst(\"/IW3/Burst0240\")  0x7fd45a02aed0\n",
      "243 IW3 Sentinel1EtadBurst(\"/IW3/Burst0243\")  0x7fd45a02a710\n",
      "246 IW3 Sentinel1EtadBurst(\"/IW3/Burst0246\")  0x7fd45a02b050\n",
      "249 IW3 Sentinel1EtadBurst(\"/IW3/Burst0249\")  0x7fd45a02b0d0\n",
      "252 IW3 Sentinel1EtadBurst(\"/IW3/Burst0252\")  0x7fd45a02b150\n",
      "255 IW3 Sentinel1EtadBurst(\"/IW3/Burst0255\")  0x7fd45a02b1d0\n",
      "258 IW3 Sentinel1EtadBurst(\"/IW3/Burst0258\")  0x7fd45a02b550\n",
      "261 IW3 Sentinel1EtadBurst(\"/IW3/Burst0261\")  0x7fd45a02b8d0\n",
      "264 IW3 Sentinel1EtadBurst(\"/IW3/Burst0264\")  0x7fd45a02b710\n",
      "267 IW3 Sentinel1EtadBurst(\"/IW3/Burst0267\")  0x7fd45a02b310\n",
      "270 IW3 Sentinel1EtadBurst(\"/IW3/Burst0270\")  0x7fd45a02ba50\n",
      "273 IW3 Sentinel1EtadBurst(\"/IW3/Burst0273\")  0x7fd45a02b250\n",
      "276 IW3 Sentinel1EtadBurst(\"/IW3/Burst0276\")  0x7fd45a02b890\n",
      "279 IW3 Sentinel1EtadBurst(\"/IW3/Burst0279\")  0x7fd45a02b6d0\n",
      "282 IW3 Sentinel1EtadBurst(\"/IW3/Burst0282\")  0x7fd45a02b350\n",
      "285 IW3 Sentinel1EtadBurst(\"/IW3/Burst0285\")  0x7fd45a02b2d0\n",
      "288 IW3 Sentinel1EtadBurst(\"/IW3/Burst0288\")  0x7fd45a02b3d0\n",
      "291 IW3 Sentinel1EtadBurst(\"/IW3/Burst0291\")  0x7fd45a02bad0\n",
      "294 IW3 Sentinel1EtadBurst(\"/IW3/Burst0294\")  0x7fd45a02b090\n",
      "297 IW3 Sentinel1EtadBurst(\"/IW3/Burst0297\")  0x7fd45a02b290\n",
      "300 IW3 Sentinel1EtadBurst(\"/IW3/Burst0300\")  0x7fd45a02b390\n",
      "303 IW3 Sentinel1EtadBurst(\"/IW3/Burst0303\")  0x7fd45a02bcd0\n",
      "306 IW3 Sentinel1EtadBurst(\"/IW3/Burst0306\")  0x7fd45a02b950\n",
      "\n"
     ]
    }
   ],
   "source": [
    "for swath in eta:\n",
    "    print(swath)\n",
    "    for burst in swath:\n",
    "        print(burst.burst_index, burst.swath_id, burst)\n",
    "    print()"
   ]
  },
  {
   "cell_type": "markdown",
   "metadata": {},
   "source": [
    "### How to iterate only on selected items"
   ]
  },
  {
   "cell_type": "markdown",
   "metadata": {},
   "source": [
    "It is also possible to iterate on a sub-set of the products swaths (or a sub-set of the swath bursts):"
   ]
  },
  {
   "cell_type": "code",
   "execution_count": 21,
   "metadata": {},
   "outputs": [
    {
     "name": "stdout",
     "output_type": "stream",
     "text": [
      " 1 IW1 Sentinel1EtadBurst(\"/IW1/Burst0001\")  0x7fd457cf9c50\n",
      " 7 IW1 Sentinel1EtadBurst(\"/IW1/Burst0007\")  0x7fd457cf9410\n",
      "13 IW1 Sentinel1EtadBurst(\"/IW1/Burst0013\")  0x7fd457cf9650\n",
      "19 IW1 Sentinel1EtadBurst(\"/IW1/Burst0019\")  0x7fd457cf9dd0\n",
      "25 IW1 Sentinel1EtadBurst(\"/IW1/Burst0025\")  0x7fd457cf9310\n",
      "31 IW1 Sentinel1EtadBurst(\"/IW1/Burst0031\")  0x7fd457cf9b10\n",
      "37 IW1 Sentinel1EtadBurst(\"/IW1/Burst0037\")  0x7fd457cf9d50\n",
      "43 IW1 Sentinel1EtadBurst(\"/IW1/Burst0043\")  0x7fd457cf9390\n",
      "49 IW1 Sentinel1EtadBurst(\"/IW1/Burst0049\")  0x7fd457cf9cd0\n",
      "55 IW1 Sentinel1EtadBurst(\"/IW1/Burst0055\")  0x7fd457cf9250\n",
      "61 IW1 Sentinel1EtadBurst(\"/IW1/Burst0061\")  0x7fd46d51bf90\n",
      "67 IW1 Sentinel1EtadBurst(\"/IW1/Burst0067\")  0x7fd457cf9690\n",
      "73 IW1 Sentinel1EtadBurst(\"/IW1/Burst0073\")  0x7fd457cf9ad0\n",
      "79 IW1 Sentinel1EtadBurst(\"/IW1/Burst0079\")  0x7fd45a00f410\n",
      "85 IW1 Sentinel1EtadBurst(\"/IW1/Burst0085\")  0x7fd457cf9790\n",
      "91 IW1 Sentinel1EtadBurst(\"/IW1/Burst0091\")  0x7fd46ed72ed0\n",
      "97 IW1 Sentinel1EtadBurst(\"/IW1/Burst0097\")  0x7fd457cf9710\n",
      "103 IW1 Sentinel1EtadBurst(\"/IW1/Burst0103\")  0x7fd457cba050\n",
      "109 IW1 Sentinel1EtadBurst(\"/IW1/Burst0109\")  0x7fd46ed12990\n",
      "115 IW1 Sentinel1EtadBurst(\"/IW1/Burst0115\")  0x7fd46ed12510\n",
      "121 IW1 Sentinel1EtadBurst(\"/IW1/Burst0121\")  0x7fd46c8de7d0\n",
      "127 IW1 Sentinel1EtadBurst(\"/IW1/Burst0127\")  0x7fd46ed7ddd0\n",
      "133 IW1 Sentinel1EtadBurst(\"/IW1/Burst0133\")  0x7fd457ca5450\n",
      "139 IW1 Sentinel1EtadBurst(\"/IW1/Burst0139\")  0x7fd457ca5a10\n",
      "145 IW1 Sentinel1EtadBurst(\"/IW1/Burst0145\")  0x7fd457ca5410\n",
      "151 IW1 Sentinel1EtadBurst(\"/IW1/Burst0151\")  0x7fd457ca5f50\n",
      "157 IW1 Sentinel1EtadBurst(\"/IW1/Burst0157\")  0x7fd457ca5850\n",
      "163 IW1 Sentinel1EtadBurst(\"/IW1/Burst0163\")  0x7fd457cf9510\n",
      "169 IW1 Sentinel1EtadBurst(\"/IW1/Burst0169\")  0x7fd457ca5910\n",
      "175 IW1 Sentinel1EtadBurst(\"/IW1/Burst0175\")  0x7fd45a018090\n",
      "181 IW1 Sentinel1EtadBurst(\"/IW1/Burst0181\")  0x7fd45a00a910\n",
      "187 IW1 Sentinel1EtadBurst(\"/IW1/Burst0187\")  0x7fd457cf9b90\n",
      "193 IW1 Sentinel1EtadBurst(\"/IW1/Burst0193\")  0x7fd45a0186d0\n",
      "199 IW1 Sentinel1EtadBurst(\"/IW1/Burst0199\")  0x7fd457ccbfd0\n",
      "205 IW1 Sentinel1EtadBurst(\"/IW1/Burst0205\")  0x7fd45a018390\n",
      "211 IW1 Sentinel1EtadBurst(\"/IW1/Burst0211\")  0x7fd45a018050\n",
      "217 IW1 Sentinel1EtadBurst(\"/IW1/Burst0217\")  0x7fd45a0182d0\n",
      "223 IW1 Sentinel1EtadBurst(\"/IW1/Burst0223\")  0x7fd45a018e50\n",
      "229 IW1 Sentinel1EtadBurst(\"/IW1/Burst0229\")  0x7fd45a0180d0\n",
      "235 IW1 Sentinel1EtadBurst(\"/IW1/Burst0235\")  0x7fd45a0188d0\n",
      "241 IW1 Sentinel1EtadBurst(\"/IW1/Burst0241\")  0x7fd457cf9c90\n",
      "247 IW1 Sentinel1EtadBurst(\"/IW1/Burst0247\")  0x7fd45a018990\n",
      "253 IW1 Sentinel1EtadBurst(\"/IW1/Burst0253\")  0x7fd45a018850\n",
      "259 IW1 Sentinel1EtadBurst(\"/IW1/Burst0259\")  0x7fd45a018ed0\n",
      "265 IW1 Sentinel1EtadBurst(\"/IW1/Burst0265\")  0x7fd45a018f90\n",
      "271 IW1 Sentinel1EtadBurst(\"/IW1/Burst0271\")  0x7fd45a018ad0\n",
      "277 IW1 Sentinel1EtadBurst(\"/IW1/Burst0277\")  0x7fd45a018790\n",
      "283 IW1 Sentinel1EtadBurst(\"/IW1/Burst0283\")  0x7fd45a018d50\n",
      "289 IW1 Sentinel1EtadBurst(\"/IW1/Burst0289\")  0x7fd45a018450\n",
      "295 IW1 Sentinel1EtadBurst(\"/IW1/Burst0295\")  0x7fd45a0185d0\n",
      "301 IW1 Sentinel1EtadBurst(\"/IW1/Burst0301\")  0x7fd45a018bd0\n",
      " 5 IW2 Sentinel1EtadBurst(\"/IW2/Burst0005\")  0x7fd457cf9190\n",
      "11 IW2 Sentinel1EtadBurst(\"/IW2/Burst0011\")  0x7fd457ca5990\n",
      "17 IW2 Sentinel1EtadBurst(\"/IW2/Burst0017\")  0x7fd45a018a10\n",
      "23 IW2 Sentinel1EtadBurst(\"/IW2/Burst0023\")  0x7fd45a018a90\n",
      "29 IW2 Sentinel1EtadBurst(\"/IW2/Burst0029\")  0x7fd45a018110\n",
      "35 IW2 Sentinel1EtadBurst(\"/IW2/Burst0035\")  0x7fd45a018d90\n",
      "41 IW2 Sentinel1EtadBurst(\"/IW2/Burst0041\")  0x7fd45a018490\n",
      "47 IW2 Sentinel1EtadBurst(\"/IW2/Burst0047\")  0x7fd45a018c10\n",
      "53 IW2 Sentinel1EtadBurst(\"/IW2/Burst0053\")  0x7fd45a018650\n",
      "59 IW2 Sentinel1EtadBurst(\"/IW2/Burst0059\")  0x7fd45a0189d0\n",
      "65 IW2 Sentinel1EtadBurst(\"/IW2/Burst0065\")  0x7fd45a018950\n",
      "71 IW2 Sentinel1EtadBurst(\"/IW2/Burst0071\")  0x7fd457cf9bd0\n",
      "77 IW2 Sentinel1EtadBurst(\"/IW2/Burst0077\")  0x7fd45a018c50\n",
      "83 IW2 Sentinel1EtadBurst(\"/IW2/Burst0083\")  0x7fd45a018a50\n",
      "89 IW2 Sentinel1EtadBurst(\"/IW2/Burst0089\")  0x7fd45a018350\n",
      "95 IW2 Sentinel1EtadBurst(\"/IW2/Burst0095\")  0x7fd45a018410\n",
      "101 IW2 Sentinel1EtadBurst(\"/IW2/Burst0101\")  0x7fd45a018150\n",
      "107 IW2 Sentinel1EtadBurst(\"/IW2/Burst0107\")  0x7fd45a018e90\n",
      "113 IW2 Sentinel1EtadBurst(\"/IW2/Burst0113\")  0x7fd45a018890\n",
      "119 IW2 Sentinel1EtadBurst(\"/IW2/Burst0119\")  0x7fd45a018cd0\n",
      "125 IW2 Sentinel1EtadBurst(\"/IW2/Burst0125\")  0x7fd45a018750\n",
      "131 IW2 Sentinel1EtadBurst(\"/IW2/Burst0131\")  0x7fd45a018550\n",
      "137 IW2 Sentinel1EtadBurst(\"/IW2/Burst0137\")  0x7fd45a018b90\n",
      "143 IW2 Sentinel1EtadBurst(\"/IW2/Burst0143\")  0x7fd45a0181d0\n",
      "149 IW2 Sentinel1EtadBurst(\"/IW2/Burst0149\")  0x7fd45a018d10\n",
      "155 IW2 Sentinel1EtadBurst(\"/IW2/Burst0155\")  0x7fd45a018250\n",
      "161 IW2 Sentinel1EtadBurst(\"/IW2/Burst0161\")  0x7fd45a018810\n",
      "167 IW2 Sentinel1EtadBurst(\"/IW2/Burst0167\")  0x7fd45a018f10\n",
      "173 IW2 Sentinel1EtadBurst(\"/IW2/Burst0173\")  0x7fd457cf9550\n",
      "179 IW2 Sentinel1EtadBurst(\"/IW2/Burst0179\")  0x7fd45a01a590\n",
      "185 IW2 Sentinel1EtadBurst(\"/IW2/Burst0185\")  0x7fd45a01add0\n",
      "191 IW2 Sentinel1EtadBurst(\"/IW2/Burst0191\")  0x7fd45a01ad90\n",
      "197 IW2 Sentinel1EtadBurst(\"/IW2/Burst0197\")  0x7fd45a01a990\n",
      "203 IW2 Sentinel1EtadBurst(\"/IW2/Burst0203\")  0x7fd45a01ab10\n",
      "209 IW2 Sentinel1EtadBurst(\"/IW2/Burst0209\")  0x7fd45a01af10\n",
      "215 IW2 Sentinel1EtadBurst(\"/IW2/Burst0215\")  0x7fd45a01a5d0\n",
      "221 IW2 Sentinel1EtadBurst(\"/IW2/Burst0221\")  0x7fd45a01a810\n",
      "227 IW2 Sentinel1EtadBurst(\"/IW2/Burst0227\")  0x7fd45a01af50\n",
      "233 IW2 Sentinel1EtadBurst(\"/IW2/Burst0233\")  0x7fd45a018f50\n",
      "239 IW2 Sentinel1EtadBurst(\"/IW2/Burst0239\")  0x7fd45a01a9d0\n",
      "245 IW2 Sentinel1EtadBurst(\"/IW2/Burst0245\")  0x7fd45a01ab50\n",
      "251 IW2 Sentinel1EtadBurst(\"/IW2/Burst0251\")  0x7fd45a01af90\n",
      "257 IW2 Sentinel1EtadBurst(\"/IW2/Burst0257\")  0x7fd45a01a710\n",
      "263 IW2 Sentinel1EtadBurst(\"/IW2/Burst0263\")  0x7fd45a01aa10\n",
      "269 IW2 Sentinel1EtadBurst(\"/IW2/Burst0269\")  0x7fd45a01afd0\n",
      "275 IW2 Sentinel1EtadBurst(\"/IW2/Burst0275\")  0x7fd45a01a350\n",
      "281 IW2 Sentinel1EtadBurst(\"/IW2/Burst0281\")  0x7fd45a01a4d0\n",
      "287 IW2 Sentinel1EtadBurst(\"/IW2/Burst0287\")  0x7fd45a01ac50\n",
      "293 IW2 Sentinel1EtadBurst(\"/IW2/Burst0293\")  0x7fd45a01a750\n",
      "299 IW2 Sentinel1EtadBurst(\"/IW2/Burst0299\")  0x7fd45a0184d0\n",
      "305 IW2 Sentinel1EtadBurst(\"/IW2/Burst0305\")  0x7fd45a01a490\n"
     ]
    }
   ],
   "source": [
    "for swath in eta.iter_swaths(['IW1', 'IW2']):  # no 'IW3'\n",
    "    # list of bursts\n",
    "    odd_bursts = [idx for idx in swath.burst_list if idx % 2 != 0]\n",
    "    for burst in swath.iter_bursts(odd_bursts):\n",
    "        print(f'{burst.burst_index:2} {burst.swath_id} {burst}')"
   ]
  },
  {
   "cell_type": "markdown",
   "metadata": {},
   "source": [
    "### How to iterate on query results"
   ]
  },
  {
   "cell_type": "markdown",
   "metadata": {},
   "source": [
    "The query mechanism is explained extensively in the following.\n",
    "\n",
    "Queries can be performed using the `Sentinel1Etad.query_burst` method.\n",
    "\n",
    "A simple example is a query for a specific swath:"
   ]
  },
  {
   "cell_type": "code",
   "execution_count": 22,
   "metadata": {},
   "outputs": [
    {
     "name": "stdout",
     "output_type": "stream",
     "text": [
      "Sentinel1EtadBurst(\"/IW3/Burst0003\")  0x7fd45a01ae90\n",
      "Sentinel1EtadBurst(\"/IW3/Burst0006\")  0x7fd45a01acd0\n",
      "Sentinel1EtadBurst(\"/IW3/Burst0009\")  0x7fd45a01aa50\n",
      "Sentinel1EtadBurst(\"/IW3/Burst0012\")  0x7fd45a01a6d0\n",
      "Sentinel1EtadBurst(\"/IW3/Burst0015\")  0x7fd45a027f50\n",
      "Sentinel1EtadBurst(\"/IW3/Burst0018\")  0x7fd45a027c10\n",
      "Sentinel1EtadBurst(\"/IW3/Burst0021\")  0x7fd45a027a50\n",
      "Sentinel1EtadBurst(\"/IW3/Burst0024\")  0x7fd45a027590\n",
      "Sentinel1EtadBurst(\"/IW3/Burst0027\")  0x7fd45a0277d0\n",
      "Sentinel1EtadBurst(\"/IW3/Burst0030\")  0x7fd45a0274d0\n",
      "Sentinel1EtadBurst(\"/IW3/Burst0033\")  0x7fd45a027410\n",
      "Sentinel1EtadBurst(\"/IW3/Burst0036\")  0x7fd45a0273d0\n",
      "Sentinel1EtadBurst(\"/IW3/Burst0039\")  0x7fd45a0272d0\n",
      "Sentinel1EtadBurst(\"/IW3/Burst0042\")  0x7fd45a027f90\n",
      "Sentinel1EtadBurst(\"/IW3/Burst0045\")  0x7fd45a027f10\n",
      "Sentinel1EtadBurst(\"/IW3/Burst0048\")  0x7fd45a027250\n",
      "Sentinel1EtadBurst(\"/IW3/Burst0051\")  0x7fd45a0196d0\n",
      "Sentinel1EtadBurst(\"/IW3/Burst0054\")  0x7fd45a019410\n",
      "Sentinel1EtadBurst(\"/IW3/Burst0057\")  0x7fd45a019b90\n",
      "Sentinel1EtadBurst(\"/IW3/Burst0060\")  0x7fd45a019c90\n",
      "Sentinel1EtadBurst(\"/IW3/Burst0063\")  0x7fd45a019690\n",
      "Sentinel1EtadBurst(\"/IW3/Burst0066\")  0x7fd45a0195d0\n",
      "Sentinel1EtadBurst(\"/IW3/Burst0069\")  0x7fd45a019510\n",
      "Sentinel1EtadBurst(\"/IW3/Burst0072\")  0x7fd45a0194d0\n",
      "Sentinel1EtadBurst(\"/IW3/Burst0075\")  0x7fd45a027b10\n",
      "Sentinel1EtadBurst(\"/IW3/Burst0078\")  0x7fd45a027d10\n",
      "Sentinel1EtadBurst(\"/IW3/Burst0081\")  0x7fd45a027c90\n",
      "Sentinel1EtadBurst(\"/IW3/Burst0084\")  0x7fd45a0278d0\n",
      "Sentinel1EtadBurst(\"/IW3/Burst0087\")  0x7fd45a0271d0\n",
      "Sentinel1EtadBurst(\"/IW3/Burst0090\")  0x7fd45a027750\n",
      "Sentinel1EtadBurst(\"/IW3/Burst0093\")  0x7fd45a027890\n",
      "Sentinel1EtadBurst(\"/IW3/Burst0096\")  0x7fd45a027bd0\n",
      "Sentinel1EtadBurst(\"/IW3/Burst0099\")  0x7fd45a027dd0\n",
      "Sentinel1EtadBurst(\"/IW3/Burst0102\")  0x7fd457cf9310\n",
      "Sentinel1EtadBurst(\"/IW3/Burst0105\")  0x7fd457cf9c50\n",
      "Sentinel1EtadBurst(\"/IW3/Burst0108\")  0x7fd45a01a190\n",
      "Sentinel1EtadBurst(\"/IW3/Burst0111\")  0x7fd45a01a8d0\n",
      "Sentinel1EtadBurst(\"/IW3/Burst0114\")  0x7fd45a01a310\n",
      "Sentinel1EtadBurst(\"/IW3/Burst0117\")  0x7fd45a01a2d0\n",
      "Sentinel1EtadBurst(\"/IW3/Burst0120\")  0x7fd457cf9950\n",
      "Sentinel1EtadBurst(\"/IW3/Burst0123\")  0x7fd457cf9650\n",
      "Sentinel1EtadBurst(\"/IW3/Burst0126\")  0x7fd45a027850\n",
      "Sentinel1EtadBurst(\"/IW3/Burst0129\")  0x7fd45a027d50\n",
      "Sentinel1EtadBurst(\"/IW3/Burst0132\")  0x7fd45a027310\n",
      "Sentinel1EtadBurst(\"/IW3/Burst0135\")  0x7fd45a027650\n",
      "Sentinel1EtadBurst(\"/IW3/Burst0138\")  0x7fd45a027090\n",
      "Sentinel1EtadBurst(\"/IW3/Burst0141\")  0x7fd45a027050\n",
      "Sentinel1EtadBurst(\"/IW3/Burst0144\")  0x7fd45a027a10\n",
      "Sentinel1EtadBurst(\"/IW3/Burst0147\")  0x7fd45a027b90\n",
      "Sentinel1EtadBurst(\"/IW3/Burst0150\")  0x7fd45a027610\n",
      "Sentinel1EtadBurst(\"/IW3/Burst0153\")  0x7fd45a027210\n",
      "Sentinel1EtadBurst(\"/IW3/Burst0156\")  0x7fd45a01a0d0\n",
      "Sentinel1EtadBurst(\"/IW3/Burst0159\")  0x7fd45a01ad50\n",
      "Sentinel1EtadBurst(\"/IW3/Burst0162\")  0x7fd45a01a650\n",
      "Sentinel1EtadBurst(\"/IW3/Burst0165\")  0x7fd45a019050\n",
      "Sentinel1EtadBurst(\"/IW3/Burst0168\")  0x7fd45a019f50\n",
      "Sentinel1EtadBurst(\"/IW3/Burst0171\")  0x7fd45a019590\n",
      "Sentinel1EtadBurst(\"/IW3/Burst0174\")  0x7fd45a0198d0\n",
      "Sentinel1EtadBurst(\"/IW3/Burst0177\")  0x7fd45a019d90\n",
      "Sentinel1EtadBurst(\"/IW3/Burst0180\")  0x7fd45a019550\n",
      "Sentinel1EtadBurst(\"/IW3/Burst0183\")  0x7fd45a019810\n",
      "Sentinel1EtadBurst(\"/IW3/Burst0186\")  0x7fd45a019110\n",
      "Sentinel1EtadBurst(\"/IW3/Burst0189\")  0x7fd45a019a50\n",
      "Sentinel1EtadBurst(\"/IW3/Burst0192\")  0x7fd45a019e50\n",
      "Sentinel1EtadBurst(\"/IW3/Burst0195\")  0x7fd45a01d6d0\n",
      "Sentinel1EtadBurst(\"/IW3/Burst0198\")  0x7fd45a00a990\n",
      "Sentinel1EtadBurst(\"/IW3/Burst0201\")  0x7fd46c964790\n",
      "Sentinel1EtadBurst(\"/IW3/Burst0204\")  0x7fd46ecb3e50\n",
      "Sentinel1EtadBurst(\"/IW3/Burst0207\")  0x7fd46dea02d0\n",
      "Sentinel1EtadBurst(\"/IW3/Burst0210\")  0x7fd45a01d850\n",
      "Sentinel1EtadBurst(\"/IW3/Burst0213\")  0x7fd45a01dad0\n",
      "Sentinel1EtadBurst(\"/IW3/Burst0216\")  0x7fd45a01d910\n",
      "Sentinel1EtadBurst(\"/IW3/Burst0219\")  0x7fd45a01df10\n",
      "Sentinel1EtadBurst(\"/IW3/Burst0222\")  0x7fd45a01d210\n",
      "Sentinel1EtadBurst(\"/IW3/Burst0225\")  0x7fd45a01d410\n",
      "Sentinel1EtadBurst(\"/IW3/Burst0228\")  0x7fd45a01d1d0\n",
      "Sentinel1EtadBurst(\"/IW3/Burst0231\")  0x7fd45a01d0d0\n",
      "Sentinel1EtadBurst(\"/IW3/Burst0234\")  0x7fd45a01d390\n",
      "Sentinel1EtadBurst(\"/IW3/Burst0237\")  0x7fd45a01d790\n",
      "Sentinel1EtadBurst(\"/IW3/Burst0240\")  0x7fd45a01db90\n",
      "Sentinel1EtadBurst(\"/IW3/Burst0243\")  0x7fd45a01b110\n",
      "Sentinel1EtadBurst(\"/IW3/Burst0246\")  0x7fd45a01b590\n",
      "Sentinel1EtadBurst(\"/IW3/Burst0249\")  0x7fd45a01b910\n",
      "Sentinel1EtadBurst(\"/IW3/Burst0252\")  0x7fd45a01b410\n",
      "Sentinel1EtadBurst(\"/IW3/Burst0255\")  0x7fd45a01b090\n",
      "Sentinel1EtadBurst(\"/IW3/Burst0258\")  0x7fd45a01b810\n",
      "Sentinel1EtadBurst(\"/IW3/Burst0261\")  0x7fd45a01b390\n",
      "Sentinel1EtadBurst(\"/IW3/Burst0264\")  0x7fd45a01b190\n",
      "Sentinel1EtadBurst(\"/IW3/Burst0267\")  0x7fd45a01b690\n",
      "Sentinel1EtadBurst(\"/IW3/Burst0270\")  0x7fd45a01b790\n",
      "Sentinel1EtadBurst(\"/IW3/Burst0273\")  0x7fd45a01bb90\n",
      "Sentinel1EtadBurst(\"/IW3/Burst0276\")  0x7fd45a01bf90\n",
      "Sentinel1EtadBurst(\"/IW3/Burst0279\")  0x7fd45a0114d0\n",
      "Sentinel1EtadBurst(\"/IW3/Burst0282\")  0x7fd45a0112d0\n",
      "Sentinel1EtadBurst(\"/IW3/Burst0285\")  0x7fd45a011190\n",
      "Sentinel1EtadBurst(\"/IW3/Burst0288\")  0x7fd45a011050\n",
      "Sentinel1EtadBurst(\"/IW3/Burst0291\")  0x7fd45a011d90\n",
      "Sentinel1EtadBurst(\"/IW3/Burst0294\")  0x7fd45a011a10\n",
      "Sentinel1EtadBurst(\"/IW3/Burst0297\")  0x7fd45a011f10\n",
      "Sentinel1EtadBurst(\"/IW3/Burst0300\")  0x7fd45a011fd0\n",
      "Sentinel1EtadBurst(\"/IW3/Burst0303\")  0x7fd45a011b90\n",
      "Sentinel1EtadBurst(\"/IW3/Burst0306\")  0x7fd45a011c90\n"
     ]
    }
   ],
   "source": [
    "query_result = eta.query_burst(swath='IW3')\n",
    "\n",
    "for swath in eta.iter_swaths(query_result):\n",
    "    for burst in swath.iter_bursts(query_result):\n",
    "        print(burst)"
   ]
  }
 ],
 "metadata": {
  "kernelspec": {
   "display_name": "Python 3",
   "language": "python",
   "name": "python3"
  },
  "language_info": {
   "codemirror_mode": {
    "name": "ipython",
    "version": 3
   },
   "file_extension": ".py",
   "mimetype": "text/x-python",
   "name": "python",
   "nbconvert_exporter": "python",
   "pygments_lexer": "ipython3",
   "version": "3.7.9"
  },
  "toc-autonumbering": true
 },
 "nbformat": 4,
 "nbformat_minor": 4
}
