{
 "cells": [
  {
   "cell_type": "markdown",
   "metadata": {},
   "source": [
    "# Basic usage"
   ]
  },
  {
   "cell_type": "markdown",
   "metadata": {},
   "source": [
    "## Notebook setup"
   ]
  },
  {
   "cell_type": "code",
   "execution_count": 1,
   "metadata": {},
   "outputs": [],
   "source": [
    "%matplotlib inline\n",
    "%load_ext autoreload\n",
    "%autoreload 2"
   ]
  },
  {
   "cell_type": "code",
   "execution_count": 2,
   "metadata": {},
   "outputs": [],
   "source": [
    "import sys\n",
    "\n",
    "sys.path.append(\"../..\")"
   ]
  },
  {
   "cell_type": "code",
   "execution_count": 3,
   "metadata": {},
   "outputs": [],
   "source": [
    "from s1etad import Sentinel1Etad"
   ]
  },
  {
   "cell_type": "markdown",
   "metadata": {},
   "source": [
    "## Sentinel1Etad product"
   ]
  },
  {
   "cell_type": "code",
   "execution_count": 4,
   "metadata": {},
   "outputs": [],
   "source": [
    "filename = (\n",
    "    \"data/\"\n",
    "    \"S1B_IW_ETA__AXDV_20200124T221416_20200124T221444_019964_025C43_0A63.SAFE\"\n",
    ")"
   ]
  },
  {
   "cell_type": "code",
   "execution_count": 5,
   "metadata": {},
   "outputs": [],
   "source": [
    "eta = Sentinel1Etad(filename)"
   ]
  },
  {
   "cell_type": "code",
   "execution_count": 6,
   "metadata": {},
   "outputs": [
    {
     "data": {
      "text/plain": [
       "Sentinel1Etad(\"data/S1B_IW_ETA__AXDV_20200124T221416_20200124T221444_019964_025C43_0A63.SAFE\")  # 0x7abdc4281520\n",
       "Number of Sentinel-1 slices: 1\n",
       "Sentinel-1 products list:\n",
       "  S1B_IW_SLC__1ADV_20200124T221416_20200124T221444_019964_025C43_95FB.SAFE\n",
       "Number of swaths: 3\n",
       "Swath list: IW1, IW2, IW3\n",
       "Azimuth time:\n",
       "  min: 2020-01-24 22:14:16.480938\n",
       "  max: 2020-01-24 22:14:44.428152\n",
       "Range time:\n",
       "  min: 0.005328684957372668\n",
       "  max: 0.006383362874313361\n",
       "Grid sampling:\n",
       "  x: 8.131672451354599e-07\n",
       "  y: 0.02932551319648094\n",
       "  unit: s\n",
       "Grid spacing:\n",
       "  x: 200.0\n",
       "  y: 200.0\n",
       "  unit: m\n",
       "Processing settings:\n",
       "  troposphericDelayCorrection: True\n",
       "  ionosphericDelayCorrection: True\n",
       "  solidEarthTideCorrection: True\n",
       "  bistaticAzimuthCorrection: True\n",
       "  dopplerShiftRangeCorrection: True\n",
       "  FMMismatchAzimuthCorrection: True"
      ]
     },
     "execution_count": 6,
     "metadata": {},
     "output_type": "execute_result"
    }
   ],
   "source": [
    "eta"
   ]
  },
  {
   "cell_type": "markdown",
   "metadata": {},
   "source": [
    "### Check which corrections have been enabled"
   ]
  },
  {
   "cell_type": "code",
   "execution_count": 7,
   "metadata": {},
   "outputs": [
    {
     "data": {
      "text/plain": [
       "{'troposphericDelayCorrection': True,\n",
       " 'ionosphericDelayCorrection': True,\n",
       " 'solidEarthTideCorrection': True,\n",
       " 'bistaticAzimuthCorrection': True,\n",
       " 'dopplerShiftRangeCorrection': True,\n",
       " 'FMMismatchAzimuthCorrection': True}"
      ]
     },
     "execution_count": 7,
     "metadata": {},
     "output_type": "execute_result"
    }
   ],
   "source": [
    "eta.processing_setting()"
   ]
  },
  {
   "cell_type": "markdown",
   "metadata": {},
   "source": [
    "### The burst catalogue"
   ]
  },
  {
   "cell_type": "markdown",
   "metadata": {},
   "source": [
    "It is a pandas dataframe to allow easy filtering.\n",
    "\n",
    "See also use cases in the \"Use case 1: Selecting the bursts\" section for a more complete explanation on the burst catalogue and the query mechanism."
   ]
  },
  {
   "cell_type": "code",
   "execution_count": 8,
   "metadata": {},
   "outputs": [
    {
     "data": {
      "text/html": [
       "<div>\n",
       "<style scoped>\n",
       "    .dataframe tbody tr th:only-of-type {\n",
       "        vertical-align: middle;\n",
       "    }\n",
       "\n",
       "    .dataframe tbody tr th {\n",
       "        vertical-align: top;\n",
       "    }\n",
       "\n",
       "    .dataframe thead th {\n",
       "        text-align: right;\n",
       "    }\n",
       "</style>\n",
       "<table border=\"1\" class=\"dataframe\">\n",
       "  <thead>\n",
       "    <tr style=\"text-align: right;\">\n",
       "      <th></th>\n",
       "      <th>bIndex</th>\n",
       "      <th>pIndex</th>\n",
       "      <th>sIndex</th>\n",
       "      <th>productID</th>\n",
       "      <th>swathID</th>\n",
       "      <th>azimuthTimeMin</th>\n",
       "      <th>azimuthTimeMax</th>\n",
       "    </tr>\n",
       "  </thead>\n",
       "  <tbody>\n",
       "    <tr>\n",
       "      <th>0</th>\n",
       "      <td>1</td>\n",
       "      <td>1</td>\n",
       "      <td>1</td>\n",
       "      <td>S1B_IW_SLC__1ADV_20200124T221416_20200124T2214...</td>\n",
       "      <td>IW1</td>\n",
       "      <td>2020-01-24 22:14:16.480938000</td>\n",
       "      <td>2020-01-24 22:14:19.618767912</td>\n",
       "    </tr>\n",
       "    <tr>\n",
       "      <th>1</th>\n",
       "      <td>4</td>\n",
       "      <td>1</td>\n",
       "      <td>1</td>\n",
       "      <td>S1B_IW_SLC__1ADV_20200124T221416_20200124T2214...</td>\n",
       "      <td>IW1</td>\n",
       "      <td>2020-01-24 22:14:19.237536240</td>\n",
       "      <td>2020-01-24 22:14:22.375366152</td>\n",
       "    </tr>\n",
       "    <tr>\n",
       "      <th>2</th>\n",
       "      <td>7</td>\n",
       "      <td>1</td>\n",
       "      <td>1</td>\n",
       "      <td>S1B_IW_SLC__1ADV_20200124T221416_20200124T2214...</td>\n",
       "      <td>IW1</td>\n",
       "      <td>2020-01-24 22:14:21.994134480</td>\n",
       "      <td>2020-01-24 22:14:25.131964392</td>\n",
       "    </tr>\n",
       "    <tr>\n",
       "      <th>3</th>\n",
       "      <td>10</td>\n",
       "      <td>1</td>\n",
       "      <td>1</td>\n",
       "      <td>S1B_IW_SLC__1ADV_20200124T221416_20200124T2214...</td>\n",
       "      <td>IW1</td>\n",
       "      <td>2020-01-24 22:14:24.750732721</td>\n",
       "      <td>2020-01-24 22:14:27.888562633</td>\n",
       "    </tr>\n",
       "    <tr>\n",
       "      <th>4</th>\n",
       "      <td>13</td>\n",
       "      <td>1</td>\n",
       "      <td>1</td>\n",
       "      <td>S1B_IW_SLC__1ADV_20200124T221416_20200124T2214...</td>\n",
       "      <td>IW1</td>\n",
       "      <td>2020-01-24 22:14:27.507330961</td>\n",
       "      <td>2020-01-24 22:14:30.645160873</td>\n",
       "    </tr>\n",
       "  </tbody>\n",
       "</table>\n",
       "</div>"
      ],
      "text/plain": [
       "   bIndex  pIndex  sIndex                                          productID  \\\n",
       "0       1       1       1  S1B_IW_SLC__1ADV_20200124T221416_20200124T2214...   \n",
       "1       4       1       1  S1B_IW_SLC__1ADV_20200124T221416_20200124T2214...   \n",
       "2       7       1       1  S1B_IW_SLC__1ADV_20200124T221416_20200124T2214...   \n",
       "3      10       1       1  S1B_IW_SLC__1ADV_20200124T221416_20200124T2214...   \n",
       "4      13       1       1  S1B_IW_SLC__1ADV_20200124T221416_20200124T2214...   \n",
       "\n",
       "  swathID                azimuthTimeMin                azimuthTimeMax  \n",
       "0     IW1 2020-01-24 22:14:16.480938000 2020-01-24 22:14:19.618767912  \n",
       "1     IW1 2020-01-24 22:14:19.237536240 2020-01-24 22:14:22.375366152  \n",
       "2     IW1 2020-01-24 22:14:21.994134480 2020-01-24 22:14:25.131964392  \n",
       "3     IW1 2020-01-24 22:14:24.750732721 2020-01-24 22:14:27.888562633  \n",
       "4     IW1 2020-01-24 22:14:27.507330961 2020-01-24 22:14:30.645160873  "
      ]
     },
     "execution_count": 8,
     "metadata": {},
     "output_type": "execute_result"
    }
   ],
   "source": [
    "eta.burst_catalogue.head()"
   ]
  },
  {
   "cell_type": "markdown",
   "metadata": {},
   "source": [
    "**Tip**: the total number of bursts in a product can be retrieved as follows:"
   ]
  },
  {
   "cell_type": "code",
   "execution_count": 9,
   "metadata": {},
   "outputs": [
    {
     "name": "stdout",
     "output_type": "stream",
     "text": [
      "Total number of bursts: 28\n"
     ]
    }
   ],
   "source": [
    "print(\"Total number of bursts:\", len(eta.burst_catalogue))"
   ]
  },
  {
   "cell_type": "markdown",
   "metadata": {},
   "source": [
    "## Swath objects"
   ]
  },
  {
   "cell_type": "markdown",
   "metadata": {},
   "source": [
    "### How many swaths are stored in a product?"
   ]
  },
  {
   "cell_type": "code",
   "execution_count": 10,
   "metadata": {},
   "outputs": [
    {
     "name": "stdout",
     "output_type": "stream",
     "text": [
      "Number of swaths: 3\n",
      "Swath list: ['IW1', 'IW2', 'IW3']\n"
     ]
    }
   ],
   "source": [
    "print(\"Number of swaths:\", eta.number_of_swath)\n",
    "print(\"Swath list:\", eta.swath_list)"
   ]
  },
  {
   "cell_type": "markdown",
   "metadata": {},
   "source": [
    "### How to retrieve a Sentinel1EtadSwath object"
   ]
  },
  {
   "cell_type": "code",
   "execution_count": 11,
   "metadata": {},
   "outputs": [],
   "source": [
    "swath = eta[\"IW2\"]"
   ]
  },
  {
   "cell_type": "code",
   "execution_count": 12,
   "metadata": {},
   "outputs": [
    {
     "data": {
      "text/plain": [
       "Sentinel1EtadSwath(\"/IW2\")  0x7abdac0b96a0\n",
       "Swaths ID: IW2\n",
       "Number of bursts: 9\n",
       "Burst list: [2, 5, 8, 11, 14, 17, 20, 23, 26]\n",
       "Sampling start:\n",
       "  x: 0.00031062988764174633\n",
       "  y: 0.9384164222873892\n",
       "  units: s\n",
       "Sampling:\n",
       "  x: 8.131672451354599e-07\n",
       "  y: 0.02932551319648094\n",
       "  units: s"
      ]
     },
     "execution_count": 12,
     "metadata": {},
     "output_type": "execute_result"
    }
   ],
   "source": [
    "swath"
   ]
  },
  {
   "cell_type": "markdown",
   "metadata": {},
   "source": [
    "## Burst objects"
   ]
  },
  {
   "cell_type": "code",
   "execution_count": 13,
   "metadata": {},
   "outputs": [],
   "source": [
    "burst = swath[2]"
   ]
  },
  {
   "cell_type": "code",
   "execution_count": 14,
   "metadata": {},
   "outputs": [
    {
     "data": {
      "text/plain": [
       "Sentinel1EtadBurst(\"/IW2/Burst0002\")  0x7abd6f5a29f0\n",
       "Swaths ID: IW2\n",
       "Burst index: 2\n",
       "Shape: (109, 476)\n",
       "Sampling start:\n",
       "  x: 0.00031062988764174633\n",
       "  y: 0.9384164222873892\n",
       "  units: s\n",
       "Sampling:\n",
       "  x: 8.131672451354599e-07\n",
       "  y: 0.02932551319648094\n",
       "  units: s"
      ]
     },
     "execution_count": 14,
     "metadata": {},
     "output_type": "execute_result"
    }
   ],
   "source": [
    "burst"
   ]
  },
  {
   "cell_type": "markdown",
   "metadata": {},
   "source": [
    "**NOTE**: one can only get bursts whose index is present in the \"burst list\" of the swath"
   ]
  },
  {
   "cell_type": "code",
   "execution_count": 15,
   "metadata": {},
   "outputs": [
    {
     "data": {
      "text/plain": [
       "[2, 5, 8, 11, 14, 17, 20, 23, 26]"
      ]
     },
     "execution_count": 15,
     "metadata": {},
     "output_type": "execute_result"
    }
   ],
   "source": [
    "swath.burst_list"
   ]
  },
  {
   "cell_type": "code",
   "execution_count": 16,
   "metadata": {},
   "outputs": [
    {
     "name": "stdout",
     "output_type": "stream",
     "text": [
      "ERROR: Ops someting went wrong: IndexError('Burst0001 not found in /IW2')\n"
     ]
    }
   ],
   "source": [
    "try:\n",
    "    swath[1]\n",
    "except IndexError as exc:\n",
    "    print(\"ERROR: Ops someting went wrong:\", repr(exc))"
   ]
  },
  {
   "cell_type": "markdown",
   "metadata": {},
   "source": [
    "## String representation"
   ]
  },
  {
   "cell_type": "markdown",
   "metadata": {},
   "source": [
    "Please note that the string representation of Sentinel1Etad object is a \"one-line\" string providing only basic information:"
   ]
  },
  {
   "cell_type": "code",
   "execution_count": 17,
   "metadata": {},
   "outputs": [
    {
     "name": "stdout",
     "output_type": "stream",
     "text": [
      "Product: Sentinel1Etad(\"S1B_IW_ETA__AXDV_20200124T221416_20200124T221444_019964_025C43_0A63.SAFE\")\n",
      "Swath: Sentinel1EtadSwath(\"/IW2\")  0x7abdac0b96a0\n",
      "Burst: Sentinel1EtadBurst(\"/IW2/Burst0002\")  0x7abd6f5a29f0\n"
     ]
    }
   ],
   "source": [
    "print(\"Product:\", str(eta))\n",
    "print(\"Swath:\", str(swath))\n",
    "print(\"Burst:\", str(burst))"
   ]
  },
  {
   "cell_type": "markdown",
   "metadata": {},
   "source": [
    "Anyway in Jupyter environments a richer representation is also available:"
   ]
  },
  {
   "cell_type": "code",
   "execution_count": 18,
   "metadata": {},
   "outputs": [
    {
     "data": {
      "text/plain": [
       "Sentinel1Etad(\"data/S1B_IW_ETA__AXDV_20200124T221416_20200124T221444_019964_025C43_0A63.SAFE\")  # 0x7abdc4281520\n",
       "Number of Sentinel-1 slices: 1\n",
       "Sentinel-1 products list:\n",
       "  S1B_IW_SLC__1ADV_20200124T221416_20200124T221444_019964_025C43_95FB.SAFE\n",
       "Number of swaths: 3\n",
       "Swath list: IW1, IW2, IW3\n",
       "Azimuth time:\n",
       "  min: 2020-01-24 22:14:16.480938\n",
       "  max: 2020-01-24 22:14:44.428152\n",
       "Range time:\n",
       "  min: 0.005328684957372668\n",
       "  max: 0.006383362874313361\n",
       "Grid sampling:\n",
       "  x: 8.131672451354599e-07\n",
       "  y: 0.02932551319648094\n",
       "  unit: s\n",
       "Grid spacing:\n",
       "  x: 200.0\n",
       "  y: 200.0\n",
       "  unit: m\n",
       "Processing settings:\n",
       "  troposphericDelayCorrection: True\n",
       "  ionosphericDelayCorrection: True\n",
       "  solidEarthTideCorrection: True\n",
       "  bistaticAzimuthCorrection: True\n",
       "  dopplerShiftRangeCorrection: True\n",
       "  FMMismatchAzimuthCorrection: True"
      ]
     },
     "execution_count": 18,
     "metadata": {},
     "output_type": "execute_result"
    }
   ],
   "source": [
    "eta"
   ]
  },
  {
   "cell_type": "markdown",
   "metadata": {},
   "source": [
    "## Iteration"
   ]
  },
  {
   "cell_type": "markdown",
   "metadata": {},
   "source": [
    "It is possible to iterate over products and swats in the same way one does it with any other python container."
   ]
  },
  {
   "cell_type": "code",
   "execution_count": 19,
   "metadata": {},
   "outputs": [
    {
     "name": "stdout",
     "output_type": "stream",
     "text": [
      "Sentinel1EtadSwath(\"/IW1\")  0x7abd6f5a3410\n",
      "1 IW1 Sentinel1EtadBurst(\"/IW1/Burst0001\")  0x7abd6f5a34a0\n",
      "4 IW1 Sentinel1EtadBurst(\"/IW1/Burst0004\")  0x7abd6f5a0ce0\n",
      "7 IW1 Sentinel1EtadBurst(\"/IW1/Burst0007\")  0x7abd6f5a2f00\n",
      "10 IW1 Sentinel1EtadBurst(\"/IW1/Burst0010\")  0x7abd6f5a3bf0\n",
      "13 IW1 Sentinel1EtadBurst(\"/IW1/Burst0013\")  0x7abd6f5a2e10\n",
      "16 IW1 Sentinel1EtadBurst(\"/IW1/Burst0016\")  0x7abd6f5a38f0\n",
      "19 IW1 Sentinel1EtadBurst(\"/IW1/Burst0019\")  0x7abd6f5a3a10\n",
      "22 IW1 Sentinel1EtadBurst(\"/IW1/Burst0022\")  0x7abd6f5a3710\n",
      "25 IW1 Sentinel1EtadBurst(\"/IW1/Burst0025\")  0x7abd6f5a27e0\n",
      "28 IW1 Sentinel1EtadBurst(\"/IW1/Burst0028\")  0x7abd6f5a3560\n",
      "\n",
      "Sentinel1EtadSwath(\"/IW2\")  0x7abdac0b96a0\n",
      "2 IW2 Sentinel1EtadBurst(\"/IW2/Burst0002\")  0x7abd6f5a29f0\n",
      "5 IW2 Sentinel1EtadBurst(\"/IW2/Burst0005\")  0x7abd6f5a37d0\n",
      "8 IW2 Sentinel1EtadBurst(\"/IW2/Burst0008\")  0x7abd6f5a2c60\n",
      "11 IW2 Sentinel1EtadBurst(\"/IW2/Burst0011\")  0x7abd6f5a2ba0\n",
      "14 IW2 Sentinel1EtadBurst(\"/IW2/Burst0014\")  0x7abd6f5a3c50\n",
      "17 IW2 Sentinel1EtadBurst(\"/IW2/Burst0017\")  0x7abd6f5a28d0\n",
      "20 IW2 Sentinel1EtadBurst(\"/IW2/Burst0020\")  0x7abd6f5a1640\n",
      "23 IW2 Sentinel1EtadBurst(\"/IW2/Burst0023\")  0x7abd6f5a30e0\n",
      "26 IW2 Sentinel1EtadBurst(\"/IW2/Burst0026\")  0x7abd6f5a3740\n",
      "\n",
      "Sentinel1EtadSwath(\"/IW3\")  0x7abd6f5a03b0\n",
      "3 IW3 Sentinel1EtadBurst(\"/IW3/Burst0003\")  0x7abd6f5a3470\n",
      "6 IW3 Sentinel1EtadBurst(\"/IW3/Burst0006\")  0x7abd6f5a3cb0\n",
      "9 IW3 Sentinel1EtadBurst(\"/IW3/Burst0009\")  0x7abd6f5a3950\n",
      "12 IW3 Sentinel1EtadBurst(\"/IW3/Burst0012\")  0x7abd6f5a3b90\n",
      "15 IW3 Sentinel1EtadBurst(\"/IW3/Burst0015\")  0x7abd6f5a18e0\n",
      "18 IW3 Sentinel1EtadBurst(\"/IW3/Burst0018\")  0x7abd6f5a3d40\n",
      "21 IW3 Sentinel1EtadBurst(\"/IW3/Burst0021\")  0x7abd6f5a3260\n",
      "24 IW3 Sentinel1EtadBurst(\"/IW3/Burst0024\")  0x7abd6f5a3da0\n",
      "27 IW3 Sentinel1EtadBurst(\"/IW3/Burst0027\")  0x7abd6f5a3e30\n",
      "\n"
     ]
    }
   ],
   "source": [
    "for swath in eta:\n",
    "    print(swath)\n",
    "    for burst in swath:\n",
    "        print(burst.burst_index, burst.swath_id, burst)\n",
    "    print()"
   ]
  },
  {
   "cell_type": "markdown",
   "metadata": {},
   "source": [
    "### How to iterate only on selected items"
   ]
  },
  {
   "cell_type": "markdown",
   "metadata": {},
   "source": [
    "It is also possible to iterate on a sub-set of the products swaths (or a sub-set of the swath bursts):"
   ]
  },
  {
   "cell_type": "code",
   "execution_count": 20,
   "metadata": {},
   "outputs": [
    {
     "name": "stdout",
     "output_type": "stream",
     "text": [
      " 1 IW1 Sentinel1EtadBurst(\"/IW1/Burst0001\")  0x7abd6f5a34a0\n",
      " 7 IW1 Sentinel1EtadBurst(\"/IW1/Burst0007\")  0x7abd6f5a2f00\n",
      "13 IW1 Sentinel1EtadBurst(\"/IW1/Burst0013\")  0x7abd6f5a2e10\n",
      "19 IW1 Sentinel1EtadBurst(\"/IW1/Burst0019\")  0x7abd6f5a3a10\n",
      "25 IW1 Sentinel1EtadBurst(\"/IW1/Burst0025\")  0x7abd6f5a27e0\n",
      " 5 IW2 Sentinel1EtadBurst(\"/IW2/Burst0005\")  0x7abd6f5a37d0\n",
      "11 IW2 Sentinel1EtadBurst(\"/IW2/Burst0011\")  0x7abd6f5a2ba0\n",
      "17 IW2 Sentinel1EtadBurst(\"/IW2/Burst0017\")  0x7abd6f5a28d0\n",
      "23 IW2 Sentinel1EtadBurst(\"/IW2/Burst0023\")  0x7abd6f5a30e0\n"
     ]
    }
   ],
   "source": [
    "for swath in eta.iter_swaths([\"IW1\", \"IW2\"]):  # no 'IW3'\n",
    "    # list of bursts\n",
    "    odd_bursts = [idx for idx in swath.burst_list if idx % 2 != 0]\n",
    "    for burst in swath.iter_bursts(odd_bursts):\n",
    "        print(f\"{burst.burst_index:2} {burst.swath_id} {burst}\")"
   ]
  },
  {
   "cell_type": "markdown",
   "metadata": {},
   "source": [
    "### How to iterate on query results"
   ]
  },
  {
   "cell_type": "markdown",
   "metadata": {},
   "source": [
    "The query mechanism is explained extensively in the following.\n",
    "\n",
    "Queries can be performed using the `Sentinel1Etad.query_burst` method.\n",
    "\n",
    "A simple example is a query for a specific swath:"
   ]
  },
  {
   "cell_type": "code",
   "execution_count": 21,
   "metadata": {},
   "outputs": [
    {
     "name": "stdout",
     "output_type": "stream",
     "text": [
      "Sentinel1EtadBurst(\"/IW3/Burst0003\")  0x7abd6f5a3470\n",
      "Sentinel1EtadBurst(\"/IW3/Burst0006\")  0x7abd6f5a3cb0\n",
      "Sentinel1EtadBurst(\"/IW3/Burst0009\")  0x7abd6f5a3950\n",
      "Sentinel1EtadBurst(\"/IW3/Burst0012\")  0x7abd6f5a3b90\n",
      "Sentinel1EtadBurst(\"/IW3/Burst0015\")  0x7abd6f5a18e0\n",
      "Sentinel1EtadBurst(\"/IW3/Burst0018\")  0x7abd6f5a3d40\n",
      "Sentinel1EtadBurst(\"/IW3/Burst0021\")  0x7abd6f5a3260\n",
      "Sentinel1EtadBurst(\"/IW3/Burst0024\")  0x7abd6f5a3da0\n",
      "Sentinel1EtadBurst(\"/IW3/Burst0027\")  0x7abd6f5a3e30\n"
     ]
    }
   ],
   "source": [
    "query_result = eta.query_burst(swath=\"IW3\")\n",
    "\n",
    "for swath in eta.iter_swaths(query_result):\n",
    "    for burst in swath.iter_bursts(query_result):\n",
    "        print(burst)"
   ]
  }
 ],
 "metadata": {
  "kernelspec": {
   "display_name": "Python 3",
   "language": "python",
   "name": "python3"
  },
  "language_info": {
   "codemirror_mode": {
    "name": "ipython",
    "version": 3
   },
   "file_extension": ".py",
   "mimetype": "text/x-python",
   "name": "python",
   "nbconvert_exporter": "python",
   "pygments_lexer": "ipython3",
   "version": "3.12.7"
  },
  "toc-autonumbering": true
 },
 "nbformat": 4,
 "nbformat_minor": 4
}
