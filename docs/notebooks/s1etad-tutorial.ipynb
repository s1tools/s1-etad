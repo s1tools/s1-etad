{
 "cells": [
  {
   "cell_type": "markdown",
   "metadata": {},
   "source": [
    "# Basic usage"
   ]
  },
  {
   "cell_type": "markdown",
   "metadata": {},
   "source": [
    "## Notebook setup"
   ]
  },
  {
   "cell_type": "code",
   "execution_count": 21,
   "metadata": {},
   "outputs": [],
   "source": [
    "%matplotlib inline\n",
    "%load_ext autoreload\n",
    "%autoreload 2"
   ]
  },
  {
   "cell_type": "code",
   "execution_count": 22,
   "metadata": {},
   "outputs": [],
   "source": [
    "import sys\n",
    "\n",
    "sys.path.append(\"../..\")"
   ]
  },
  {
   "cell_type": "code",
   "execution_count": 23,
   "metadata": {},
   "outputs": [],
   "source": [
    "from s1etad import Sentinel1Etad"
   ]
  },
  {
   "cell_type": "markdown",
   "metadata": {},
   "source": [
    "## Sentinel1Etad product"
   ]
  },
  {
   "cell_type": "code",
   "execution_count": 24,
   "metadata": {},
   "outputs": [],
   "source": [
    "filename = (\n",
    "    \"data/\"\n",
    "    \"S1A_IW_ETA__AXDV_20230806T211729_20230806T211757_049760_05FBCB_9DD6.SAFE\"\n",
    ")"
   ]
  },
  {
   "cell_type": "code",
   "execution_count": 25,
   "metadata": {},
   "outputs": [],
   "source": [
    "eta = Sentinel1Etad(filename)"
   ]
  },
  {
   "cell_type": "code",
   "execution_count": 26,
   "metadata": {},
   "outputs": [
    {
     "data": {
      "text/plain": [
       "Sentinel1Etad(\"data/S1A_IW_ETA__AXDV_20230806T211729_20230806T211757_049760_05FBCB_9DD6.SAFE\")  # 0x739cd86265d0\n",
       "Number of Sentinel-1 slices: 1\n",
       "Sentinel-1 products list:\n",
       "  S1A_IW_SLC__1SDV_20230806T211729_20230806T211757_049760_05FBCB_BC56.SAFE\n",
       "Number of swaths: 3\n",
       "Swath list: IW1, IW2, IW3\n",
       "Azimuth time:\n",
       "  min: 2023-08-06 21:17:29.208211\n",
       "  max: 2023-08-06 21:17:57.184751\n",
       "Range time:\n",
       "  min: 0.0053335639608434815\n",
       "  max: 0.006389868212274445\n",
       "Grid sampling:\n",
       "  x: 8.131672451354599e-07\n",
       "  y: 0.02932551319648094\n",
       "  unit: s\n",
       "Grid spacing:\n",
       "  x: 200.0\n",
       "  y: 200.0\n",
       "  unit: m\n",
       "Processing settings:\n",
       "  troposphericDelayCorrection: True\n",
       "  troposphericDelayCorrectionGradient: True\n",
       "  ionosphericDelayCorrection: True\n",
       "  solidEarthTideCorrection: True\n",
       "  oceanTidalLoadingCorrection: True\n",
       "  bistaticAzimuthCorrection: True\n",
       "  dopplerShiftRangeCorrection: True\n",
       "  FMMismatchAzimuthCorrection: True"
      ]
     },
     "execution_count": 26,
     "metadata": {},
     "output_type": "execute_result"
    }
   ],
   "source": [
    "eta"
   ]
  },
  {
   "cell_type": "markdown",
   "metadata": {},
   "source": [
    "### Check which corrections have been enabled"
   ]
  },
  {
   "cell_type": "code",
   "execution_count": 27,
   "metadata": {},
   "outputs": [
    {
     "data": {
      "text/plain": [
       "{'troposphericDelayCorrection': True,\n",
       " 'troposphericDelayCorrectionGradient': True,\n",
       " 'ionosphericDelayCorrection': True,\n",
       " 'solidEarthTideCorrection': True,\n",
       " 'oceanTidalLoadingCorrection': True,\n",
       " 'bistaticAzimuthCorrection': True,\n",
       " 'dopplerShiftRangeCorrection': True,\n",
       " 'FMMismatchAzimuthCorrection': True}"
      ]
     },
     "execution_count": 27,
     "metadata": {},
     "output_type": "execute_result"
    }
   ],
   "source": [
    "eta.processing_setting()"
   ]
  },
  {
   "cell_type": "markdown",
   "metadata": {},
   "source": [
    "### The burst catalogue"
   ]
  },
  {
   "cell_type": "markdown",
   "metadata": {},
   "source": [
    "It is a pandas dataframe to allow easy filtering.\n",
    "\n",
    "See also use cases in the \"Use case 1: Selecting the bursts\" section for a more complete explanation on the burst catalogue and the query mechanism."
   ]
  },
  {
   "cell_type": "code",
   "execution_count": 28,
   "metadata": {},
   "outputs": [
    {
     "data": {
      "text/html": [
       "<div>\n",
       "<style scoped>\n",
       "    .dataframe tbody tr th:only-of-type {\n",
       "        vertical-align: middle;\n",
       "    }\n",
       "\n",
       "    .dataframe tbody tr th {\n",
       "        vertical-align: top;\n",
       "    }\n",
       "\n",
       "    .dataframe thead th {\n",
       "        text-align: right;\n",
       "    }\n",
       "</style>\n",
       "<table border=\"1\" class=\"dataframe\">\n",
       "  <thead>\n",
       "    <tr style=\"text-align: right;\">\n",
       "      <th></th>\n",
       "      <th>bIndex</th>\n",
       "      <th>pIndex</th>\n",
       "      <th>sIndex</th>\n",
       "      <th>productID</th>\n",
       "      <th>swathID</th>\n",
       "      <th>azimuthTimeMin</th>\n",
       "      <th>azimuthTimeMax</th>\n",
       "    </tr>\n",
       "  </thead>\n",
       "  <tbody>\n",
       "    <tr>\n",
       "      <th>0</th>\n",
       "      <td>1</td>\n",
       "      <td>1</td>\n",
       "      <td>1</td>\n",
       "      <td>S1A_IW_SLC__1SDV_20230806T211729_20230806T2117...</td>\n",
       "      <td>IW1</td>\n",
       "      <td>2023-08-06 21:17:29.208211000</td>\n",
       "      <td>2023-08-06 21:17:32.346040912</td>\n",
       "    </tr>\n",
       "    <tr>\n",
       "      <th>1</th>\n",
       "      <td>4</td>\n",
       "      <td>1</td>\n",
       "      <td>1</td>\n",
       "      <td>S1A_IW_SLC__1SDV_20230806T211729_20230806T2117...</td>\n",
       "      <td>IW1</td>\n",
       "      <td>2023-08-06 21:17:31.964809240</td>\n",
       "      <td>2023-08-06 21:17:35.131964665</td>\n",
       "    </tr>\n",
       "    <tr>\n",
       "      <th>2</th>\n",
       "      <td>7</td>\n",
       "      <td>1</td>\n",
       "      <td>1</td>\n",
       "      <td>S1A_IW_SLC__1SDV_20230806T211729_20230806T2117...</td>\n",
       "      <td>IW1</td>\n",
       "      <td>2023-08-06 21:17:34.721407480</td>\n",
       "      <td>2023-08-06 21:17:37.888562906</td>\n",
       "    </tr>\n",
       "    <tr>\n",
       "      <th>3</th>\n",
       "      <td>10</td>\n",
       "      <td>1</td>\n",
       "      <td>1</td>\n",
       "      <td>S1A_IW_SLC__1SDV_20230806T211729_20230806T2117...</td>\n",
       "      <td>IW1</td>\n",
       "      <td>2023-08-06 21:17:37.478005721</td>\n",
       "      <td>2023-08-06 21:17:40.645161146</td>\n",
       "    </tr>\n",
       "    <tr>\n",
       "      <th>4</th>\n",
       "      <td>13</td>\n",
       "      <td>1</td>\n",
       "      <td>1</td>\n",
       "      <td>S1A_IW_SLC__1SDV_20230806T211729_20230806T2117...</td>\n",
       "      <td>IW1</td>\n",
       "      <td>2023-08-06 21:17:40.234603961</td>\n",
       "      <td>2023-08-06 21:17:43.401759387</td>\n",
       "    </tr>\n",
       "  </tbody>\n",
       "</table>\n",
       "</div>"
      ],
      "text/plain": [
       "   bIndex  pIndex  sIndex                                          productID  \\\n",
       "0       1       1       1  S1A_IW_SLC__1SDV_20230806T211729_20230806T2117...   \n",
       "1       4       1       1  S1A_IW_SLC__1SDV_20230806T211729_20230806T2117...   \n",
       "2       7       1       1  S1A_IW_SLC__1SDV_20230806T211729_20230806T2117...   \n",
       "3      10       1       1  S1A_IW_SLC__1SDV_20230806T211729_20230806T2117...   \n",
       "4      13       1       1  S1A_IW_SLC__1SDV_20230806T211729_20230806T2117...   \n",
       "\n",
       "  swathID                azimuthTimeMin                azimuthTimeMax  \n",
       "0     IW1 2023-08-06 21:17:29.208211000 2023-08-06 21:17:32.346040912  \n",
       "1     IW1 2023-08-06 21:17:31.964809240 2023-08-06 21:17:35.131964665  \n",
       "2     IW1 2023-08-06 21:17:34.721407480 2023-08-06 21:17:37.888562906  \n",
       "3     IW1 2023-08-06 21:17:37.478005721 2023-08-06 21:17:40.645161146  \n",
       "4     IW1 2023-08-06 21:17:40.234603961 2023-08-06 21:17:43.401759387  "
      ]
     },
     "execution_count": 28,
     "metadata": {},
     "output_type": "execute_result"
    }
   ],
   "source": [
    "eta.burst_catalogue.head()"
   ]
  },
  {
   "cell_type": "markdown",
   "metadata": {},
   "source": [
    "**Tip**: the total number of bursts in a product can be retrieved as follows:"
   ]
  },
  {
   "cell_type": "code",
   "execution_count": 29,
   "metadata": {},
   "outputs": [
    {
     "name": "stdout",
     "output_type": "stream",
     "text": [
      "Total number of bursts: 28\n"
     ]
    }
   ],
   "source": [
    "print(\"Total number of bursts:\", len(eta.burst_catalogue))"
   ]
  },
  {
   "cell_type": "markdown",
   "metadata": {},
   "source": [
    "## Swath objects"
   ]
  },
  {
   "cell_type": "markdown",
   "metadata": {},
   "source": [
    "### How many swaths are stored in a product?"
   ]
  },
  {
   "cell_type": "code",
   "execution_count": 30,
   "metadata": {},
   "outputs": [
    {
     "name": "stdout",
     "output_type": "stream",
     "text": [
      "Number of swaths: 3\n",
      "Swath list: ['IW1', 'IW2', 'IW3']\n"
     ]
    }
   ],
   "source": [
    "print(\"Number of swaths:\", eta.number_of_swath)\n",
    "print(\"Swath list:\", eta.swath_list)"
   ]
  },
  {
   "cell_type": "markdown",
   "metadata": {},
   "source": [
    "### How to retrieve a Sentinel1EtadSwath object"
   ]
  },
  {
   "cell_type": "code",
   "execution_count": 31,
   "metadata": {},
   "outputs": [],
   "source": [
    "swath = eta[\"IW2\"]"
   ]
  },
  {
   "cell_type": "code",
   "execution_count": 32,
   "metadata": {},
   "outputs": [
    {
     "data": {
      "text/plain": [
       "Sentinel1EtadSwath(\"/IW2\")  0x739cd8452c40\n",
       "Swaths ID: IW2\n",
       "Number of bursts: 9\n",
       "Burst list: [2, 5, 8, 11, 14, 17, 20, 23, 26]\n",
       "Sampling start:\n",
       "  x: 0.0003098167203966105\n",
       "  y: 0.9384164222873892\n",
       "  units: s\n",
       "Sampling:\n",
       "  x: 8.131672451354599e-07\n",
       "  y: 0.02932551319648094\n",
       "  units: s"
      ]
     },
     "execution_count": 32,
     "metadata": {},
     "output_type": "execute_result"
    }
   ],
   "source": [
    "swath"
   ]
  },
  {
   "cell_type": "markdown",
   "metadata": {},
   "source": [
    "## Burst objects"
   ]
  },
  {
   "cell_type": "code",
   "execution_count": 33,
   "metadata": {},
   "outputs": [],
   "source": [
    "burst = swath[2]"
   ]
  },
  {
   "cell_type": "code",
   "execution_count": 34,
   "metadata": {},
   "outputs": [
    {
     "data": {
      "text/plain": [
       "Sentinel1EtadBurst(\"/IW2/Burst0002\")  0x739cd8524130\n",
       "Swaths ID: IW2\n",
       "Burst index: 2\n",
       "Shape: (109, 478)\n",
       "Sampling start:\n",
       "  x: 0.0003098167203966105\n",
       "  y: 0.9384164222873892\n",
       "  units: s\n",
       "Sampling:\n",
       "  x: 8.131672451354599e-07\n",
       "  y: 0.02932551319648094\n",
       "  units: s"
      ]
     },
     "execution_count": 34,
     "metadata": {},
     "output_type": "execute_result"
    }
   ],
   "source": [
    "burst"
   ]
  },
  {
   "cell_type": "markdown",
   "metadata": {},
   "source": [
    "**NOTE**: one can only get bursts whose index is present in the \"burst list\" of the swath"
   ]
  },
  {
   "cell_type": "code",
   "execution_count": 35,
   "metadata": {},
   "outputs": [
    {
     "data": {
      "text/plain": [
       "[2, 5, 8, 11, 14, 17, 20, 23, 26]"
      ]
     },
     "execution_count": 35,
     "metadata": {},
     "output_type": "execute_result"
    }
   ],
   "source": [
    "swath.burst_list"
   ]
  },
  {
   "cell_type": "code",
   "execution_count": 36,
   "metadata": {},
   "outputs": [
    {
     "name": "stdout",
     "output_type": "stream",
     "text": [
      "ERROR: Ops someting went wrong: IndexError('Burst0001 not found in /IW2')\n"
     ]
    }
   ],
   "source": [
    "try:\n",
    "    swath[1]\n",
    "except IndexError as exc:\n",
    "    print(\"ERROR: Ops someting went wrong:\", repr(exc))"
   ]
  },
  {
   "cell_type": "markdown",
   "metadata": {},
   "source": [
    "## String representation"
   ]
  },
  {
   "cell_type": "markdown",
   "metadata": {},
   "source": [
    "Please note that the string representation of Sentinel1Etad object is a \"one-line\" string providing only basic information:"
   ]
  },
  {
   "cell_type": "code",
   "execution_count": 37,
   "metadata": {},
   "outputs": [
    {
     "name": "stdout",
     "output_type": "stream",
     "text": [
      "Product: Sentinel1Etad(\"S1A_IW_ETA__AXDV_20230806T211729_20230806T211757_049760_05FBCB_9DD6.SAFE\")\n",
      "Swath: Sentinel1EtadSwath(\"/IW2\")  0x739cd8452c40\n",
      "Burst: Sentinel1EtadBurst(\"/IW2/Burst0002\")  0x739cd8524130\n"
     ]
    }
   ],
   "source": [
    "print(\"Product:\", str(eta))\n",
    "print(\"Swath:\", str(swath))\n",
    "print(\"Burst:\", str(burst))"
   ]
  },
  {
   "cell_type": "markdown",
   "metadata": {},
   "source": [
    "Anyway in Jupyter environments a richer representation is also available:"
   ]
  },
  {
   "cell_type": "code",
   "execution_count": 38,
   "metadata": {},
   "outputs": [
    {
     "data": {
      "text/plain": [
       "Sentinel1Etad(\"data/S1A_IW_ETA__AXDV_20230806T211729_20230806T211757_049760_05FBCB_9DD6.SAFE\")  # 0x739cd86265d0\n",
       "Number of Sentinel-1 slices: 1\n",
       "Sentinel-1 products list:\n",
       "  S1A_IW_SLC__1SDV_20230806T211729_20230806T211757_049760_05FBCB_BC56.SAFE\n",
       "Number of swaths: 3\n",
       "Swath list: IW1, IW2, IW3\n",
       "Azimuth time:\n",
       "  min: 2023-08-06 21:17:29.208211\n",
       "  max: 2023-08-06 21:17:57.184751\n",
       "Range time:\n",
       "  min: 0.0053335639608434815\n",
       "  max: 0.006389868212274445\n",
       "Grid sampling:\n",
       "  x: 8.131672451354599e-07\n",
       "  y: 0.02932551319648094\n",
       "  unit: s\n",
       "Grid spacing:\n",
       "  x: 200.0\n",
       "  y: 200.0\n",
       "  unit: m\n",
       "Processing settings:\n",
       "  troposphericDelayCorrection: True\n",
       "  troposphericDelayCorrectionGradient: True\n",
       "  ionosphericDelayCorrection: True\n",
       "  solidEarthTideCorrection: True\n",
       "  oceanTidalLoadingCorrection: True\n",
       "  bistaticAzimuthCorrection: True\n",
       "  dopplerShiftRangeCorrection: True\n",
       "  FMMismatchAzimuthCorrection: True"
      ]
     },
     "execution_count": 38,
     "metadata": {},
     "output_type": "execute_result"
    }
   ],
   "source": [
    "eta"
   ]
  },
  {
   "cell_type": "markdown",
   "metadata": {},
   "source": [
    "## Iteration"
   ]
  },
  {
   "cell_type": "markdown",
   "metadata": {},
   "source": [
    "It is possible to iterate over products and swats in the same way one does it with any other python container."
   ]
  },
  {
   "cell_type": "code",
   "execution_count": 39,
   "metadata": {},
   "outputs": [
    {
     "name": "stdout",
     "output_type": "stream",
     "text": [
      "Sentinel1EtadSwath(\"/IW1\")  0x739cd8452d70\n",
      "1 IW1 Sentinel1EtadBurst(\"/IW1/Burst0001\")  0x739d5038e510\n",
      "4 IW1 Sentinel1EtadBurst(\"/IW1/Burst0004\")  0x739cd85240c0\n",
      "7 IW1 Sentinel1EtadBurst(\"/IW1/Burst0007\")  0x739cd85246e0\n",
      "10 IW1 Sentinel1EtadBurst(\"/IW1/Burst0010\")  0x739cd8524830\n",
      "13 IW1 Sentinel1EtadBurst(\"/IW1/Burst0013\")  0x739cd85248a0\n",
      "16 IW1 Sentinel1EtadBurst(\"/IW1/Burst0016\")  0x739cd8524910\n",
      "19 IW1 Sentinel1EtadBurst(\"/IW1/Burst0019\")  0x739cd8524980\n",
      "22 IW1 Sentinel1EtadBurst(\"/IW1/Burst0022\")  0x739cd85249f0\n",
      "25 IW1 Sentinel1EtadBurst(\"/IW1/Burst0025\")  0x739cd8524a60\n",
      "28 IW1 Sentinel1EtadBurst(\"/IW1/Burst0028\")  0x739cd8524ad0\n",
      "\n",
      "Sentinel1EtadSwath(\"/IW2\")  0x739cd8452c40\n",
      "2 IW2 Sentinel1EtadBurst(\"/IW2/Burst0002\")  0x739cd8524130\n",
      "5 IW2 Sentinel1EtadBurst(\"/IW2/Burst0005\")  0x739cd8524bb0\n",
      "8 IW2 Sentinel1EtadBurst(\"/IW2/Burst0008\")  0x739cd8524b40\n",
      "11 IW2 Sentinel1EtadBurst(\"/IW2/Burst0011\")  0x739cd8524c20\n",
      "14 IW2 Sentinel1EtadBurst(\"/IW2/Burst0014\")  0x739cd8524c90\n",
      "17 IW2 Sentinel1EtadBurst(\"/IW2/Burst0017\")  0x739cd8524d00\n",
      "20 IW2 Sentinel1EtadBurst(\"/IW2/Burst0020\")  0x739cd8524d70\n",
      "23 IW2 Sentinel1EtadBurst(\"/IW2/Burst0023\")  0x739cd8524de0\n",
      "26 IW2 Sentinel1EtadBurst(\"/IW2/Burst0026\")  0x739cd8524e50\n",
      "\n",
      "Sentinel1EtadSwath(\"/IW3\")  0x739cd8479fd0\n",
      "3 IW3 Sentinel1EtadBurst(\"/IW3/Burst0003\")  0x739cd8524f30\n",
      "6 IW3 Sentinel1EtadBurst(\"/IW3/Burst0006\")  0x739cd8524ec0\n",
      "9 IW3 Sentinel1EtadBurst(\"/IW3/Burst0009\")  0x739cd8524fa0\n",
      "12 IW3 Sentinel1EtadBurst(\"/IW3/Burst0012\")  0x739cd8525010\n",
      "15 IW3 Sentinel1EtadBurst(\"/IW3/Burst0015\")  0x739cd8525080\n",
      "18 IW3 Sentinel1EtadBurst(\"/IW3/Burst0018\")  0x739cd85250f0\n",
      "21 IW3 Sentinel1EtadBurst(\"/IW3/Burst0021\")  0x739cd8525160\n",
      "24 IW3 Sentinel1EtadBurst(\"/IW3/Burst0024\")  0x739cd85251d0\n",
      "27 IW3 Sentinel1EtadBurst(\"/IW3/Burst0027\")  0x739cd8525240\n",
      "\n"
     ]
    }
   ],
   "source": [
    "for swath in eta:\n",
    "    print(swath)\n",
    "    for burst in swath:\n",
    "        print(burst.burst_index, burst.swath_id, burst)\n",
    "    print()"
   ]
  },
  {
   "cell_type": "markdown",
   "metadata": {},
   "source": [
    "### How to iterate only on selected items"
   ]
  },
  {
   "cell_type": "markdown",
   "metadata": {},
   "source": [
    "It is also possible to iterate on a sub-set of the products swaths (or a sub-set of the swath bursts):"
   ]
  },
  {
   "cell_type": "code",
   "execution_count": 40,
   "metadata": {},
   "outputs": [
    {
     "name": "stdout",
     "output_type": "stream",
     "text": [
      " 1 IW1 Sentinel1EtadBurst(\"/IW1/Burst0001\")  0x739d5038e510\n",
      " 7 IW1 Sentinel1EtadBurst(\"/IW1/Burst0007\")  0x739cd85246e0\n",
      "13 IW1 Sentinel1EtadBurst(\"/IW1/Burst0013\")  0x739cd85248a0\n",
      "19 IW1 Sentinel1EtadBurst(\"/IW1/Burst0019\")  0x739cd8524980\n",
      "25 IW1 Sentinel1EtadBurst(\"/IW1/Burst0025\")  0x739cd8524a60\n",
      " 5 IW2 Sentinel1EtadBurst(\"/IW2/Burst0005\")  0x739cd8524bb0\n",
      "11 IW2 Sentinel1EtadBurst(\"/IW2/Burst0011\")  0x739cd8524c20\n",
      "17 IW2 Sentinel1EtadBurst(\"/IW2/Burst0017\")  0x739cd8524d00\n",
      "23 IW2 Sentinel1EtadBurst(\"/IW2/Burst0023\")  0x739cd8524de0\n"
     ]
    }
   ],
   "source": [
    "for swath in eta.iter_swaths([\"IW1\", \"IW2\"]):  # no 'IW3'\n",
    "    # list of bursts\n",
    "    odd_bursts = [idx for idx in swath.burst_list if idx % 2 != 0]\n",
    "    for burst in swath.iter_bursts(odd_bursts):\n",
    "        print(f\"{burst.burst_index:2} {burst.swath_id} {burst}\")"
   ]
  },
  {
   "cell_type": "markdown",
   "metadata": {},
   "source": [
    "### How to iterate on query results"
   ]
  },
  {
   "cell_type": "markdown",
   "metadata": {},
   "source": [
    "The query mechanism is explained extensively in the following.\n",
    "\n",
    "Queries can be performed using the `Sentinel1Etad.query_burst` method.\n",
    "\n",
    "A simple example is a query for a specific swath:"
   ]
  },
  {
   "cell_type": "code",
   "execution_count": 41,
   "metadata": {},
   "outputs": [
    {
     "name": "stdout",
     "output_type": "stream",
     "text": [
      "Sentinel1EtadBurst(\"/IW3/Burst0003\")  0x739cd8524f30\n",
      "Sentinel1EtadBurst(\"/IW3/Burst0006\")  0x739cd8524ec0\n",
      "Sentinel1EtadBurst(\"/IW3/Burst0009\")  0x739cd8524fa0\n",
      "Sentinel1EtadBurst(\"/IW3/Burst0012\")  0x739cd8525010\n",
      "Sentinel1EtadBurst(\"/IW3/Burst0015\")  0x739cd8525080\n",
      "Sentinel1EtadBurst(\"/IW3/Burst0018\")  0x739cd85250f0\n",
      "Sentinel1EtadBurst(\"/IW3/Burst0021\")  0x739cd8525160\n",
      "Sentinel1EtadBurst(\"/IW3/Burst0024\")  0x739cd85251d0\n",
      "Sentinel1EtadBurst(\"/IW3/Burst0027\")  0x739cd8525240\n"
     ]
    }
   ],
   "source": [
    "query_result = eta.query_burst(swath=\"IW3\")\n",
    "\n",
    "for swath in eta.iter_swaths(query_result):\n",
    "    for burst in swath.iter_bursts(query_result):\n",
    "        print(burst)"
   ]
  }
 ],
 "metadata": {
  "kernelspec": {
   "display_name": "venv",
   "language": "python",
   "name": "python3"
  },
  "language_info": {
   "codemirror_mode": {
    "name": "ipython",
    "version": 3
   },
   "file_extension": ".py",
   "mimetype": "text/x-python",
   "name": "python",
   "nbconvert_exporter": "python",
   "pygments_lexer": "ipython3",
   "version": "3.13.3"
  },
  "toc-autonumbering": true
 },
 "nbformat": 4,
 "nbformat_minor": 4
}
