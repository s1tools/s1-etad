{
 "cells": [
  {
   "cell_type": "markdown",
   "metadata": {
    "toc-hr-collapsed": false
   },
   "source": [
    "# Use case 1: selecting bursts"
   ]
  },
  {
   "cell_type": "markdown",
   "metadata": {},
   "source": [
    "## Notebook setup"
   ]
  },
  {
   "cell_type": "code",
   "execution_count": 22,
   "metadata": {},
   "outputs": [
    {
     "name": "stdout",
     "output_type": "stream",
     "text": [
      "The autoreload extension is already loaded. To reload it, use:\n",
      "  %reload_ext autoreload\n"
     ]
    }
   ],
   "source": [
    "%matplotlib inline\n",
    "%load_ext autoreload\n",
    "%autoreload 2"
   ]
  },
  {
   "cell_type": "code",
   "execution_count": 23,
   "metadata": {},
   "outputs": [],
   "source": [
    "import sys\n",
    "\n",
    "sys.path.append(\"../..\")"
   ]
  },
  {
   "cell_type": "code",
   "execution_count": 24,
   "metadata": {},
   "outputs": [],
   "source": [
    "from s1etad import Sentinel1Etad"
   ]
  },
  {
   "cell_type": "markdown",
   "metadata": {},
   "source": [
    "## Open the dataset"
   ]
  },
  {
   "cell_type": "code",
   "execution_count": 25,
   "metadata": {},
   "outputs": [],
   "source": [
    "filename = (\n",
    "    \"data/\"\n",
    "    \"S1A_IW_ETA__AXDV_20230806T211729_20230806T211757_049760_05FBCB_9DD6.SAFE\"\n",
    ")"
   ]
  },
  {
   "cell_type": "code",
   "execution_count": 26,
   "metadata": {},
   "outputs": [],
   "source": [
    "eta = Sentinel1Etad(filename)"
   ]
  },
  {
   "cell_type": "code",
   "execution_count": 27,
   "metadata": {},
   "outputs": [
    {
     "data": {
      "text/plain": [
       "Sentinel1Etad(\"data/S1A_IW_ETA__AXDV_20230806T211729_20230806T211757_049760_05FBCB_9DD6.SAFE\")  # 0x738f016925d0\n",
       "Number of Sentinel-1 slices: 1\n",
       "Sentinel-1 products list:\n",
       "  S1A_IW_SLC__1SDV_20230806T211729_20230806T211757_049760_05FBCB_BC56.SAFE\n",
       "Number of swaths: 3\n",
       "Swath list: IW1, IW2, IW3\n",
       "Azimuth time:\n",
       "  min: 2023-08-06 21:17:29.208211\n",
       "  max: 2023-08-06 21:17:57.184751\n",
       "Range time:\n",
       "  min: 0.0053335639608434815\n",
       "  max: 0.006389868212274445\n",
       "Grid sampling:\n",
       "  x: 8.131672451354599e-07\n",
       "  y: 0.02932551319648094\n",
       "  unit: s\n",
       "Grid spacing:\n",
       "  x: 200.0\n",
       "  y: 200.0\n",
       "  unit: m\n",
       "Processing settings:\n",
       "  troposphericDelayCorrection: True\n",
       "  troposphericDelayCorrectionGradient: True\n",
       "  ionosphericDelayCorrection: True\n",
       "  solidEarthTideCorrection: True\n",
       "  oceanTidalLoadingCorrection: True\n",
       "  bistaticAzimuthCorrection: True\n",
       "  dopplerShiftRangeCorrection: True\n",
       "  FMMismatchAzimuthCorrection: True"
      ]
     },
     "execution_count": 27,
     "metadata": {},
     "output_type": "execute_result"
    }
   ],
   "source": [
    "eta"
   ]
  },
  {
   "cell_type": "markdown",
   "metadata": {
    "toc-hr-collapsed": false
   },
   "source": [
    "## Selecting the burst by filtering in time"
   ]
  },
  {
   "cell_type": "markdown",
   "metadata": {},
   "source": [
    "The availability of the burst catalogue, allows to perform queries and filter the burst by performing time selection using the __first_time__ and __last_time__ keywords of the __query_burst__ method.\n",
    "\n",
    "If no time is provided then all the burst are selected:"
   ]
  },
  {
   "cell_type": "code",
   "execution_count": 28,
   "metadata": {},
   "outputs": [
    {
     "name": "stdout",
     "output_type": "stream",
     "text": [
      "Number of bursts: 28\n"
     ]
    },
    {
     "data": {
      "text/html": [
       "<div>\n",
       "<style scoped>\n",
       "    .dataframe tbody tr th:only-of-type {\n",
       "        vertical-align: middle;\n",
       "    }\n",
       "\n",
       "    .dataframe tbody tr th {\n",
       "        vertical-align: top;\n",
       "    }\n",
       "\n",
       "    .dataframe thead th {\n",
       "        text-align: right;\n",
       "    }\n",
       "</style>\n",
       "<table border=\"1\" class=\"dataframe\">\n",
       "  <thead>\n",
       "    <tr style=\"text-align: right;\">\n",
       "      <th></th>\n",
       "      <th>bIndex</th>\n",
       "      <th>pIndex</th>\n",
       "      <th>sIndex</th>\n",
       "      <th>productID</th>\n",
       "      <th>swathID</th>\n",
       "      <th>azimuthTimeMin</th>\n",
       "      <th>azimuthTimeMax</th>\n",
       "    </tr>\n",
       "  </thead>\n",
       "  <tbody>\n",
       "    <tr>\n",
       "      <th>0</th>\n",
       "      <td>1</td>\n",
       "      <td>1</td>\n",
       "      <td>1</td>\n",
       "      <td>S1A_IW_SLC__1SDV_20230806T211729_20230806T2117...</td>\n",
       "      <td>IW1</td>\n",
       "      <td>2023-08-06 21:17:29.208211000</td>\n",
       "      <td>2023-08-06 21:17:32.346040912</td>\n",
       "    </tr>\n",
       "    <tr>\n",
       "      <th>10</th>\n",
       "      <td>2</td>\n",
       "      <td>1</td>\n",
       "      <td>2</td>\n",
       "      <td>S1A_IW_SLC__1SDV_20230806T211729_20230806T2117...</td>\n",
       "      <td>IW2</td>\n",
       "      <td>2023-08-06 21:17:30.146627422</td>\n",
       "      <td>2023-08-06 21:17:33.313782847</td>\n",
       "    </tr>\n",
       "    <tr>\n",
       "      <th>19</th>\n",
       "      <td>3</td>\n",
       "      <td>1</td>\n",
       "      <td>3</td>\n",
       "      <td>S1A_IW_SLC__1SDV_20230806T211729_20230806T2117...</td>\n",
       "      <td>IW3</td>\n",
       "      <td>2023-08-06 21:17:31.114369357</td>\n",
       "      <td>2023-08-06 21:17:34.310850296</td>\n",
       "    </tr>\n",
       "    <tr>\n",
       "      <th>1</th>\n",
       "      <td>4</td>\n",
       "      <td>1</td>\n",
       "      <td>1</td>\n",
       "      <td>S1A_IW_SLC__1SDV_20230806T211729_20230806T2117...</td>\n",
       "      <td>IW1</td>\n",
       "      <td>2023-08-06 21:17:31.964809240</td>\n",
       "      <td>2023-08-06 21:17:35.131964665</td>\n",
       "    </tr>\n",
       "    <tr>\n",
       "      <th>11</th>\n",
       "      <td>5</td>\n",
       "      <td>1</td>\n",
       "      <td>2</td>\n",
       "      <td>S1A_IW_SLC__1SDV_20230806T211729_20230806T2117...</td>\n",
       "      <td>IW2</td>\n",
       "      <td>2023-08-06 21:17:32.903225662</td>\n",
       "      <td>2023-08-06 21:17:36.099706601</td>\n",
       "    </tr>\n",
       "  </tbody>\n",
       "</table>\n",
       "</div>"
      ],
      "text/plain": [
       "    bIndex  pIndex  sIndex                                          productID  \\\n",
       "0        1       1       1  S1A_IW_SLC__1SDV_20230806T211729_20230806T2117...   \n",
       "10       2       1       2  S1A_IW_SLC__1SDV_20230806T211729_20230806T2117...   \n",
       "19       3       1       3  S1A_IW_SLC__1SDV_20230806T211729_20230806T2117...   \n",
       "1        4       1       1  S1A_IW_SLC__1SDV_20230806T211729_20230806T2117...   \n",
       "11       5       1       2  S1A_IW_SLC__1SDV_20230806T211729_20230806T2117...   \n",
       "\n",
       "   swathID                azimuthTimeMin                azimuthTimeMax  \n",
       "0      IW1 2023-08-06 21:17:29.208211000 2023-08-06 21:17:32.346040912  \n",
       "10     IW2 2023-08-06 21:17:30.146627422 2023-08-06 21:17:33.313782847  \n",
       "19     IW3 2023-08-06 21:17:31.114369357 2023-08-06 21:17:34.310850296  \n",
       "1      IW1 2023-08-06 21:17:31.964809240 2023-08-06 21:17:35.131964665  \n",
       "11     IW2 2023-08-06 21:17:32.903225662 2023-08-06 21:17:36.099706601  "
      ]
     },
     "execution_count": 28,
     "metadata": {},
     "output_type": "execute_result"
    }
   ],
   "source": [
    "df = eta.query_burst()\n",
    "\n",
    "print(f\"Number of bursts: {len(df)}\")\n",
    "df.head()"
   ]
  },
  {
   "cell_type": "markdown",
   "metadata": {},
   "source": [
    "It is possible to reduce the selection by **start time** in this case the **stop time** is the last available burst:"
   ]
  },
  {
   "cell_type": "code",
   "execution_count": 29,
   "metadata": {},
   "outputs": [
    {
     "name": "stdout",
     "output_type": "stream",
     "text": [
      "Number of bursts: 24\n"
     ]
    },
    {
     "data": {
      "text/html": [
       "<div>\n",
       "<style scoped>\n",
       "    .dataframe tbody tr th:only-of-type {\n",
       "        vertical-align: middle;\n",
       "    }\n",
       "\n",
       "    .dataframe tbody tr th {\n",
       "        vertical-align: top;\n",
       "    }\n",
       "\n",
       "    .dataframe thead th {\n",
       "        text-align: right;\n",
       "    }\n",
       "</style>\n",
       "<table border=\"1\" class=\"dataframe\">\n",
       "  <thead>\n",
       "    <tr style=\"text-align: right;\">\n",
       "      <th></th>\n",
       "      <th>bIndex</th>\n",
       "      <th>pIndex</th>\n",
       "      <th>sIndex</th>\n",
       "      <th>productID</th>\n",
       "      <th>swathID</th>\n",
       "      <th>azimuthTimeMin</th>\n",
       "      <th>azimuthTimeMax</th>\n",
       "    </tr>\n",
       "  </thead>\n",
       "  <tbody>\n",
       "    <tr>\n",
       "      <th>11</th>\n",
       "      <td>5</td>\n",
       "      <td>1</td>\n",
       "      <td>2</td>\n",
       "      <td>S1A_IW_SLC__1SDV_20230806T211729_20230806T2117...</td>\n",
       "      <td>IW2</td>\n",
       "      <td>2023-08-06 21:17:32.903225662</td>\n",
       "      <td>2023-08-06 21:17:36.099706601</td>\n",
       "    </tr>\n",
       "    <tr>\n",
       "      <th>20</th>\n",
       "      <td>6</td>\n",
       "      <td>1</td>\n",
       "      <td>3</td>\n",
       "      <td>S1A_IW_SLC__1SDV_20230806T211729_20230806T2117...</td>\n",
       "      <td>IW3</td>\n",
       "      <td>2023-08-06 21:17:33.870967598</td>\n",
       "      <td>2023-08-06 21:17:37.067448536</td>\n",
       "    </tr>\n",
       "    <tr>\n",
       "      <th>2</th>\n",
       "      <td>7</td>\n",
       "      <td>1</td>\n",
       "      <td>1</td>\n",
       "      <td>S1A_IW_SLC__1SDV_20230806T211729_20230806T2117...</td>\n",
       "      <td>IW1</td>\n",
       "      <td>2023-08-06 21:17:34.721407480</td>\n",
       "      <td>2023-08-06 21:17:37.888562906</td>\n",
       "    </tr>\n",
       "    <tr>\n",
       "      <th>12</th>\n",
       "      <td>8</td>\n",
       "      <td>1</td>\n",
       "      <td>2</td>\n",
       "      <td>S1A_IW_SLC__1SDV_20230806T211729_20230806T2117...</td>\n",
       "      <td>IW2</td>\n",
       "      <td>2023-08-06 21:17:35.659823903</td>\n",
       "      <td>2023-08-06 21:17:38.826979328</td>\n",
       "    </tr>\n",
       "    <tr>\n",
       "      <th>21</th>\n",
       "      <td>9</td>\n",
       "      <td>1</td>\n",
       "      <td>3</td>\n",
       "      <td>S1A_IW_SLC__1SDV_20230806T211729_20230806T2117...</td>\n",
       "      <td>IW3</td>\n",
       "      <td>2023-08-06 21:17:36.627565838</td>\n",
       "      <td>2023-08-06 21:17:39.794721263</td>\n",
       "    </tr>\n",
       "  </tbody>\n",
       "</table>\n",
       "</div>"
      ],
      "text/plain": [
       "    bIndex  pIndex  sIndex                                          productID  \\\n",
       "11       5       1       2  S1A_IW_SLC__1SDV_20230806T211729_20230806T2117...   \n",
       "20       6       1       3  S1A_IW_SLC__1SDV_20230806T211729_20230806T2117...   \n",
       "2        7       1       1  S1A_IW_SLC__1SDV_20230806T211729_20230806T2117...   \n",
       "12       8       1       2  S1A_IW_SLC__1SDV_20230806T211729_20230806T2117...   \n",
       "21       9       1       3  S1A_IW_SLC__1SDV_20230806T211729_20230806T2117...   \n",
       "\n",
       "   swathID                azimuthTimeMin                azimuthTimeMax  \n",
       "11     IW2 2023-08-06 21:17:32.903225662 2023-08-06 21:17:36.099706601  \n",
       "20     IW3 2023-08-06 21:17:33.870967598 2023-08-06 21:17:37.067448536  \n",
       "2      IW1 2023-08-06 21:17:34.721407480 2023-08-06 21:17:37.888562906  \n",
       "12     IW2 2023-08-06 21:17:35.659823903 2023-08-06 21:17:38.826979328  \n",
       "21     IW3 2023-08-06 21:17:36.627565838 2023-08-06 21:17:39.794721263  "
      ]
     },
     "execution_count": 29,
     "metadata": {},
     "output_type": "execute_result"
    }
   ],
   "source": [
    "import dateutil\n",
    "\n",
    "first_time = dateutil.parser.parse(\"2023-08-06T21:17:32.013300\")\n",
    "\n",
    "df = eta.query_burst(first_time=first_time)\n",
    "\n",
    "print(f\"Number of bursts: {len(df)}\")\n",
    "df.head()"
   ]
  },
  {
   "cell_type": "markdown",
   "metadata": {},
   "source": [
    "It is possible to reduce the selection by the **stop time** in this case the **start time** is the first available burst:"
   ]
  },
  {
   "cell_type": "code",
   "execution_count": 30,
   "metadata": {},
   "outputs": [
    {
     "name": "stdout",
     "output_type": "stream",
     "text": [
      "Number of bursts: 24\n"
     ]
    },
    {
     "data": {
      "text/html": [
       "<div>\n",
       "<style scoped>\n",
       "    .dataframe tbody tr th:only-of-type {\n",
       "        vertical-align: middle;\n",
       "    }\n",
       "\n",
       "    .dataframe tbody tr th {\n",
       "        vertical-align: top;\n",
       "    }\n",
       "\n",
       "    .dataframe thead th {\n",
       "        text-align: right;\n",
       "    }\n",
       "</style>\n",
       "<table border=\"1\" class=\"dataframe\">\n",
       "  <thead>\n",
       "    <tr style=\"text-align: right;\">\n",
       "      <th></th>\n",
       "      <th>bIndex</th>\n",
       "      <th>pIndex</th>\n",
       "      <th>sIndex</th>\n",
       "      <th>productID</th>\n",
       "      <th>swathID</th>\n",
       "      <th>azimuthTimeMin</th>\n",
       "      <th>azimuthTimeMax</th>\n",
       "    </tr>\n",
       "  </thead>\n",
       "  <tbody>\n",
       "    <tr>\n",
       "      <th>0</th>\n",
       "      <td>1</td>\n",
       "      <td>1</td>\n",
       "      <td>1</td>\n",
       "      <td>S1A_IW_SLC__1SDV_20230806T211729_20230806T2117...</td>\n",
       "      <td>IW1</td>\n",
       "      <td>2023-08-06 21:17:29.208211000</td>\n",
       "      <td>2023-08-06 21:17:32.346040912</td>\n",
       "    </tr>\n",
       "    <tr>\n",
       "      <th>10</th>\n",
       "      <td>2</td>\n",
       "      <td>1</td>\n",
       "      <td>2</td>\n",
       "      <td>S1A_IW_SLC__1SDV_20230806T211729_20230806T2117...</td>\n",
       "      <td>IW2</td>\n",
       "      <td>2023-08-06 21:17:30.146627422</td>\n",
       "      <td>2023-08-06 21:17:33.313782847</td>\n",
       "    </tr>\n",
       "    <tr>\n",
       "      <th>19</th>\n",
       "      <td>3</td>\n",
       "      <td>1</td>\n",
       "      <td>3</td>\n",
       "      <td>S1A_IW_SLC__1SDV_20230806T211729_20230806T2117...</td>\n",
       "      <td>IW3</td>\n",
       "      <td>2023-08-06 21:17:31.114369357</td>\n",
       "      <td>2023-08-06 21:17:34.310850296</td>\n",
       "    </tr>\n",
       "    <tr>\n",
       "      <th>1</th>\n",
       "      <td>4</td>\n",
       "      <td>1</td>\n",
       "      <td>1</td>\n",
       "      <td>S1A_IW_SLC__1SDV_20230806T211729_20230806T2117...</td>\n",
       "      <td>IW1</td>\n",
       "      <td>2023-08-06 21:17:31.964809240</td>\n",
       "      <td>2023-08-06 21:17:35.131964665</td>\n",
       "    </tr>\n",
       "    <tr>\n",
       "      <th>11</th>\n",
       "      <td>5</td>\n",
       "      <td>1</td>\n",
       "      <td>2</td>\n",
       "      <td>S1A_IW_SLC__1SDV_20230806T211729_20230806T2117...</td>\n",
       "      <td>IW2</td>\n",
       "      <td>2023-08-06 21:17:32.903225662</td>\n",
       "      <td>2023-08-06 21:17:36.099706601</td>\n",
       "    </tr>\n",
       "  </tbody>\n",
       "</table>\n",
       "</div>"
      ],
      "text/plain": [
       "    bIndex  pIndex  sIndex                                          productID  \\\n",
       "0        1       1       1  S1A_IW_SLC__1SDV_20230806T211729_20230806T2117...   \n",
       "10       2       1       2  S1A_IW_SLC__1SDV_20230806T211729_20230806T2117...   \n",
       "19       3       1       3  S1A_IW_SLC__1SDV_20230806T211729_20230806T2117...   \n",
       "1        4       1       1  S1A_IW_SLC__1SDV_20230806T211729_20230806T2117...   \n",
       "11       5       1       2  S1A_IW_SLC__1SDV_20230806T211729_20230806T2117...   \n",
       "\n",
       "   swathID                azimuthTimeMin                azimuthTimeMax  \n",
       "0      IW1 2023-08-06 21:17:29.208211000 2023-08-06 21:17:32.346040912  \n",
       "10     IW2 2023-08-06 21:17:30.146627422 2023-08-06 21:17:33.313782847  \n",
       "19     IW3 2023-08-06 21:17:31.114369357 2023-08-06 21:17:34.310850296  \n",
       "1      IW1 2023-08-06 21:17:31.964809240 2023-08-06 21:17:35.131964665  \n",
       "11     IW2 2023-08-06 21:17:32.903225662 2023-08-06 21:17:36.099706601  "
      ]
     },
     "execution_count": 30,
     "metadata": {},
     "output_type": "execute_result"
    }
   ],
   "source": [
    "last_time = dateutil.parser.parse(\"2023-08-06T21:17:54.071000\")\n",
    "\n",
    "df = eta.query_burst(last_time=last_time)\n",
    "\n",
    "print(f\"Number of bursts: {len(df)}\")\n",
    "df.head()"
   ]
  },
  {
   "cell_type": "markdown",
   "metadata": {},
   "source": [
    "It is possible to reduce the selection by the **start** and **stop** time:"
   ]
  },
  {
   "cell_type": "code",
   "execution_count": 31,
   "metadata": {},
   "outputs": [
    {
     "name": "stdout",
     "output_type": "stream",
     "text": [
      "Number of bursts: 20\n"
     ]
    },
    {
     "data": {
      "text/html": [
       "<div>\n",
       "<style scoped>\n",
       "    .dataframe tbody tr th:only-of-type {\n",
       "        vertical-align: middle;\n",
       "    }\n",
       "\n",
       "    .dataframe tbody tr th {\n",
       "        vertical-align: top;\n",
       "    }\n",
       "\n",
       "    .dataframe thead th {\n",
       "        text-align: right;\n",
       "    }\n",
       "</style>\n",
       "<table border=\"1\" class=\"dataframe\">\n",
       "  <thead>\n",
       "    <tr style=\"text-align: right;\">\n",
       "      <th></th>\n",
       "      <th>bIndex</th>\n",
       "      <th>pIndex</th>\n",
       "      <th>sIndex</th>\n",
       "      <th>productID</th>\n",
       "      <th>swathID</th>\n",
       "      <th>azimuthTimeMin</th>\n",
       "      <th>azimuthTimeMax</th>\n",
       "    </tr>\n",
       "  </thead>\n",
       "  <tbody>\n",
       "    <tr>\n",
       "      <th>11</th>\n",
       "      <td>5</td>\n",
       "      <td>1</td>\n",
       "      <td>2</td>\n",
       "      <td>S1A_IW_SLC__1SDV_20230806T211729_20230806T2117...</td>\n",
       "      <td>IW2</td>\n",
       "      <td>2023-08-06 21:17:32.903225662</td>\n",
       "      <td>2023-08-06 21:17:36.099706601</td>\n",
       "    </tr>\n",
       "    <tr>\n",
       "      <th>20</th>\n",
       "      <td>6</td>\n",
       "      <td>1</td>\n",
       "      <td>3</td>\n",
       "      <td>S1A_IW_SLC__1SDV_20230806T211729_20230806T2117...</td>\n",
       "      <td>IW3</td>\n",
       "      <td>2023-08-06 21:17:33.870967598</td>\n",
       "      <td>2023-08-06 21:17:37.067448536</td>\n",
       "    </tr>\n",
       "    <tr>\n",
       "      <th>2</th>\n",
       "      <td>7</td>\n",
       "      <td>1</td>\n",
       "      <td>1</td>\n",
       "      <td>S1A_IW_SLC__1SDV_20230806T211729_20230806T2117...</td>\n",
       "      <td>IW1</td>\n",
       "      <td>2023-08-06 21:17:34.721407480</td>\n",
       "      <td>2023-08-06 21:17:37.888562906</td>\n",
       "    </tr>\n",
       "    <tr>\n",
       "      <th>12</th>\n",
       "      <td>8</td>\n",
       "      <td>1</td>\n",
       "      <td>2</td>\n",
       "      <td>S1A_IW_SLC__1SDV_20230806T211729_20230806T2117...</td>\n",
       "      <td>IW2</td>\n",
       "      <td>2023-08-06 21:17:35.659823903</td>\n",
       "      <td>2023-08-06 21:17:38.826979328</td>\n",
       "    </tr>\n",
       "    <tr>\n",
       "      <th>21</th>\n",
       "      <td>9</td>\n",
       "      <td>1</td>\n",
       "      <td>3</td>\n",
       "      <td>S1A_IW_SLC__1SDV_20230806T211729_20230806T2117...</td>\n",
       "      <td>IW3</td>\n",
       "      <td>2023-08-06 21:17:36.627565838</td>\n",
       "      <td>2023-08-06 21:17:39.794721263</td>\n",
       "    </tr>\n",
       "  </tbody>\n",
       "</table>\n",
       "</div>"
      ],
      "text/plain": [
       "    bIndex  pIndex  sIndex                                          productID  \\\n",
       "11       5       1       2  S1A_IW_SLC__1SDV_20230806T211729_20230806T2117...   \n",
       "20       6       1       3  S1A_IW_SLC__1SDV_20230806T211729_20230806T2117...   \n",
       "2        7       1       1  S1A_IW_SLC__1SDV_20230806T211729_20230806T2117...   \n",
       "12       8       1       2  S1A_IW_SLC__1SDV_20230806T211729_20230806T2117...   \n",
       "21       9       1       3  S1A_IW_SLC__1SDV_20230806T211729_20230806T2117...   \n",
       "\n",
       "   swathID                azimuthTimeMin                azimuthTimeMax  \n",
       "11     IW2 2023-08-06 21:17:32.903225662 2023-08-06 21:17:36.099706601  \n",
       "20     IW3 2023-08-06 21:17:33.870967598 2023-08-06 21:17:37.067448536  \n",
       "2      IW1 2023-08-06 21:17:34.721407480 2023-08-06 21:17:37.888562906  \n",
       "12     IW2 2023-08-06 21:17:35.659823903 2023-08-06 21:17:38.826979328  \n",
       "21     IW3 2023-08-06 21:17:36.627565838 2023-08-06 21:17:39.794721263  "
      ]
     },
     "execution_count": 31,
     "metadata": {},
     "output_type": "execute_result"
    }
   ],
   "source": [
    "first_time = dateutil.parser.parse(\"2023-08-06T21:17:32.013300\")\n",
    "last_time = dateutil.parser.parse(\"2023-08-06T21:17:54.071000\")\n",
    "\n",
    "# query the catalogues for of all the swaths\n",
    "df = eta.query_burst(first_time=first_time, last_time=last_time)\n",
    "print(f\"Number of bursts: {len(df)}\")\n",
    "df.head()"
   ]
  },
  {
   "cell_type": "markdown",
   "metadata": {},
   "source": [
    "## Selecting by swath (and time)"
   ]
  },
  {
   "cell_type": "markdown",
   "metadata": {},
   "source": [
    "The time selection can be combined with a selection by swath using the __swath__ keyword.\n",
    "If not used all the swath are used"
   ]
  },
  {
   "cell_type": "code",
   "execution_count": 32,
   "metadata": {},
   "outputs": [
    {
     "name": "stdout",
     "output_type": "stream",
     "text": [
      "Number of bursts: 6\n"
     ]
    },
    {
     "data": {
      "text/html": [
       "<div>\n",
       "<style scoped>\n",
       "    .dataframe tbody tr th:only-of-type {\n",
       "        vertical-align: middle;\n",
       "    }\n",
       "\n",
       "    .dataframe tbody tr th {\n",
       "        vertical-align: top;\n",
       "    }\n",
       "\n",
       "    .dataframe thead th {\n",
       "        text-align: right;\n",
       "    }\n",
       "</style>\n",
       "<table border=\"1\" class=\"dataframe\">\n",
       "  <thead>\n",
       "    <tr style=\"text-align: right;\">\n",
       "      <th></th>\n",
       "      <th>bIndex</th>\n",
       "      <th>pIndex</th>\n",
       "      <th>sIndex</th>\n",
       "      <th>productID</th>\n",
       "      <th>swathID</th>\n",
       "      <th>azimuthTimeMin</th>\n",
       "      <th>azimuthTimeMax</th>\n",
       "    </tr>\n",
       "  </thead>\n",
       "  <tbody>\n",
       "    <tr>\n",
       "      <th>2</th>\n",
       "      <td>7</td>\n",
       "      <td>1</td>\n",
       "      <td>1</td>\n",
       "      <td>S1A_IW_SLC__1SDV_20230806T211729_20230806T2117...</td>\n",
       "      <td>IW1</td>\n",
       "      <td>2023-08-06 21:17:34.721407480</td>\n",
       "      <td>2023-08-06 21:17:37.888562906</td>\n",
       "    </tr>\n",
       "    <tr>\n",
       "      <th>3</th>\n",
       "      <td>10</td>\n",
       "      <td>1</td>\n",
       "      <td>1</td>\n",
       "      <td>S1A_IW_SLC__1SDV_20230806T211729_20230806T2117...</td>\n",
       "      <td>IW1</td>\n",
       "      <td>2023-08-06 21:17:37.478005721</td>\n",
       "      <td>2023-08-06 21:17:40.645161146</td>\n",
       "    </tr>\n",
       "    <tr>\n",
       "      <th>4</th>\n",
       "      <td>13</td>\n",
       "      <td>1</td>\n",
       "      <td>1</td>\n",
       "      <td>S1A_IW_SLC__1SDV_20230806T211729_20230806T2117...</td>\n",
       "      <td>IW1</td>\n",
       "      <td>2023-08-06 21:17:40.234603961</td>\n",
       "      <td>2023-08-06 21:17:43.401759387</td>\n",
       "    </tr>\n",
       "    <tr>\n",
       "      <th>5</th>\n",
       "      <td>16</td>\n",
       "      <td>1</td>\n",
       "      <td>1</td>\n",
       "      <td>S1A_IW_SLC__1SDV_20230806T211729_20230806T2117...</td>\n",
       "      <td>IW1</td>\n",
       "      <td>2023-08-06 21:17:42.991202202</td>\n",
       "      <td>2023-08-06 21:17:46.158357627</td>\n",
       "    </tr>\n",
       "    <tr>\n",
       "      <th>6</th>\n",
       "      <td>19</td>\n",
       "      <td>1</td>\n",
       "      <td>1</td>\n",
       "      <td>S1A_IW_SLC__1SDV_20230806T211729_20230806T2117...</td>\n",
       "      <td>IW1</td>\n",
       "      <td>2023-08-06 21:17:45.747800442</td>\n",
       "      <td>2023-08-06 21:17:48.914955868</td>\n",
       "    </tr>\n",
       "    <tr>\n",
       "      <th>7</th>\n",
       "      <td>22</td>\n",
       "      <td>1</td>\n",
       "      <td>1</td>\n",
       "      <td>S1A_IW_SLC__1SDV_20230806T211729_20230806T2117...</td>\n",
       "      <td>IW1</td>\n",
       "      <td>2023-08-06 21:17:48.504398683</td>\n",
       "      <td>2023-08-06 21:17:51.671554108</td>\n",
       "    </tr>\n",
       "  </tbody>\n",
       "</table>\n",
       "</div>"
      ],
      "text/plain": [
       "   bIndex  pIndex  sIndex                                          productID  \\\n",
       "2       7       1       1  S1A_IW_SLC__1SDV_20230806T211729_20230806T2117...   \n",
       "3      10       1       1  S1A_IW_SLC__1SDV_20230806T211729_20230806T2117...   \n",
       "4      13       1       1  S1A_IW_SLC__1SDV_20230806T211729_20230806T2117...   \n",
       "5      16       1       1  S1A_IW_SLC__1SDV_20230806T211729_20230806T2117...   \n",
       "6      19       1       1  S1A_IW_SLC__1SDV_20230806T211729_20230806T2117...   \n",
       "7      22       1       1  S1A_IW_SLC__1SDV_20230806T211729_20230806T2117...   \n",
       "\n",
       "  swathID                azimuthTimeMin                azimuthTimeMax  \n",
       "2     IW1 2023-08-06 21:17:34.721407480 2023-08-06 21:17:37.888562906  \n",
       "3     IW1 2023-08-06 21:17:37.478005721 2023-08-06 21:17:40.645161146  \n",
       "4     IW1 2023-08-06 21:17:40.234603961 2023-08-06 21:17:43.401759387  \n",
       "5     IW1 2023-08-06 21:17:42.991202202 2023-08-06 21:17:46.158357627  \n",
       "6     IW1 2023-08-06 21:17:45.747800442 2023-08-06 21:17:48.914955868  \n",
       "7     IW1 2023-08-06 21:17:48.504398683 2023-08-06 21:17:51.671554108  "
      ]
     },
     "execution_count": 32,
     "metadata": {},
     "output_type": "execute_result"
    }
   ],
   "source": [
    "first_time = dateutil.parser.parse(\"2023-08-06T21:17:32.013300\")\n",
    "last_time = dateutil.parser.parse(\"2023-08-06T21:17:54.071000\")\n",
    "\n",
    "# query the catalogue for a subset of the swaths\n",
    "df = eta.query_burst(first_time=first_time, last_time=last_time, swath=\"IW1\")\n",
    "print(f\"Number of bursts: {len(df)}\")\n",
    "df"
   ]
  },
  {
   "cell_type": "markdown",
   "metadata": {},
   "source": [
    "Query the catalogue for a subset of the swaths:"
   ]
  },
  {
   "cell_type": "code",
   "execution_count": 33,
   "metadata": {},
   "outputs": [
    {
     "name": "stdout",
     "output_type": "stream",
     "text": [
      "Number of bursts: 13\n"
     ]
    },
    {
     "data": {
      "text/html": [
       "<div>\n",
       "<style scoped>\n",
       "    .dataframe tbody tr th:only-of-type {\n",
       "        vertical-align: middle;\n",
       "    }\n",
       "\n",
       "    .dataframe tbody tr th {\n",
       "        vertical-align: top;\n",
       "    }\n",
       "\n",
       "    .dataframe thead th {\n",
       "        text-align: right;\n",
       "    }\n",
       "</style>\n",
       "<table border=\"1\" class=\"dataframe\">\n",
       "  <thead>\n",
       "    <tr style=\"text-align: right;\">\n",
       "      <th></th>\n",
       "      <th>bIndex</th>\n",
       "      <th>pIndex</th>\n",
       "      <th>sIndex</th>\n",
       "      <th>productID</th>\n",
       "      <th>swathID</th>\n",
       "      <th>azimuthTimeMin</th>\n",
       "      <th>azimuthTimeMax</th>\n",
       "    </tr>\n",
       "  </thead>\n",
       "  <tbody>\n",
       "    <tr>\n",
       "      <th>11</th>\n",
       "      <td>5</td>\n",
       "      <td>1</td>\n",
       "      <td>2</td>\n",
       "      <td>S1A_IW_SLC__1SDV_20230806T211729_20230806T2117...</td>\n",
       "      <td>IW2</td>\n",
       "      <td>2023-08-06 21:17:32.903225662</td>\n",
       "      <td>2023-08-06 21:17:36.099706601</td>\n",
       "    </tr>\n",
       "    <tr>\n",
       "      <th>2</th>\n",
       "      <td>7</td>\n",
       "      <td>1</td>\n",
       "      <td>1</td>\n",
       "      <td>S1A_IW_SLC__1SDV_20230806T211729_20230806T2117...</td>\n",
       "      <td>IW1</td>\n",
       "      <td>2023-08-06 21:17:34.721407480</td>\n",
       "      <td>2023-08-06 21:17:37.888562906</td>\n",
       "    </tr>\n",
       "    <tr>\n",
       "      <th>12</th>\n",
       "      <td>8</td>\n",
       "      <td>1</td>\n",
       "      <td>2</td>\n",
       "      <td>S1A_IW_SLC__1SDV_20230806T211729_20230806T2117...</td>\n",
       "      <td>IW2</td>\n",
       "      <td>2023-08-06 21:17:35.659823903</td>\n",
       "      <td>2023-08-06 21:17:38.826979328</td>\n",
       "    </tr>\n",
       "    <tr>\n",
       "      <th>3</th>\n",
       "      <td>10</td>\n",
       "      <td>1</td>\n",
       "      <td>1</td>\n",
       "      <td>S1A_IW_SLC__1SDV_20230806T211729_20230806T2117...</td>\n",
       "      <td>IW1</td>\n",
       "      <td>2023-08-06 21:17:37.478005721</td>\n",
       "      <td>2023-08-06 21:17:40.645161146</td>\n",
       "    </tr>\n",
       "    <tr>\n",
       "      <th>13</th>\n",
       "      <td>11</td>\n",
       "      <td>1</td>\n",
       "      <td>2</td>\n",
       "      <td>S1A_IW_SLC__1SDV_20230806T211729_20230806T2117...</td>\n",
       "      <td>IW2</td>\n",
       "      <td>2023-08-06 21:17:38.416422143</td>\n",
       "      <td>2023-08-06 21:17:41.612903082</td>\n",
       "    </tr>\n",
       "  </tbody>\n",
       "</table>\n",
       "</div>"
      ],
      "text/plain": [
       "    bIndex  pIndex  sIndex                                          productID  \\\n",
       "11       5       1       2  S1A_IW_SLC__1SDV_20230806T211729_20230806T2117...   \n",
       "2        7       1       1  S1A_IW_SLC__1SDV_20230806T211729_20230806T2117...   \n",
       "12       8       1       2  S1A_IW_SLC__1SDV_20230806T211729_20230806T2117...   \n",
       "3       10       1       1  S1A_IW_SLC__1SDV_20230806T211729_20230806T2117...   \n",
       "13      11       1       2  S1A_IW_SLC__1SDV_20230806T211729_20230806T2117...   \n",
       "\n",
       "   swathID                azimuthTimeMin                azimuthTimeMax  \n",
       "11     IW2 2023-08-06 21:17:32.903225662 2023-08-06 21:17:36.099706601  \n",
       "2      IW1 2023-08-06 21:17:34.721407480 2023-08-06 21:17:37.888562906  \n",
       "12     IW2 2023-08-06 21:17:35.659823903 2023-08-06 21:17:38.826979328  \n",
       "3      IW1 2023-08-06 21:17:37.478005721 2023-08-06 21:17:40.645161146  \n",
       "13     IW2 2023-08-06 21:17:38.416422143 2023-08-06 21:17:41.612903082  "
      ]
     },
     "execution_count": 33,
     "metadata": {},
     "output_type": "execute_result"
    }
   ],
   "source": [
    "first_time = dateutil.parser.parse(\"2023-08-06T21:17:32.013300\")\n",
    "last_time = dateutil.parser.parse(\"2023-08-06T21:17:54.071000\")\n",
    "\n",
    "df = eta.query_burst(\n",
    "    first_time=first_time, last_time=last_time, swath=[\"IW1\", \"IW2\"]\n",
    ")\n",
    "\n",
    "print(f\"Number of bursts: {len(df)}\")\n",
    "df.head()"
   ]
  },
  {
   "cell_type": "markdown",
   "metadata": {},
   "source": [
    "## Selecting by Sentinel-1 product name (swath and time)"
   ]
  },
  {
   "cell_type": "markdown",
   "metadata": {},
   "source": [
    "The **time** selection can be combined with a selection by **swath** using the **product_name** keyword."
   ]
  },
  {
   "cell_type": "code",
   "execution_count": 34,
   "metadata": {},
   "outputs": [
    {
     "name": "stdout",
     "output_type": "stream",
     "text": [
      "Number of bursts: 7\n"
     ]
    },
    {
     "data": {
      "text/html": [
       "<div>\n",
       "<style scoped>\n",
       "    .dataframe tbody tr th:only-of-type {\n",
       "        vertical-align: middle;\n",
       "    }\n",
       "\n",
       "    .dataframe tbody tr th {\n",
       "        vertical-align: top;\n",
       "    }\n",
       "\n",
       "    .dataframe thead th {\n",
       "        text-align: right;\n",
       "    }\n",
       "</style>\n",
       "<table border=\"1\" class=\"dataframe\">\n",
       "  <thead>\n",
       "    <tr style=\"text-align: right;\">\n",
       "      <th></th>\n",
       "      <th>bIndex</th>\n",
       "      <th>pIndex</th>\n",
       "      <th>sIndex</th>\n",
       "      <th>productID</th>\n",
       "      <th>swathID</th>\n",
       "      <th>azimuthTimeMin</th>\n",
       "      <th>azimuthTimeMax</th>\n",
       "    </tr>\n",
       "  </thead>\n",
       "  <tbody>\n",
       "    <tr>\n",
       "      <th>20</th>\n",
       "      <td>6</td>\n",
       "      <td>1</td>\n",
       "      <td>3</td>\n",
       "      <td>S1A_IW_SLC__1SDV_20230806T211729_20230806T2117...</td>\n",
       "      <td>IW3</td>\n",
       "      <td>2023-08-06 21:17:33.870967598</td>\n",
       "      <td>2023-08-06 21:17:37.067448536</td>\n",
       "    </tr>\n",
       "    <tr>\n",
       "      <th>21</th>\n",
       "      <td>9</td>\n",
       "      <td>1</td>\n",
       "      <td>3</td>\n",
       "      <td>S1A_IW_SLC__1SDV_20230806T211729_20230806T2117...</td>\n",
       "      <td>IW3</td>\n",
       "      <td>2023-08-06 21:17:36.627565838</td>\n",
       "      <td>2023-08-06 21:17:39.794721263</td>\n",
       "    </tr>\n",
       "    <tr>\n",
       "      <th>22</th>\n",
       "      <td>12</td>\n",
       "      <td>1</td>\n",
       "      <td>3</td>\n",
       "      <td>S1A_IW_SLC__1SDV_20230806T211729_20230806T2117...</td>\n",
       "      <td>IW3</td>\n",
       "      <td>2023-08-06 21:17:39.384164079</td>\n",
       "      <td>2023-08-06 21:17:42.580645017</td>\n",
       "    </tr>\n",
       "    <tr>\n",
       "      <th>23</th>\n",
       "      <td>15</td>\n",
       "      <td>1</td>\n",
       "      <td>3</td>\n",
       "      <td>S1A_IW_SLC__1SDV_20230806T211729_20230806T2117...</td>\n",
       "      <td>IW3</td>\n",
       "      <td>2023-08-06 21:17:42.140762319</td>\n",
       "      <td>2023-08-06 21:17:45.337243258</td>\n",
       "    </tr>\n",
       "    <tr>\n",
       "      <th>24</th>\n",
       "      <td>18</td>\n",
       "      <td>1</td>\n",
       "      <td>3</td>\n",
       "      <td>S1A_IW_SLC__1SDV_20230806T211729_20230806T2117...</td>\n",
       "      <td>IW3</td>\n",
       "      <td>2023-08-06 21:17:44.897360560</td>\n",
       "      <td>2023-08-06 21:17:48.064515985</td>\n",
       "    </tr>\n",
       "  </tbody>\n",
       "</table>\n",
       "</div>"
      ],
      "text/plain": [
       "    bIndex  pIndex  sIndex                                          productID  \\\n",
       "20       6       1       3  S1A_IW_SLC__1SDV_20230806T211729_20230806T2117...   \n",
       "21       9       1       3  S1A_IW_SLC__1SDV_20230806T211729_20230806T2117...   \n",
       "22      12       1       3  S1A_IW_SLC__1SDV_20230806T211729_20230806T2117...   \n",
       "23      15       1       3  S1A_IW_SLC__1SDV_20230806T211729_20230806T2117...   \n",
       "24      18       1       3  S1A_IW_SLC__1SDV_20230806T211729_20230806T2117...   \n",
       "\n",
       "   swathID                azimuthTimeMin                azimuthTimeMax  \n",
       "20     IW3 2023-08-06 21:17:33.870967598 2023-08-06 21:17:37.067448536  \n",
       "21     IW3 2023-08-06 21:17:36.627565838 2023-08-06 21:17:39.794721263  \n",
       "22     IW3 2023-08-06 21:17:39.384164079 2023-08-06 21:17:42.580645017  \n",
       "23     IW3 2023-08-06 21:17:42.140762319 2023-08-06 21:17:45.337243258  \n",
       "24     IW3 2023-08-06 21:17:44.897360560 2023-08-06 21:17:48.064515985  "
      ]
     },
     "execution_count": 34,
     "metadata": {},
     "output_type": "execute_result"
    }
   ],
   "source": [
    "first_time = dateutil.parser.parse(\"2023-08-06T21:17:32.013300\")\n",
    "last_time = dateutil.parser.parse(\"2023-08-06T21:17:54.071000\")\n",
    "\n",
    "product_name = (\n",
    "    \"S1A_IW_SLC__1SDV_20230806T211729_20230806T211757_049760_05FBCB_BC56.SAFE\"\n",
    ")\n",
    "df = eta.query_burst(\n",
    "    first_time=first_time,\n",
    "    last_time=last_time,\n",
    "    product_name=product_name,\n",
    "    swath=[\"IW3\"],\n",
    ")\n",
    "\n",
    "print(f\"Number of bursts: {len(df)}\")\n",
    "df.head()"
   ]
  }
 ],
 "metadata": {
  "kernelspec": {
   "display_name": "venv",
   "language": "python",
   "name": "python3"
  },
  "language_info": {
   "codemirror_mode": {
    "name": "ipython",
    "version": 3
   },
   "file_extension": ".py",
   "mimetype": "text/x-python",
   "name": "python",
   "nbconvert_exporter": "python",
   "pygments_lexer": "ipython3",
   "version": "3.13.3"
  }
 },
 "nbformat": 4,
 "nbformat_minor": 4
}
