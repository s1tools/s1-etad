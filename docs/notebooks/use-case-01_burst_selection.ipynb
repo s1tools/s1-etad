{
 "cells": [
  {
   "cell_type": "markdown",
   "metadata": {
    "toc-hr-collapsed": false
   },
   "source": [
    "# Use case 1: selecting bursts"
   ]
  },
  {
   "cell_type": "markdown",
   "metadata": {},
   "source": [
    "## Notebook setup"
   ]
  },
  {
   "cell_type": "code",
   "execution_count": 1,
   "metadata": {},
   "outputs": [],
   "source": [
    "%matplotlib inline\n",
    "%load_ext autoreload\n",
    "%autoreload 2"
   ]
  },
  {
   "cell_type": "code",
   "execution_count": 2,
   "metadata": {},
   "outputs": [],
   "source": [
    "import sys\n",
    "\n",
    "sys.path.append(\"../..\")"
   ]
  },
  {
   "cell_type": "code",
   "execution_count": 4,
   "metadata": {},
   "outputs": [],
   "source": [
    "from s1etad import Sentinel1Etad"
   ]
  },
  {
   "cell_type": "markdown",
   "metadata": {},
   "source": [
    "## Open the dataset"
   ]
  },
  {
   "cell_type": "code",
   "execution_count": 5,
   "metadata": {},
   "outputs": [],
   "source": [
    "filename = \"../../sample-products/S1B_IW_ETA__AXDH_20200127T113414_20200127T113858_020002_025D72_0096.SAFE\""
   ]
  },
  {
   "cell_type": "code",
   "execution_count": 6,
   "metadata": {},
   "outputs": [],
   "source": [
    "eta = Sentinel1Etad(filename)"
   ]
  },
  {
   "cell_type": "code",
   "execution_count": 7,
   "metadata": {},
   "outputs": [
    {
     "data": {
      "text/plain": [
       "Sentinel1Etad(\"../../sample-products/S1B_IW_ETA__AXDH_20200127T113414_20200127T113858_020002_025D72_0096.SAFE\")  # 0x7facce683490\n",
       "Number of Sentinel-1 slices: 11\n",
       "Sentinel-1 products list:\n",
       "  S1B_IW_SLC__1ADH_20200127T113414_20200127T113444_020002_025D72_FD42.SAFE\n",
       "  S1B_IW_SLC__1ADH_20200127T113442_20200127T113510_020002_025D72_FC8F.SAFE\n",
       "  S1B_IW_SLC__1ADH_20200127T113507_20200127T113534_020002_025D72_78DF.SAFE\n",
       "  S1B_IW_SLC__1ADH_20200127T113532_20200127T113559_020002_025D72_1ABB.SAFE\n",
       "  S1B_IW_SLC__1ADH_20200127T113557_20200127T113624_020002_025D72_6706.SAFE\n",
       "  S1B_IW_SLC__1ADH_20200127T113622_20200127T113649_020002_025D72_78F0.SAFE\n",
       "  S1B_IW_SLC__1ADH_20200127T113647_20200127T113715_020002_025D72_11FB.SAFE\n",
       "  S1B_IW_SLC__1ADH_20200127T113712_20200127T113739_020002_025D72_FCC6.SAFE\n",
       "  S1B_IW_SLC__1ADH_20200127T113737_20200127T113804_020002_025D72_1FED.SAFE\n",
       "  S1B_IW_SLC__1ADH_20200127T113802_20200127T113829_020002_025D72_C434.SAFE\n",
       "  S1B_IW_SLC__1ADH_20200127T113827_20200127T113858_020002_025D72_E443.SAFE\n",
       "Number of swaths: 3\n",
       "Swath list: IW1, IW2, IW3\n",
       "Azimuth time:\n",
       "  min: 2020-01-27 11:34:14.475597\n",
       "  max: 2020-01-27 11:38:58.167033\n",
       "Range time:\n",
       "  min: 0.005371080957826855\n",
       "  max: 0.006416814907377812\n",
       "Grid sampling:\n",
       "  x: 8.081406101630269e-07\n",
       "  y: 0.028777788199999974\n",
       "  unit: s\n",
       "Grid spacing:\n",
       "  x: 200.0\n",
       "  y: 200.0\n",
       "  unit: m\n",
       "Processing settings:\n",
       "  troposphericDelayCorrection: True\n",
       "  ionosphericDelayCorrection: True\n",
       "  solidEarthTideCorrection: True\n",
       "  bistaticAzimuthCorrection: True\n",
       "  dopplerShiftRangeCorrection: True\n",
       "  FMMismatchAzimuthCorrection: True"
      ]
     },
     "execution_count": 7,
     "metadata": {},
     "output_type": "execute_result"
    }
   ],
   "source": [
    "eta"
   ]
  },
  {
   "cell_type": "markdown",
   "metadata": {
    "toc-hr-collapsed": false
   },
   "source": [
    "## Selecting the burst by filtering in time"
   ]
  },
  {
   "cell_type": "markdown",
   "metadata": {},
   "source": [
    "The availability of the burst catalogue, allows to perform queries and filter the burst by performing time selection using the __first_time__ and __last_time__ keywords of the __query_burst__ method.\n",
    "\n",
    "If no time is provided then all the burst are selected:"
   ]
  },
  {
   "cell_type": "code",
   "execution_count": 8,
   "metadata": {},
   "outputs": [
    {
     "name": "stdout",
     "output_type": "stream",
     "text": [
      "Number of bursts: 306\n"
     ]
    },
    {
     "data": {
      "text/html": [
       "<div>\n",
       "<style scoped>\n",
       "    .dataframe tbody tr th:only-of-type {\n",
       "        vertical-align: middle;\n",
       "    }\n",
       "\n",
       "    .dataframe tbody tr th {\n",
       "        vertical-align: top;\n",
       "    }\n",
       "\n",
       "    .dataframe thead th {\n",
       "        text-align: right;\n",
       "    }\n",
       "</style>\n",
       "<table border=\"1\" class=\"dataframe\">\n",
       "  <thead>\n",
       "    <tr style=\"text-align: right;\">\n",
       "      <th></th>\n",
       "      <th>bIndex</th>\n",
       "      <th>pIndex</th>\n",
       "      <th>sIndex</th>\n",
       "      <th>productID</th>\n",
       "      <th>swathID</th>\n",
       "      <th>azimuthTimeMin</th>\n",
       "      <th>azimuthTimeMax</th>\n",
       "    </tr>\n",
       "  </thead>\n",
       "  <tbody>\n",
       "    <tr>\n",
       "      <th>0</th>\n",
       "      <td>1</td>\n",
       "      <td>1</td>\n",
       "      <td>1</td>\n",
       "      <td>S1B_IW_SLC__1ADH_20200127T113414_20200127T1134...</td>\n",
       "      <td>IW1</td>\n",
       "      <td>2020-01-27 11:34:14.475597000</td>\n",
       "      <td>2020-01-27 11:34:17.641153701</td>\n",
       "    </tr>\n",
       "    <tr>\n",
       "      <th>102</th>\n",
       "      <td>2</td>\n",
       "      <td>1</td>\n",
       "      <td>2</td>\n",
       "      <td>S1B_IW_SLC__1ADH_20200127T113414_20200127T1134...</td>\n",
       "      <td>IW2</td>\n",
       "      <td>2020-01-27 11:34:15.396486222</td>\n",
       "      <td>2020-01-27 11:34:18.619598500</td>\n",
       "    </tr>\n",
       "    <tr>\n",
       "      <th>204</th>\n",
       "      <td>3</td>\n",
       "      <td>1</td>\n",
       "      <td>3</td>\n",
       "      <td>S1B_IW_SLC__1ADH_20200127T113414_20200127T1134...</td>\n",
       "      <td>IW3</td>\n",
       "      <td>2020-01-27 11:34:16.374931021</td>\n",
       "      <td>2020-01-27 11:34:19.569265511</td>\n",
       "    </tr>\n",
       "    <tr>\n",
       "      <th>1</th>\n",
       "      <td>4</td>\n",
       "      <td>1</td>\n",
       "      <td>1</td>\n",
       "      <td>S1B_IW_SLC__1ADH_20200127T113414_20200127T1134...</td>\n",
       "      <td>IW1</td>\n",
       "      <td>2020-01-27 11:34:17.209486879</td>\n",
       "      <td>2020-01-27 11:34:20.403821369</td>\n",
       "    </tr>\n",
       "    <tr>\n",
       "      <th>103</th>\n",
       "      <td>5</td>\n",
       "      <td>1</td>\n",
       "      <td>2</td>\n",
       "      <td>S1B_IW_SLC__1ADH_20200127T113414_20200127T1134...</td>\n",
       "      <td>IW2</td>\n",
       "      <td>2020-01-27 11:34:18.159153889</td>\n",
       "      <td>2020-01-27 11:34:21.353488379</td>\n",
       "    </tr>\n",
       "  </tbody>\n",
       "</table>\n",
       "</div>"
      ],
      "text/plain": [
       "     bIndex  pIndex  sIndex  \\\n",
       "0         1       1       1   \n",
       "102       2       1       2   \n",
       "204       3       1       3   \n",
       "1         4       1       1   \n",
       "103       5       1       2   \n",
       "\n",
       "                                             productID swathID  \\\n",
       "0    S1B_IW_SLC__1ADH_20200127T113414_20200127T1134...     IW1   \n",
       "102  S1B_IW_SLC__1ADH_20200127T113414_20200127T1134...     IW2   \n",
       "204  S1B_IW_SLC__1ADH_20200127T113414_20200127T1134...     IW3   \n",
       "1    S1B_IW_SLC__1ADH_20200127T113414_20200127T1134...     IW1   \n",
       "103  S1B_IW_SLC__1ADH_20200127T113414_20200127T1134...     IW2   \n",
       "\n",
       "                   azimuthTimeMin                azimuthTimeMax  \n",
       "0   2020-01-27 11:34:14.475597000 2020-01-27 11:34:17.641153701  \n",
       "102 2020-01-27 11:34:15.396486222 2020-01-27 11:34:18.619598500  \n",
       "204 2020-01-27 11:34:16.374931021 2020-01-27 11:34:19.569265511  \n",
       "1   2020-01-27 11:34:17.209486879 2020-01-27 11:34:20.403821369  \n",
       "103 2020-01-27 11:34:18.159153889 2020-01-27 11:34:21.353488379  "
      ]
     },
     "execution_count": 8,
     "metadata": {},
     "output_type": "execute_result"
    }
   ],
   "source": [
    "df = eta.query_burst()\n",
    "\n",
    "print(f\"Number of bursts: {len(df)}\")\n",
    "df.head()"
   ]
  },
  {
   "cell_type": "markdown",
   "metadata": {},
   "source": [
    "It is possible to reduce the selection by **start time** in this case the **stop time** is the last available burst:"
   ]
  },
  {
   "cell_type": "code",
   "execution_count": 9,
   "metadata": {},
   "outputs": [
    {
     "name": "stdout",
     "output_type": "stream",
     "text": [
      "Number of bursts: 5\n"
     ]
    },
    {
     "data": {
      "text/html": [
       "<div>\n",
       "<style scoped>\n",
       "    .dataframe tbody tr th:only-of-type {\n",
       "        vertical-align: middle;\n",
       "    }\n",
       "\n",
       "    .dataframe tbody tr th {\n",
       "        vertical-align: top;\n",
       "    }\n",
       "\n",
       "    .dataframe thead th {\n",
       "        text-align: right;\n",
       "    }\n",
       "</style>\n",
       "<table border=\"1\" class=\"dataframe\">\n",
       "  <thead>\n",
       "    <tr style=\"text-align: right;\">\n",
       "      <th></th>\n",
       "      <th>bIndex</th>\n",
       "      <th>pIndex</th>\n",
       "      <th>sIndex</th>\n",
       "      <th>productID</th>\n",
       "      <th>swathID</th>\n",
       "      <th>azimuthTimeMin</th>\n",
       "      <th>azimuthTimeMax</th>\n",
       "    </tr>\n",
       "  </thead>\n",
       "  <tbody>\n",
       "    <tr>\n",
       "      <th>202</th>\n",
       "      <td>302</td>\n",
       "      <td>11</td>\n",
       "      <td>2</td>\n",
       "      <td>S1B_IW_SLC__1ADH_20200127T113827_20200127T1138...</td>\n",
       "      <td>IW2</td>\n",
       "      <td>2020-01-27 11:38:51.231586119</td>\n",
       "      <td>2020-01-27 11:38:54.425920609</td>\n",
       "    </tr>\n",
       "    <tr>\n",
       "      <th>304</th>\n",
       "      <td>303</td>\n",
       "      <td>11</td>\n",
       "      <td>3</td>\n",
       "      <td>S1B_IW_SLC__1ADH_20200127T113827_20200127T1138...</td>\n",
       "      <td>IW3</td>\n",
       "      <td>2020-01-27 11:38:52.181253129</td>\n",
       "      <td>2020-01-27 11:38:55.404365408</td>\n",
       "    </tr>\n",
       "    <tr>\n",
       "      <th>101</th>\n",
       "      <td>304</td>\n",
       "      <td>11</td>\n",
       "      <td>1</td>\n",
       "      <td>S1B_IW_SLC__1ADH_20200127T113827_20200127T1138...</td>\n",
       "      <td>IW1</td>\n",
       "      <td>2020-01-27 11:38:53.044586775</td>\n",
       "      <td>2020-01-27 11:38:56.238921266</td>\n",
       "    </tr>\n",
       "    <tr>\n",
       "      <th>203</th>\n",
       "      <td>305</td>\n",
       "      <td>11</td>\n",
       "      <td>2</td>\n",
       "      <td>S1B_IW_SLC__1ADH_20200127T113827_20200127T1138...</td>\n",
       "      <td>IW2</td>\n",
       "      <td>2020-01-27 11:38:53.994253786</td>\n",
       "      <td>2020-01-27 11:38:57.188588276</td>\n",
       "    </tr>\n",
       "    <tr>\n",
       "      <th>305</th>\n",
       "      <td>306</td>\n",
       "      <td>11</td>\n",
       "      <td>3</td>\n",
       "      <td>S1B_IW_SLC__1ADH_20200127T113827_20200127T1138...</td>\n",
       "      <td>IW3</td>\n",
       "      <td>2020-01-27 11:38:54.943920797</td>\n",
       "      <td>2020-01-27 11:38:58.167033075</td>\n",
       "    </tr>\n",
       "  </tbody>\n",
       "</table>\n",
       "</div>"
      ],
      "text/plain": [
       "     bIndex  pIndex  sIndex  \\\n",
       "202     302      11       2   \n",
       "304     303      11       3   \n",
       "101     304      11       1   \n",
       "203     305      11       2   \n",
       "305     306      11       3   \n",
       "\n",
       "                                             productID swathID  \\\n",
       "202  S1B_IW_SLC__1ADH_20200127T113827_20200127T1138...     IW2   \n",
       "304  S1B_IW_SLC__1ADH_20200127T113827_20200127T1138...     IW3   \n",
       "101  S1B_IW_SLC__1ADH_20200127T113827_20200127T1138...     IW1   \n",
       "203  S1B_IW_SLC__1ADH_20200127T113827_20200127T1138...     IW2   \n",
       "305  S1B_IW_SLC__1ADH_20200127T113827_20200127T1138...     IW3   \n",
       "\n",
       "                   azimuthTimeMin                azimuthTimeMax  \n",
       "202 2020-01-27 11:38:51.231586119 2020-01-27 11:38:54.425920609  \n",
       "304 2020-01-27 11:38:52.181253129 2020-01-27 11:38:55.404365408  \n",
       "101 2020-01-27 11:38:53.044586775 2020-01-27 11:38:56.238921266  \n",
       "203 2020-01-27 11:38:53.994253786 2020-01-27 11:38:57.188588276  \n",
       "305 2020-01-27 11:38:54.943920797 2020-01-27 11:38:58.167033075  "
      ]
     },
     "execution_count": 9,
     "metadata": {},
     "output_type": "execute_result"
    }
   ],
   "source": [
    "import dateutil\n",
    "\n",
    "first_time = dateutil.parser.parse(\"2020-01-27T11:38:51.231586\")\n",
    "\n",
    "df = eta.query_burst(first_time=first_time)\n",
    "\n",
    "print(f\"Number of bursts: {len(df)}\")\n",
    "df.head()"
   ]
  },
  {
   "cell_type": "markdown",
   "metadata": {},
   "source": [
    "It is possible to reduce the selection by the **stop time** in this case the **start time** is the first available burst:"
   ]
  },
  {
   "cell_type": "code",
   "execution_count": 10,
   "metadata": {},
   "outputs": [
    {
     "name": "stdout",
     "output_type": "stream",
     "text": [
      "Number of bursts: 4\n"
     ]
    },
    {
     "data": {
      "text/html": [
       "<div>\n",
       "<style scoped>\n",
       "    .dataframe tbody tr th:only-of-type {\n",
       "        vertical-align: middle;\n",
       "    }\n",
       "\n",
       "    .dataframe tbody tr th {\n",
       "        vertical-align: top;\n",
       "    }\n",
       "\n",
       "    .dataframe thead th {\n",
       "        text-align: right;\n",
       "    }\n",
       "</style>\n",
       "<table border=\"1\" class=\"dataframe\">\n",
       "  <thead>\n",
       "    <tr style=\"text-align: right;\">\n",
       "      <th></th>\n",
       "      <th>bIndex</th>\n",
       "      <th>pIndex</th>\n",
       "      <th>sIndex</th>\n",
       "      <th>productID</th>\n",
       "      <th>swathID</th>\n",
       "      <th>azimuthTimeMin</th>\n",
       "      <th>azimuthTimeMax</th>\n",
       "    </tr>\n",
       "  </thead>\n",
       "  <tbody>\n",
       "    <tr>\n",
       "      <th>0</th>\n",
       "      <td>1</td>\n",
       "      <td>1</td>\n",
       "      <td>1</td>\n",
       "      <td>S1B_IW_SLC__1ADH_20200127T113414_20200127T1134...</td>\n",
       "      <td>IW1</td>\n",
       "      <td>2020-01-27 11:34:14.475597000</td>\n",
       "      <td>2020-01-27 11:34:17.641153701</td>\n",
       "    </tr>\n",
       "    <tr>\n",
       "      <th>102</th>\n",
       "      <td>2</td>\n",
       "      <td>1</td>\n",
       "      <td>2</td>\n",
       "      <td>S1B_IW_SLC__1ADH_20200127T113414_20200127T1134...</td>\n",
       "      <td>IW2</td>\n",
       "      <td>2020-01-27 11:34:15.396486222</td>\n",
       "      <td>2020-01-27 11:34:18.619598500</td>\n",
       "    </tr>\n",
       "    <tr>\n",
       "      <th>204</th>\n",
       "      <td>3</td>\n",
       "      <td>1</td>\n",
       "      <td>3</td>\n",
       "      <td>S1B_IW_SLC__1ADH_20200127T113414_20200127T1134...</td>\n",
       "      <td>IW3</td>\n",
       "      <td>2020-01-27 11:34:16.374931021</td>\n",
       "      <td>2020-01-27 11:34:19.569265511</td>\n",
       "    </tr>\n",
       "    <tr>\n",
       "      <th>1</th>\n",
       "      <td>4</td>\n",
       "      <td>1</td>\n",
       "      <td>1</td>\n",
       "      <td>S1B_IW_SLC__1ADH_20200127T113414_20200127T1134...</td>\n",
       "      <td>IW1</td>\n",
       "      <td>2020-01-27 11:34:17.209486879</td>\n",
       "      <td>2020-01-27 11:34:20.403821369</td>\n",
       "    </tr>\n",
       "  </tbody>\n",
       "</table>\n",
       "</div>"
      ],
      "text/plain": [
       "     bIndex  pIndex  sIndex  \\\n",
       "0         1       1       1   \n",
       "102       2       1       2   \n",
       "204       3       1       3   \n",
       "1         4       1       1   \n",
       "\n",
       "                                             productID swathID  \\\n",
       "0    S1B_IW_SLC__1ADH_20200127T113414_20200127T1134...     IW1   \n",
       "102  S1B_IW_SLC__1ADH_20200127T113414_20200127T1134...     IW2   \n",
       "204  S1B_IW_SLC__1ADH_20200127T113414_20200127T1134...     IW3   \n",
       "1    S1B_IW_SLC__1ADH_20200127T113414_20200127T1134...     IW1   \n",
       "\n",
       "                   azimuthTimeMin                azimuthTimeMax  \n",
       "0   2020-01-27 11:34:14.475597000 2020-01-27 11:34:17.641153701  \n",
       "102 2020-01-27 11:34:15.396486222 2020-01-27 11:34:18.619598500  \n",
       "204 2020-01-27 11:34:16.374931021 2020-01-27 11:34:19.569265511  \n",
       "1   2020-01-27 11:34:17.209486879 2020-01-27 11:34:20.403821369  "
      ]
     },
     "execution_count": 10,
     "metadata": {},
     "output_type": "execute_result"
    }
   ],
   "source": [
    "last_time = dateutil.parser.parse(\"2020-01-27T11:34:20.403822\")\n",
    "\n",
    "df = eta.query_burst(last_time=last_time)\n",
    "\n",
    "print(f\"Number of bursts: {len(df)}\")\n",
    "df.head()"
   ]
  },
  {
   "cell_type": "markdown",
   "metadata": {},
   "source": [
    "It is possible to reduce the selection by the **start** and **stop time**:"
   ]
  },
  {
   "cell_type": "code",
   "execution_count": 11,
   "metadata": {},
   "outputs": [
    {
     "name": "stdout",
     "output_type": "stream",
     "text": [
      "Number of bursts: 1\n"
     ]
    },
    {
     "data": {
      "text/html": [
       "<div>\n",
       "<style scoped>\n",
       "    .dataframe tbody tr th:only-of-type {\n",
       "        vertical-align: middle;\n",
       "    }\n",
       "\n",
       "    .dataframe tbody tr th {\n",
       "        vertical-align: top;\n",
       "    }\n",
       "\n",
       "    .dataframe thead th {\n",
       "        text-align: right;\n",
       "    }\n",
       "</style>\n",
       "<table border=\"1\" class=\"dataframe\">\n",
       "  <thead>\n",
       "    <tr style=\"text-align: right;\">\n",
       "      <th></th>\n",
       "      <th>bIndex</th>\n",
       "      <th>pIndex</th>\n",
       "      <th>sIndex</th>\n",
       "      <th>productID</th>\n",
       "      <th>swathID</th>\n",
       "      <th>azimuthTimeMin</th>\n",
       "      <th>azimuthTimeMax</th>\n",
       "    </tr>\n",
       "  </thead>\n",
       "  <tbody>\n",
       "    <tr>\n",
       "      <th>103</th>\n",
       "      <td>5</td>\n",
       "      <td>1</td>\n",
       "      <td>2</td>\n",
       "      <td>S1B_IW_SLC__1ADH_20200127T113414_20200127T1134...</td>\n",
       "      <td>IW2</td>\n",
       "      <td>2020-01-27 11:34:18.159153889</td>\n",
       "      <td>2020-01-27 11:34:21.353488379</td>\n",
       "    </tr>\n",
       "  </tbody>\n",
       "</table>\n",
       "</div>"
      ],
      "text/plain": [
       "     bIndex  pIndex  sIndex  \\\n",
       "103       5       1       2   \n",
       "\n",
       "                                             productID swathID  \\\n",
       "103  S1B_IW_SLC__1ADH_20200127T113414_20200127T1134...     IW2   \n",
       "\n",
       "                   azimuthTimeMin                azimuthTimeMax  \n",
       "103 2020-01-27 11:34:18.159153889 2020-01-27 11:34:21.353488379  "
      ]
     },
     "execution_count": 11,
     "metadata": {},
     "output_type": "execute_result"
    }
   ],
   "source": [
    "first_time = dateutil.parser.parse(\"2020-01-27T11:34:17.209487\")\n",
    "last_time = dateutil.parser.parse(\"2020-01-27T11:34:21.353489\")\n",
    "\n",
    "# query the catalogues for of all the swaths\n",
    "df = eta.query_burst(first_time=first_time, last_time=last_time)\n",
    "print(f\"Number of bursts: {len(df)}\")\n",
    "df.head()"
   ]
  },
  {
   "cell_type": "markdown",
   "metadata": {},
   "source": [
    "## Selecting by swath (and time)"
   ]
  },
  {
   "cell_type": "markdown",
   "metadata": {},
   "source": [
    "The time selection can be combined with a selection by swath using the __swath__ keyword.\n",
    "If not used all the swath are used"
   ]
  },
  {
   "cell_type": "code",
   "execution_count": 12,
   "metadata": {},
   "outputs": [
    {
     "name": "stdout",
     "output_type": "stream",
     "text": [
      "Number of bursts: 0\n"
     ]
    },
    {
     "data": {
      "text/html": [
       "<div>\n",
       "<style scoped>\n",
       "    .dataframe tbody tr th:only-of-type {\n",
       "        vertical-align: middle;\n",
       "    }\n",
       "\n",
       "    .dataframe tbody tr th {\n",
       "        vertical-align: top;\n",
       "    }\n",
       "\n",
       "    .dataframe thead th {\n",
       "        text-align: right;\n",
       "    }\n",
       "</style>\n",
       "<table border=\"1\" class=\"dataframe\">\n",
       "  <thead>\n",
       "    <tr style=\"text-align: right;\">\n",
       "      <th></th>\n",
       "      <th>bIndex</th>\n",
       "      <th>pIndex</th>\n",
       "      <th>sIndex</th>\n",
       "      <th>productID</th>\n",
       "      <th>swathID</th>\n",
       "      <th>azimuthTimeMin</th>\n",
       "      <th>azimuthTimeMax</th>\n",
       "    </tr>\n",
       "  </thead>\n",
       "  <tbody>\n",
       "  </tbody>\n",
       "</table>\n",
       "</div>"
      ],
      "text/plain": [
       "Empty DataFrame\n",
       "Columns: [bIndex, pIndex, sIndex, productID, swathID, azimuthTimeMin, azimuthTimeMax]\n",
       "Index: []"
      ]
     },
     "execution_count": 12,
     "metadata": {},
     "output_type": "execute_result"
    }
   ],
   "source": [
    "first_time = dateutil.parser.parse(\"2020-01-27T11:34:17.209487\")\n",
    "last_time = dateutil.parser.parse(\"2020-01-27T11:34:21.353489\")\n",
    "\n",
    "# query the catalogue for a subset of the swaths\n",
    "df = eta.query_burst(first_time=first_time, last_time=last_time, swath=\"IW1\")\n",
    "print(f\"Number of bursts: {len(df)}\")\n",
    "df"
   ]
  },
  {
   "cell_type": "markdown",
   "metadata": {},
   "source": [
    "Query the catalogue for a subset of the swaths:"
   ]
  },
  {
   "cell_type": "code",
   "execution_count": 13,
   "metadata": {},
   "outputs": [
    {
     "name": "stdout",
     "output_type": "stream",
     "text": [
      "Number of bursts: 6\n"
     ]
    },
    {
     "data": {
      "text/html": [
       "<div>\n",
       "<style scoped>\n",
       "    .dataframe tbody tr th:only-of-type {\n",
       "        vertical-align: middle;\n",
       "    }\n",
       "\n",
       "    .dataframe tbody tr th {\n",
       "        vertical-align: top;\n",
       "    }\n",
       "\n",
       "    .dataframe thead th {\n",
       "        text-align: right;\n",
       "    }\n",
       "</style>\n",
       "<table border=\"1\" class=\"dataframe\">\n",
       "  <thead>\n",
       "    <tr style=\"text-align: right;\">\n",
       "      <th></th>\n",
       "      <th>bIndex</th>\n",
       "      <th>pIndex</th>\n",
       "      <th>sIndex</th>\n",
       "      <th>productID</th>\n",
       "      <th>swathID</th>\n",
       "      <th>azimuthTimeMin</th>\n",
       "      <th>azimuthTimeMax</th>\n",
       "    </tr>\n",
       "  </thead>\n",
       "  <tbody>\n",
       "    <tr>\n",
       "      <th>103</th>\n",
       "      <td>5</td>\n",
       "      <td>1</td>\n",
       "      <td>2</td>\n",
       "      <td>S1B_IW_SLC__1ADH_20200127T113414_20200127T1134...</td>\n",
       "      <td>IW2</td>\n",
       "      <td>2020-01-27 11:34:18.159153889</td>\n",
       "      <td>2020-01-27 11:34:21.353488379</td>\n",
       "    </tr>\n",
       "    <tr>\n",
       "      <th>2</th>\n",
       "      <td>7</td>\n",
       "      <td>1</td>\n",
       "      <td>1</td>\n",
       "      <td>S1B_IW_SLC__1ADH_20200127T113414_20200127T1134...</td>\n",
       "      <td>IW1</td>\n",
       "      <td>2020-01-27 11:34:19.972154546</td>\n",
       "      <td>2020-01-27 11:34:23.166489036</td>\n",
       "    </tr>\n",
       "    <tr>\n",
       "      <th>104</th>\n",
       "      <td>8</td>\n",
       "      <td>1</td>\n",
       "      <td>2</td>\n",
       "      <td>S1B_IW_SLC__1ADH_20200127T113414_20200127T1134...</td>\n",
       "      <td>IW2</td>\n",
       "      <td>2020-01-27 11:34:20.921821556</td>\n",
       "      <td>2020-01-27 11:34:24.116156047</td>\n",
       "    </tr>\n",
       "    <tr>\n",
       "      <th>3</th>\n",
       "      <td>10</td>\n",
       "      <td>1</td>\n",
       "      <td>1</td>\n",
       "      <td>S1B_IW_SLC__1ADH_20200127T113414_20200127T1134...</td>\n",
       "      <td>IW1</td>\n",
       "      <td>2020-01-27 11:34:22.734822213</td>\n",
       "      <td>2020-01-27 11:34:25.929156703</td>\n",
       "    </tr>\n",
       "    <tr>\n",
       "      <th>105</th>\n",
       "      <td>11</td>\n",
       "      <td>1</td>\n",
       "      <td>2</td>\n",
       "      <td>S1B_IW_SLC__1ADH_20200127T113414_20200127T1134...</td>\n",
       "      <td>IW2</td>\n",
       "      <td>2020-01-27 11:34:23.684489224</td>\n",
       "      <td>2020-01-27 11:34:26.878823714</td>\n",
       "    </tr>\n",
       "  </tbody>\n",
       "</table>\n",
       "</div>"
      ],
      "text/plain": [
       "     bIndex  pIndex  sIndex  \\\n",
       "103       5       1       2   \n",
       "2         7       1       1   \n",
       "104       8       1       2   \n",
       "3        10       1       1   \n",
       "105      11       1       2   \n",
       "\n",
       "                                             productID swathID  \\\n",
       "103  S1B_IW_SLC__1ADH_20200127T113414_20200127T1134...     IW2   \n",
       "2    S1B_IW_SLC__1ADH_20200127T113414_20200127T1134...     IW1   \n",
       "104  S1B_IW_SLC__1ADH_20200127T113414_20200127T1134...     IW2   \n",
       "3    S1B_IW_SLC__1ADH_20200127T113414_20200127T1134...     IW1   \n",
       "105  S1B_IW_SLC__1ADH_20200127T113414_20200127T1134...     IW2   \n",
       "\n",
       "                   azimuthTimeMin                azimuthTimeMax  \n",
       "103 2020-01-27 11:34:18.159153889 2020-01-27 11:34:21.353488379  \n",
       "2   2020-01-27 11:34:19.972154546 2020-01-27 11:34:23.166489036  \n",
       "104 2020-01-27 11:34:20.921821556 2020-01-27 11:34:24.116156047  \n",
       "3   2020-01-27 11:34:22.734822213 2020-01-27 11:34:25.929156703  \n",
       "105 2020-01-27 11:34:23.684489224 2020-01-27 11:34:26.878823714  "
      ]
     },
     "execution_count": 13,
     "metadata": {},
     "output_type": "execute_result"
    }
   ],
   "source": [
    "first_time = dateutil.parser.parse(\"2020-01-27T11:34:17.209487\")\n",
    "last_time = dateutil.parser.parse(\"2020-01-27T11:34:28.663047\")\n",
    "\n",
    "df = eta.query_burst(\n",
    "    first_time=first_time, last_time=last_time, swath=[\"IW1\", \"IW2\"]\n",
    ")\n",
    "\n",
    "print(f\"Number of bursts: {len(df)}\")\n",
    "df.head()"
   ]
  },
  {
   "cell_type": "markdown",
   "metadata": {},
   "source": [
    "## Selecting by Sentinel-1 product name (swath and time)"
   ]
  },
  {
   "cell_type": "markdown",
   "metadata": {},
   "source": [
    "The **time** selection can be combined with a selection by **swath** using the **product_name** keyword."
   ]
  },
  {
   "cell_type": "code",
   "execution_count": 14,
   "metadata": {},
   "outputs": [
    {
     "name": "stdout",
     "output_type": "stream",
     "text": [
      "Number of bursts: 4\n"
     ]
    },
    {
     "data": {
      "text/html": [
       "<div>\n",
       "<style scoped>\n",
       "    .dataframe tbody tr th:only-of-type {\n",
       "        vertical-align: middle;\n",
       "    }\n",
       "\n",
       "    .dataframe tbody tr th {\n",
       "        vertical-align: top;\n",
       "    }\n",
       "\n",
       "    .dataframe thead th {\n",
       "        text-align: right;\n",
       "    }\n",
       "</style>\n",
       "<table border=\"1\" class=\"dataframe\">\n",
       "  <thead>\n",
       "    <tr style=\"text-align: right;\">\n",
       "      <th></th>\n",
       "      <th>bIndex</th>\n",
       "      <th>pIndex</th>\n",
       "      <th>sIndex</th>\n",
       "      <th>productID</th>\n",
       "      <th>swathID</th>\n",
       "      <th>azimuthTimeMin</th>\n",
       "      <th>azimuthTimeMax</th>\n",
       "    </tr>\n",
       "  </thead>\n",
       "  <tbody>\n",
       "    <tr>\n",
       "      <th>210</th>\n",
       "      <td>21</td>\n",
       "      <td>1</td>\n",
       "      <td>3</td>\n",
       "      <td>S1B_IW_SLC__1ADH_20200127T113414_20200127T1134...</td>\n",
       "      <td>IW3</td>\n",
       "      <td>2020-01-27 11:34:32.922159236</td>\n",
       "      <td>2020-01-27 11:34:36.116493726</td>\n",
       "    </tr>\n",
       "    <tr>\n",
       "      <th>211</th>\n",
       "      <td>24</td>\n",
       "      <td>1</td>\n",
       "      <td>3</td>\n",
       "      <td>S1B_IW_SLC__1ADH_20200127T113414_20200127T1134...</td>\n",
       "      <td>IW3</td>\n",
       "      <td>2020-01-27 11:34:35.684826903</td>\n",
       "      <td>2020-01-27 11:34:38.879161393</td>\n",
       "    </tr>\n",
       "    <tr>\n",
       "      <th>212</th>\n",
       "      <td>27</td>\n",
       "      <td>1</td>\n",
       "      <td>3</td>\n",
       "      <td>S1B_IW_SLC__1ADH_20200127T113414_20200127T1134...</td>\n",
       "      <td>IW3</td>\n",
       "      <td>2020-01-27 11:34:38.447494570</td>\n",
       "      <td>2020-01-27 11:34:41.641829060</td>\n",
       "    </tr>\n",
       "    <tr>\n",
       "      <th>213</th>\n",
       "      <td>30</td>\n",
       "      <td>1</td>\n",
       "      <td>3</td>\n",
       "      <td>S1B_IW_SLC__1ADH_20200127T113414_20200127T1134...</td>\n",
       "      <td>IW3</td>\n",
       "      <td>2020-01-27 11:34:41.181384449</td>\n",
       "      <td>2020-01-27 11:34:44.404496728</td>\n",
       "    </tr>\n",
       "  </tbody>\n",
       "</table>\n",
       "</div>"
      ],
      "text/plain": [
       "     bIndex  pIndex  sIndex  \\\n",
       "210      21       1       3   \n",
       "211      24       1       3   \n",
       "212      27       1       3   \n",
       "213      30       1       3   \n",
       "\n",
       "                                             productID swathID  \\\n",
       "210  S1B_IW_SLC__1ADH_20200127T113414_20200127T1134...     IW3   \n",
       "211  S1B_IW_SLC__1ADH_20200127T113414_20200127T1134...     IW3   \n",
       "212  S1B_IW_SLC__1ADH_20200127T113414_20200127T1134...     IW3   \n",
       "213  S1B_IW_SLC__1ADH_20200127T113414_20200127T1134...     IW3   \n",
       "\n",
       "                   azimuthTimeMin                azimuthTimeMax  \n",
       "210 2020-01-27 11:34:32.922159236 2020-01-27 11:34:36.116493726  \n",
       "211 2020-01-27 11:34:35.684826903 2020-01-27 11:34:38.879161393  \n",
       "212 2020-01-27 11:34:38.447494570 2020-01-27 11:34:41.641829060  \n",
       "213 2020-01-27 11:34:41.181384449 2020-01-27 11:34:44.404496728  "
      ]
     },
     "execution_count": 14,
     "metadata": {},
     "output_type": "execute_result"
    }
   ],
   "source": [
    "first_time = dateutil.parser.parse(\"2020-01-27T11:34:30.159492\")\n",
    "last_time = dateutil.parser.parse(\"2020-01-27T11:34:56.260946\")\n",
    "\n",
    "product_name = (\n",
    "    \"S1B_IW_SLC__1ADH_20200127T113414_20200127T113444_020002_025D72_FD42.SAFE\"\n",
    ")\n",
    "df = eta.query_burst(\n",
    "    first_time=first_time,\n",
    "    last_time=last_time,\n",
    "    product_name=product_name,\n",
    "    swath=[\"IW3\"],\n",
    ")\n",
    "\n",
    "print(f\"Number of bursts: {len(df)}\")\n",
    "df.head()"
   ]
  }
 ],
 "metadata": {
  "kernelspec": {
   "display_name": "Python 3",
   "language": "python",
   "name": "python3"
  },
  "language_info": {
   "codemirror_mode": {
    "name": "ipython",
    "version": 3
   },
   "file_extension": ".py",
   "mimetype": "text/x-python",
   "name": "python",
   "nbconvert_exporter": "python",
   "pygments_lexer": "ipython3",
   "version": "3.7.9"
  }
 },
 "nbformat": 4,
 "nbformat_minor": 4
}
