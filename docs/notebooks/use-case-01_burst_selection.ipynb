{
 "cells": [
  {
   "cell_type": "markdown",
   "metadata": {
    "toc-hr-collapsed": false
   },
   "source": [
    "# Use case 1: selecting bursts"
   ]
  },
  {
   "cell_type": "markdown",
   "metadata": {},
   "source": [
    "## Notebook setup"
   ]
  },
  {
   "cell_type": "code",
   "execution_count": 1,
   "metadata": {},
   "outputs": [],
   "source": [
    "%matplotlib inline\n",
    "%load_ext autoreload\n",
    "%autoreload 2"
   ]
  },
  {
   "cell_type": "code",
   "execution_count": 2,
   "metadata": {},
   "outputs": [],
   "source": [
    "import sys\n",
    "\n",
    "sys.path.append(\"../..\")"
   ]
  },
  {
   "cell_type": "code",
   "execution_count": 3,
   "metadata": {},
   "outputs": [],
   "source": [
    "from s1etad import Sentinel1Etad"
   ]
  },
  {
   "cell_type": "markdown",
   "metadata": {},
   "source": [
    "## Open the dataset"
   ]
  },
  {
   "cell_type": "code",
   "execution_count": 4,
   "metadata": {},
   "outputs": [],
   "source": [
    "filename = (\n",
    "    \"data/\"\n",
    "    \"S1B_IW_ETA__AXDV_20200124T221416_20200124T221444_019964_025C43_0A63.SAFE/\"\n",
    ")"
   ]
  },
  {
   "cell_type": "code",
   "execution_count": 5,
   "metadata": {},
   "outputs": [],
   "source": [
    "eta = Sentinel1Etad(filename)"
   ]
  },
  {
   "cell_type": "code",
   "execution_count": 6,
   "metadata": {},
   "outputs": [
    {
     "data": {
      "text/plain": [
       "Sentinel1Etad(\"data/S1B_IW_ETA__AXDV_20200124T221416_20200124T221444_019964_025C43_0A63.SAFE\")  # 0x7420bff1f0b0\n",
       "Number of Sentinel-1 slices: 1\n",
       "Sentinel-1 products list:\n",
       "  S1B_IW_SLC__1ADV_20200124T221416_20200124T221444_019964_025C43_95FB.SAFE\n",
       "Number of swaths: 3\n",
       "Swath list: IW1, IW2, IW3\n",
       "Azimuth time:\n",
       "  min: 2020-01-24 22:14:16.480938\n",
       "  max: 2020-01-24 22:14:44.428152\n",
       "Range time:\n",
       "  min: 0.005328684957372668\n",
       "  max: 0.006383362874313361\n",
       "Grid sampling:\n",
       "  x: 8.131672451354599e-07\n",
       "  y: 0.02932551319648094\n",
       "  unit: s\n",
       "Grid spacing:\n",
       "  x: 200.0\n",
       "  y: 200.0\n",
       "  unit: m\n",
       "Processing settings:\n",
       "  troposphericDelayCorrection: True\n",
       "  ionosphericDelayCorrection: True\n",
       "  solidEarthTideCorrection: True\n",
       "  bistaticAzimuthCorrection: True\n",
       "  dopplerShiftRangeCorrection: True\n",
       "  FMMismatchAzimuthCorrection: True"
      ]
     },
     "execution_count": 6,
     "metadata": {},
     "output_type": "execute_result"
    }
   ],
   "source": [
    "eta"
   ]
  },
  {
   "cell_type": "markdown",
   "metadata": {
    "toc-hr-collapsed": false
   },
   "source": [
    "## Selecting the burst by filtering in time"
   ]
  },
  {
   "cell_type": "markdown",
   "metadata": {},
   "source": [
    "The availability of the burst catalogue, allows to perform queries and filter the burst by performing time selection using the __first_time__ and __last_time__ keywords of the __query_burst__ method.\n",
    "\n",
    "If no time is provided then all the burst are selected:"
   ]
  },
  {
   "cell_type": "code",
   "execution_count": 7,
   "metadata": {},
   "outputs": [
    {
     "name": "stdout",
     "output_type": "stream",
     "text": [
      "Number of bursts: 28\n"
     ]
    },
    {
     "data": {
      "text/html": [
       "<div>\n",
       "<style scoped>\n",
       "    .dataframe tbody tr th:only-of-type {\n",
       "        vertical-align: middle;\n",
       "    }\n",
       "\n",
       "    .dataframe tbody tr th {\n",
       "        vertical-align: top;\n",
       "    }\n",
       "\n",
       "    .dataframe thead th {\n",
       "        text-align: right;\n",
       "    }\n",
       "</style>\n",
       "<table border=\"1\" class=\"dataframe\">\n",
       "  <thead>\n",
       "    <tr style=\"text-align: right;\">\n",
       "      <th></th>\n",
       "      <th>bIndex</th>\n",
       "      <th>pIndex</th>\n",
       "      <th>sIndex</th>\n",
       "      <th>productID</th>\n",
       "      <th>swathID</th>\n",
       "      <th>azimuthTimeMin</th>\n",
       "      <th>azimuthTimeMax</th>\n",
       "    </tr>\n",
       "  </thead>\n",
       "  <tbody>\n",
       "    <tr>\n",
       "      <th>0</th>\n",
       "      <td>1</td>\n",
       "      <td>1</td>\n",
       "      <td>1</td>\n",
       "      <td>S1B_IW_SLC__1ADV_20200124T221416_20200124T2214...</td>\n",
       "      <td>IW1</td>\n",
       "      <td>2020-01-24 22:14:16.480938000</td>\n",
       "      <td>2020-01-24 22:14:19.618767912</td>\n",
       "    </tr>\n",
       "    <tr>\n",
       "      <th>10</th>\n",
       "      <td>2</td>\n",
       "      <td>1</td>\n",
       "      <td>2</td>\n",
       "      <td>S1B_IW_SLC__1ADV_20200124T221416_20200124T2214...</td>\n",
       "      <td>IW2</td>\n",
       "      <td>2020-01-24 22:14:17.419354422</td>\n",
       "      <td>2020-01-24 22:14:20.586509847</td>\n",
       "    </tr>\n",
       "    <tr>\n",
       "      <th>19</th>\n",
       "      <td>3</td>\n",
       "      <td>1</td>\n",
       "      <td>3</td>\n",
       "      <td>S1B_IW_SLC__1ADV_20200124T221416_20200124T2214...</td>\n",
       "      <td>IW3</td>\n",
       "      <td>2020-01-24 22:14:18.357770844</td>\n",
       "      <td>2020-01-24 22:14:21.554251782</td>\n",
       "    </tr>\n",
       "    <tr>\n",
       "      <th>1</th>\n",
       "      <td>4</td>\n",
       "      <td>1</td>\n",
       "      <td>1</td>\n",
       "      <td>S1B_IW_SLC__1ADV_20200124T221416_20200124T2214...</td>\n",
       "      <td>IW1</td>\n",
       "      <td>2020-01-24 22:14:19.237536240</td>\n",
       "      <td>2020-01-24 22:14:22.375366152</td>\n",
       "    </tr>\n",
       "    <tr>\n",
       "      <th>11</th>\n",
       "      <td>5</td>\n",
       "      <td>1</td>\n",
       "      <td>2</td>\n",
       "      <td>S1B_IW_SLC__1ADV_20200124T221416_20200124T2214...</td>\n",
       "      <td>IW2</td>\n",
       "      <td>2020-01-24 22:14:20.175952662</td>\n",
       "      <td>2020-01-24 22:14:23.343108087</td>\n",
       "    </tr>\n",
       "  </tbody>\n",
       "</table>\n",
       "</div>"
      ],
      "text/plain": [
       "    bIndex  pIndex  sIndex                                          productID  \\\n",
       "0        1       1       1  S1B_IW_SLC__1ADV_20200124T221416_20200124T2214...   \n",
       "10       2       1       2  S1B_IW_SLC__1ADV_20200124T221416_20200124T2214...   \n",
       "19       3       1       3  S1B_IW_SLC__1ADV_20200124T221416_20200124T2214...   \n",
       "1        4       1       1  S1B_IW_SLC__1ADV_20200124T221416_20200124T2214...   \n",
       "11       5       1       2  S1B_IW_SLC__1ADV_20200124T221416_20200124T2214...   \n",
       "\n",
       "   swathID                azimuthTimeMin                azimuthTimeMax  \n",
       "0      IW1 2020-01-24 22:14:16.480938000 2020-01-24 22:14:19.618767912  \n",
       "10     IW2 2020-01-24 22:14:17.419354422 2020-01-24 22:14:20.586509847  \n",
       "19     IW3 2020-01-24 22:14:18.357770844 2020-01-24 22:14:21.554251782  \n",
       "1      IW1 2020-01-24 22:14:19.237536240 2020-01-24 22:14:22.375366152  \n",
       "11     IW2 2020-01-24 22:14:20.175952662 2020-01-24 22:14:23.343108087  "
      ]
     },
     "execution_count": 7,
     "metadata": {},
     "output_type": "execute_result"
    }
   ],
   "source": [
    "df = eta.query_burst()\n",
    "\n",
    "print(f\"Number of bursts: {len(df)}\")\n",
    "df.head()"
   ]
  },
  {
   "cell_type": "markdown",
   "metadata": {},
   "source": [
    "It is possible to reduce the selection by **start time** in this case the **stop time** is the last available burst:"
   ]
  },
  {
   "cell_type": "code",
   "execution_count": 8,
   "metadata": {},
   "outputs": [
    {
     "name": "stdout",
     "output_type": "stream",
     "text": [
      "Number of bursts: 25\n"
     ]
    },
    {
     "data": {
      "text/html": [
       "<div>\n",
       "<style scoped>\n",
       "    .dataframe tbody tr th:only-of-type {\n",
       "        vertical-align: middle;\n",
       "    }\n",
       "\n",
       "    .dataframe tbody tr th {\n",
       "        vertical-align: top;\n",
       "    }\n",
       "\n",
       "    .dataframe thead th {\n",
       "        text-align: right;\n",
       "    }\n",
       "</style>\n",
       "<table border=\"1\" class=\"dataframe\">\n",
       "  <thead>\n",
       "    <tr style=\"text-align: right;\">\n",
       "      <th></th>\n",
       "      <th>bIndex</th>\n",
       "      <th>pIndex</th>\n",
       "      <th>sIndex</th>\n",
       "      <th>productID</th>\n",
       "      <th>swathID</th>\n",
       "      <th>azimuthTimeMin</th>\n",
       "      <th>azimuthTimeMax</th>\n",
       "    </tr>\n",
       "  </thead>\n",
       "  <tbody>\n",
       "    <tr>\n",
       "      <th>1</th>\n",
       "      <td>4</td>\n",
       "      <td>1</td>\n",
       "      <td>1</td>\n",
       "      <td>S1B_IW_SLC__1ADV_20200124T221416_20200124T2214...</td>\n",
       "      <td>IW1</td>\n",
       "      <td>2020-01-24 22:14:19.237536240</td>\n",
       "      <td>2020-01-24 22:14:22.375366152</td>\n",
       "    </tr>\n",
       "    <tr>\n",
       "      <th>11</th>\n",
       "      <td>5</td>\n",
       "      <td>1</td>\n",
       "      <td>2</td>\n",
       "      <td>S1B_IW_SLC__1ADV_20200124T221416_20200124T2214...</td>\n",
       "      <td>IW2</td>\n",
       "      <td>2020-01-24 22:14:20.175952662</td>\n",
       "      <td>2020-01-24 22:14:23.343108087</td>\n",
       "    </tr>\n",
       "    <tr>\n",
       "      <th>20</th>\n",
       "      <td>6</td>\n",
       "      <td>1</td>\n",
       "      <td>3</td>\n",
       "      <td>S1B_IW_SLC__1ADV_20200124T221416_20200124T2214...</td>\n",
       "      <td>IW3</td>\n",
       "      <td>2020-01-24 22:14:21.143694598</td>\n",
       "      <td>2020-01-24 22:14:24.310850023</td>\n",
       "    </tr>\n",
       "    <tr>\n",
       "      <th>2</th>\n",
       "      <td>7</td>\n",
       "      <td>1</td>\n",
       "      <td>1</td>\n",
       "      <td>S1B_IW_SLC__1ADV_20200124T221416_20200124T2214...</td>\n",
       "      <td>IW1</td>\n",
       "      <td>2020-01-24 22:14:21.994134480</td>\n",
       "      <td>2020-01-24 22:14:25.131964392</td>\n",
       "    </tr>\n",
       "    <tr>\n",
       "      <th>12</th>\n",
       "      <td>8</td>\n",
       "      <td>1</td>\n",
       "      <td>2</td>\n",
       "      <td>S1B_IW_SLC__1ADV_20200124T221416_20200124T2214...</td>\n",
       "      <td>IW2</td>\n",
       "      <td>2020-01-24 22:14:22.932550903</td>\n",
       "      <td>2020-01-24 22:14:26.099706328</td>\n",
       "    </tr>\n",
       "  </tbody>\n",
       "</table>\n",
       "</div>"
      ],
      "text/plain": [
       "    bIndex  pIndex  sIndex                                          productID  \\\n",
       "1        4       1       1  S1B_IW_SLC__1ADV_20200124T221416_20200124T2214...   \n",
       "11       5       1       2  S1B_IW_SLC__1ADV_20200124T221416_20200124T2214...   \n",
       "20       6       1       3  S1B_IW_SLC__1ADV_20200124T221416_20200124T2214...   \n",
       "2        7       1       1  S1B_IW_SLC__1ADV_20200124T221416_20200124T2214...   \n",
       "12       8       1       2  S1B_IW_SLC__1ADV_20200124T221416_20200124T2214...   \n",
       "\n",
       "   swathID                azimuthTimeMin                azimuthTimeMax  \n",
       "1      IW1 2020-01-24 22:14:19.237536240 2020-01-24 22:14:22.375366152  \n",
       "11     IW2 2020-01-24 22:14:20.175952662 2020-01-24 22:14:23.343108087  \n",
       "20     IW3 2020-01-24 22:14:21.143694598 2020-01-24 22:14:24.310850023  \n",
       "2      IW1 2020-01-24 22:14:21.994134480 2020-01-24 22:14:25.131964392  \n",
       "12     IW2 2020-01-24 22:14:22.932550903 2020-01-24 22:14:26.099706328  "
      ]
     },
     "execution_count": 8,
     "metadata": {},
     "output_type": "execute_result"
    }
   ],
   "source": [
    "import dateutil\n",
    "\n",
    "first_time = dateutil.parser.parse(\"2020-01-24 22:14:19.237536240\")\n",
    "\n",
    "df = eta.query_burst(first_time=first_time)\n",
    "\n",
    "print(f\"Number of bursts: {len(df)}\")\n",
    "df.head()"
   ]
  },
  {
   "cell_type": "markdown",
   "metadata": {},
   "source": [
    "It is possible to reduce the selection by the **stop time** in this case the **start time** is the first available burst:"
   ]
  },
  {
   "cell_type": "code",
   "execution_count": 9,
   "metadata": {},
   "outputs": [
    {
     "name": "stdout",
     "output_type": "stream",
     "text": [
      "Number of bursts: 12\n"
     ]
    },
    {
     "data": {
      "text/html": [
       "<div>\n",
       "<style scoped>\n",
       "    .dataframe tbody tr th:only-of-type {\n",
       "        vertical-align: middle;\n",
       "    }\n",
       "\n",
       "    .dataframe tbody tr th {\n",
       "        vertical-align: top;\n",
       "    }\n",
       "\n",
       "    .dataframe thead th {\n",
       "        text-align: right;\n",
       "    }\n",
       "</style>\n",
       "<table border=\"1\" class=\"dataframe\">\n",
       "  <thead>\n",
       "    <tr style=\"text-align: right;\">\n",
       "      <th></th>\n",
       "      <th>bIndex</th>\n",
       "      <th>pIndex</th>\n",
       "      <th>sIndex</th>\n",
       "      <th>productID</th>\n",
       "      <th>swathID</th>\n",
       "      <th>azimuthTimeMin</th>\n",
       "      <th>azimuthTimeMax</th>\n",
       "    </tr>\n",
       "  </thead>\n",
       "  <tbody>\n",
       "    <tr>\n",
       "      <th>0</th>\n",
       "      <td>1</td>\n",
       "      <td>1</td>\n",
       "      <td>1</td>\n",
       "      <td>S1B_IW_SLC__1ADV_20200124T221416_20200124T2214...</td>\n",
       "      <td>IW1</td>\n",
       "      <td>2020-01-24 22:14:16.480938000</td>\n",
       "      <td>2020-01-24 22:14:19.618767912</td>\n",
       "    </tr>\n",
       "    <tr>\n",
       "      <th>10</th>\n",
       "      <td>2</td>\n",
       "      <td>1</td>\n",
       "      <td>2</td>\n",
       "      <td>S1B_IW_SLC__1ADV_20200124T221416_20200124T2214...</td>\n",
       "      <td>IW2</td>\n",
       "      <td>2020-01-24 22:14:17.419354422</td>\n",
       "      <td>2020-01-24 22:14:20.586509847</td>\n",
       "    </tr>\n",
       "    <tr>\n",
       "      <th>19</th>\n",
       "      <td>3</td>\n",
       "      <td>1</td>\n",
       "      <td>3</td>\n",
       "      <td>S1B_IW_SLC__1ADV_20200124T221416_20200124T2214...</td>\n",
       "      <td>IW3</td>\n",
       "      <td>2020-01-24 22:14:18.357770844</td>\n",
       "      <td>2020-01-24 22:14:21.554251782</td>\n",
       "    </tr>\n",
       "    <tr>\n",
       "      <th>1</th>\n",
       "      <td>4</td>\n",
       "      <td>1</td>\n",
       "      <td>1</td>\n",
       "      <td>S1B_IW_SLC__1ADV_20200124T221416_20200124T2214...</td>\n",
       "      <td>IW1</td>\n",
       "      <td>2020-01-24 22:14:19.237536240</td>\n",
       "      <td>2020-01-24 22:14:22.375366152</td>\n",
       "    </tr>\n",
       "    <tr>\n",
       "      <th>11</th>\n",
       "      <td>5</td>\n",
       "      <td>1</td>\n",
       "      <td>2</td>\n",
       "      <td>S1B_IW_SLC__1ADV_20200124T221416_20200124T2214...</td>\n",
       "      <td>IW2</td>\n",
       "      <td>2020-01-24 22:14:20.175952662</td>\n",
       "      <td>2020-01-24 22:14:23.343108087</td>\n",
       "    </tr>\n",
       "  </tbody>\n",
       "</table>\n",
       "</div>"
      ],
      "text/plain": [
       "    bIndex  pIndex  sIndex                                          productID  \\\n",
       "0        1       1       1  S1B_IW_SLC__1ADV_20200124T221416_20200124T2214...   \n",
       "10       2       1       2  S1B_IW_SLC__1ADV_20200124T221416_20200124T2214...   \n",
       "19       3       1       3  S1B_IW_SLC__1ADV_20200124T221416_20200124T2214...   \n",
       "1        4       1       1  S1B_IW_SLC__1ADV_20200124T221416_20200124T2214...   \n",
       "11       5       1       2  S1B_IW_SLC__1ADV_20200124T221416_20200124T2214...   \n",
       "\n",
       "   swathID                azimuthTimeMin                azimuthTimeMax  \n",
       "0      IW1 2020-01-24 22:14:16.480938000 2020-01-24 22:14:19.618767912  \n",
       "10     IW2 2020-01-24 22:14:17.419354422 2020-01-24 22:14:20.586509847  \n",
       "19     IW3 2020-01-24 22:14:18.357770844 2020-01-24 22:14:21.554251782  \n",
       "1      IW1 2020-01-24 22:14:19.237536240 2020-01-24 22:14:22.375366152  \n",
       "11     IW2 2020-01-24 22:14:20.175952662 2020-01-24 22:14:23.343108087  "
      ]
     },
     "execution_count": 9,
     "metadata": {},
     "output_type": "execute_result"
    }
   ],
   "source": [
    "last_time = dateutil.parser.parse(\"2020-01-24 22:14:29.824047\")\n",
    "\n",
    "df = eta.query_burst(last_time=last_time)\n",
    "\n",
    "print(f\"Number of bursts: {len(df)}\")\n",
    "df.head()"
   ]
  },
  {
   "cell_type": "markdown",
   "metadata": {},
   "source": [
    "It is possible to reduce the selection by the **start** and **stop time**:"
   ]
  },
  {
   "cell_type": "code",
   "execution_count": 10,
   "metadata": {},
   "outputs": [
    {
     "name": "stdout",
     "output_type": "stream",
     "text": [
      "Number of bursts: 9\n"
     ]
    },
    {
     "data": {
      "text/html": [
       "<div>\n",
       "<style scoped>\n",
       "    .dataframe tbody tr th:only-of-type {\n",
       "        vertical-align: middle;\n",
       "    }\n",
       "\n",
       "    .dataframe tbody tr th {\n",
       "        vertical-align: top;\n",
       "    }\n",
       "\n",
       "    .dataframe thead th {\n",
       "        text-align: right;\n",
       "    }\n",
       "</style>\n",
       "<table border=\"1\" class=\"dataframe\">\n",
       "  <thead>\n",
       "    <tr style=\"text-align: right;\">\n",
       "      <th></th>\n",
       "      <th>bIndex</th>\n",
       "      <th>pIndex</th>\n",
       "      <th>sIndex</th>\n",
       "      <th>productID</th>\n",
       "      <th>swathID</th>\n",
       "      <th>azimuthTimeMin</th>\n",
       "      <th>azimuthTimeMax</th>\n",
       "    </tr>\n",
       "  </thead>\n",
       "  <tbody>\n",
       "    <tr>\n",
       "      <th>1</th>\n",
       "      <td>4</td>\n",
       "      <td>1</td>\n",
       "      <td>1</td>\n",
       "      <td>S1B_IW_SLC__1ADV_20200124T221416_20200124T2214...</td>\n",
       "      <td>IW1</td>\n",
       "      <td>2020-01-24 22:14:19.237536240</td>\n",
       "      <td>2020-01-24 22:14:22.375366152</td>\n",
       "    </tr>\n",
       "    <tr>\n",
       "      <th>11</th>\n",
       "      <td>5</td>\n",
       "      <td>1</td>\n",
       "      <td>2</td>\n",
       "      <td>S1B_IW_SLC__1ADV_20200124T221416_20200124T2214...</td>\n",
       "      <td>IW2</td>\n",
       "      <td>2020-01-24 22:14:20.175952662</td>\n",
       "      <td>2020-01-24 22:14:23.343108087</td>\n",
       "    </tr>\n",
       "    <tr>\n",
       "      <th>20</th>\n",
       "      <td>6</td>\n",
       "      <td>1</td>\n",
       "      <td>3</td>\n",
       "      <td>S1B_IW_SLC__1ADV_20200124T221416_20200124T2214...</td>\n",
       "      <td>IW3</td>\n",
       "      <td>2020-01-24 22:14:21.143694598</td>\n",
       "      <td>2020-01-24 22:14:24.310850023</td>\n",
       "    </tr>\n",
       "    <tr>\n",
       "      <th>2</th>\n",
       "      <td>7</td>\n",
       "      <td>1</td>\n",
       "      <td>1</td>\n",
       "      <td>S1B_IW_SLC__1ADV_20200124T221416_20200124T2214...</td>\n",
       "      <td>IW1</td>\n",
       "      <td>2020-01-24 22:14:21.994134480</td>\n",
       "      <td>2020-01-24 22:14:25.131964392</td>\n",
       "    </tr>\n",
       "    <tr>\n",
       "      <th>12</th>\n",
       "      <td>8</td>\n",
       "      <td>1</td>\n",
       "      <td>2</td>\n",
       "      <td>S1B_IW_SLC__1ADV_20200124T221416_20200124T2214...</td>\n",
       "      <td>IW2</td>\n",
       "      <td>2020-01-24 22:14:22.932550903</td>\n",
       "      <td>2020-01-24 22:14:26.099706328</td>\n",
       "    </tr>\n",
       "  </tbody>\n",
       "</table>\n",
       "</div>"
      ],
      "text/plain": [
       "    bIndex  pIndex  sIndex                                          productID  \\\n",
       "1        4       1       1  S1B_IW_SLC__1ADV_20200124T221416_20200124T2214...   \n",
       "11       5       1       2  S1B_IW_SLC__1ADV_20200124T221416_20200124T2214...   \n",
       "20       6       1       3  S1B_IW_SLC__1ADV_20200124T221416_20200124T2214...   \n",
       "2        7       1       1  S1B_IW_SLC__1ADV_20200124T221416_20200124T2214...   \n",
       "12       8       1       2  S1B_IW_SLC__1ADV_20200124T221416_20200124T2214...   \n",
       "\n",
       "   swathID                azimuthTimeMin                azimuthTimeMax  \n",
       "1      IW1 2020-01-24 22:14:19.237536240 2020-01-24 22:14:22.375366152  \n",
       "11     IW2 2020-01-24 22:14:20.175952662 2020-01-24 22:14:23.343108087  \n",
       "20     IW3 2020-01-24 22:14:21.143694598 2020-01-24 22:14:24.310850023  \n",
       "2      IW1 2020-01-24 22:14:21.994134480 2020-01-24 22:14:25.131964392  \n",
       "12     IW2 2020-01-24 22:14:22.932550903 2020-01-24 22:14:26.099706328  "
      ]
     },
     "execution_count": 10,
     "metadata": {},
     "output_type": "execute_result"
    }
   ],
   "source": [
    "first_time = dateutil.parser.parse(\"2020-01-24 22:14:19.237536240\")\n",
    "last_time = dateutil.parser.parse(\"2020-01-24 22:14:29.824047\")\n",
    "\n",
    "# query the catalogues for of all the swaths\n",
    "df = eta.query_burst(first_time=first_time, last_time=last_time)\n",
    "print(f\"Number of bursts: {len(df)}\")\n",
    "df.head()"
   ]
  },
  {
   "cell_type": "markdown",
   "metadata": {},
   "source": [
    "## Selecting by swath (and time)"
   ]
  },
  {
   "cell_type": "markdown",
   "metadata": {},
   "source": [
    "The time selection can be combined with a selection by swath using the __swath__ keyword.\n",
    "If not used all the swath are used"
   ]
  },
  {
   "cell_type": "code",
   "execution_count": 11,
   "metadata": {},
   "outputs": [
    {
     "name": "stdout",
     "output_type": "stream",
     "text": [
      "Number of bursts: 3\n"
     ]
    },
    {
     "data": {
      "text/html": [
       "<div>\n",
       "<style scoped>\n",
       "    .dataframe tbody tr th:only-of-type {\n",
       "        vertical-align: middle;\n",
       "    }\n",
       "\n",
       "    .dataframe tbody tr th {\n",
       "        vertical-align: top;\n",
       "    }\n",
       "\n",
       "    .dataframe thead th {\n",
       "        text-align: right;\n",
       "    }\n",
       "</style>\n",
       "<table border=\"1\" class=\"dataframe\">\n",
       "  <thead>\n",
       "    <tr style=\"text-align: right;\">\n",
       "      <th></th>\n",
       "      <th>bIndex</th>\n",
       "      <th>pIndex</th>\n",
       "      <th>sIndex</th>\n",
       "      <th>productID</th>\n",
       "      <th>swathID</th>\n",
       "      <th>azimuthTimeMin</th>\n",
       "      <th>azimuthTimeMax</th>\n",
       "    </tr>\n",
       "  </thead>\n",
       "  <tbody>\n",
       "    <tr>\n",
       "      <th>1</th>\n",
       "      <td>4</td>\n",
       "      <td>1</td>\n",
       "      <td>1</td>\n",
       "      <td>S1B_IW_SLC__1ADV_20200124T221416_20200124T2214...</td>\n",
       "      <td>IW1</td>\n",
       "      <td>2020-01-24 22:14:19.237536240</td>\n",
       "      <td>2020-01-24 22:14:22.375366152</td>\n",
       "    </tr>\n",
       "    <tr>\n",
       "      <th>2</th>\n",
       "      <td>7</td>\n",
       "      <td>1</td>\n",
       "      <td>1</td>\n",
       "      <td>S1B_IW_SLC__1ADV_20200124T221416_20200124T2214...</td>\n",
       "      <td>IW1</td>\n",
       "      <td>2020-01-24 22:14:21.994134480</td>\n",
       "      <td>2020-01-24 22:14:25.131964392</td>\n",
       "    </tr>\n",
       "    <tr>\n",
       "      <th>3</th>\n",
       "      <td>10</td>\n",
       "      <td>1</td>\n",
       "      <td>1</td>\n",
       "      <td>S1B_IW_SLC__1ADV_20200124T221416_20200124T2214...</td>\n",
       "      <td>IW1</td>\n",
       "      <td>2020-01-24 22:14:24.750732721</td>\n",
       "      <td>2020-01-24 22:14:27.888562633</td>\n",
       "    </tr>\n",
       "  </tbody>\n",
       "</table>\n",
       "</div>"
      ],
      "text/plain": [
       "   bIndex  pIndex  sIndex                                          productID  \\\n",
       "1       4       1       1  S1B_IW_SLC__1ADV_20200124T221416_20200124T2214...   \n",
       "2       7       1       1  S1B_IW_SLC__1ADV_20200124T221416_20200124T2214...   \n",
       "3      10       1       1  S1B_IW_SLC__1ADV_20200124T221416_20200124T2214...   \n",
       "\n",
       "  swathID                azimuthTimeMin                azimuthTimeMax  \n",
       "1     IW1 2020-01-24 22:14:19.237536240 2020-01-24 22:14:22.375366152  \n",
       "2     IW1 2020-01-24 22:14:21.994134480 2020-01-24 22:14:25.131964392  \n",
       "3     IW1 2020-01-24 22:14:24.750732721 2020-01-24 22:14:27.888562633  "
      ]
     },
     "execution_count": 11,
     "metadata": {},
     "output_type": "execute_result"
    }
   ],
   "source": [
    "first_time = dateutil.parser.parse(\"2020-01-24 22:14:19.237536240\")\n",
    "last_time = dateutil.parser.parse(\"2020-01-24 22:14:29.824047\")\n",
    "\n",
    "# query the catalogue for a subset of the swaths\n",
    "df = eta.query_burst(first_time=first_time, last_time=last_time, swath=\"IW1\")\n",
    "print(f\"Number of bursts: {len(df)}\")\n",
    "df"
   ]
  },
  {
   "cell_type": "markdown",
   "metadata": {},
   "source": [
    "Query the catalogue for a subset of the swaths:"
   ]
  },
  {
   "cell_type": "code",
   "execution_count": 12,
   "metadata": {},
   "outputs": [
    {
     "name": "stdout",
     "output_type": "stream",
     "text": [
      "Number of bursts: 6\n"
     ]
    },
    {
     "data": {
      "text/html": [
       "<div>\n",
       "<style scoped>\n",
       "    .dataframe tbody tr th:only-of-type {\n",
       "        vertical-align: middle;\n",
       "    }\n",
       "\n",
       "    .dataframe tbody tr th {\n",
       "        vertical-align: top;\n",
       "    }\n",
       "\n",
       "    .dataframe thead th {\n",
       "        text-align: right;\n",
       "    }\n",
       "</style>\n",
       "<table border=\"1\" class=\"dataframe\">\n",
       "  <thead>\n",
       "    <tr style=\"text-align: right;\">\n",
       "      <th></th>\n",
       "      <th>bIndex</th>\n",
       "      <th>pIndex</th>\n",
       "      <th>sIndex</th>\n",
       "      <th>productID</th>\n",
       "      <th>swathID</th>\n",
       "      <th>azimuthTimeMin</th>\n",
       "      <th>azimuthTimeMax</th>\n",
       "    </tr>\n",
       "  </thead>\n",
       "  <tbody>\n",
       "    <tr>\n",
       "      <th>1</th>\n",
       "      <td>4</td>\n",
       "      <td>1</td>\n",
       "      <td>1</td>\n",
       "      <td>S1B_IW_SLC__1ADV_20200124T221416_20200124T2214...</td>\n",
       "      <td>IW1</td>\n",
       "      <td>2020-01-24 22:14:19.237536240</td>\n",
       "      <td>2020-01-24 22:14:22.375366152</td>\n",
       "    </tr>\n",
       "    <tr>\n",
       "      <th>11</th>\n",
       "      <td>5</td>\n",
       "      <td>1</td>\n",
       "      <td>2</td>\n",
       "      <td>S1B_IW_SLC__1ADV_20200124T221416_20200124T2214...</td>\n",
       "      <td>IW2</td>\n",
       "      <td>2020-01-24 22:14:20.175952662</td>\n",
       "      <td>2020-01-24 22:14:23.343108087</td>\n",
       "    </tr>\n",
       "    <tr>\n",
       "      <th>2</th>\n",
       "      <td>7</td>\n",
       "      <td>1</td>\n",
       "      <td>1</td>\n",
       "      <td>S1B_IW_SLC__1ADV_20200124T221416_20200124T2214...</td>\n",
       "      <td>IW1</td>\n",
       "      <td>2020-01-24 22:14:21.994134480</td>\n",
       "      <td>2020-01-24 22:14:25.131964392</td>\n",
       "    </tr>\n",
       "    <tr>\n",
       "      <th>12</th>\n",
       "      <td>8</td>\n",
       "      <td>1</td>\n",
       "      <td>2</td>\n",
       "      <td>S1B_IW_SLC__1ADV_20200124T221416_20200124T2214...</td>\n",
       "      <td>IW2</td>\n",
       "      <td>2020-01-24 22:14:22.932550903</td>\n",
       "      <td>2020-01-24 22:14:26.099706328</td>\n",
       "    </tr>\n",
       "    <tr>\n",
       "      <th>3</th>\n",
       "      <td>10</td>\n",
       "      <td>1</td>\n",
       "      <td>1</td>\n",
       "      <td>S1B_IW_SLC__1ADV_20200124T221416_20200124T2214...</td>\n",
       "      <td>IW1</td>\n",
       "      <td>2020-01-24 22:14:24.750732721</td>\n",
       "      <td>2020-01-24 22:14:27.888562633</td>\n",
       "    </tr>\n",
       "  </tbody>\n",
       "</table>\n",
       "</div>"
      ],
      "text/plain": [
       "    bIndex  pIndex  sIndex                                          productID  \\\n",
       "1        4       1       1  S1B_IW_SLC__1ADV_20200124T221416_20200124T2214...   \n",
       "11       5       1       2  S1B_IW_SLC__1ADV_20200124T221416_20200124T2214...   \n",
       "2        7       1       1  S1B_IW_SLC__1ADV_20200124T221416_20200124T2214...   \n",
       "12       8       1       2  S1B_IW_SLC__1ADV_20200124T221416_20200124T2214...   \n",
       "3       10       1       1  S1B_IW_SLC__1ADV_20200124T221416_20200124T2214...   \n",
       "\n",
       "   swathID                azimuthTimeMin                azimuthTimeMax  \n",
       "1      IW1 2020-01-24 22:14:19.237536240 2020-01-24 22:14:22.375366152  \n",
       "11     IW2 2020-01-24 22:14:20.175952662 2020-01-24 22:14:23.343108087  \n",
       "2      IW1 2020-01-24 22:14:21.994134480 2020-01-24 22:14:25.131964392  \n",
       "12     IW2 2020-01-24 22:14:22.932550903 2020-01-24 22:14:26.099706328  \n",
       "3      IW1 2020-01-24 22:14:24.750732721 2020-01-24 22:14:27.888562633  "
      ]
     },
     "execution_count": 12,
     "metadata": {},
     "output_type": "execute_result"
    }
   ],
   "source": [
    "first_time = dateutil.parser.parse(\"2020-01-24 22:14:19.237536240\")\n",
    "last_time = dateutil.parser.parse(\"2020-01-24 22:14:29.824047\")\n",
    "\n",
    "df = eta.query_burst(\n",
    "    first_time=first_time, last_time=last_time, swath=[\"IW1\", \"IW2\"]\n",
    ")\n",
    "\n",
    "print(f\"Number of bursts: {len(df)}\")\n",
    "df.head()"
   ]
  },
  {
   "cell_type": "markdown",
   "metadata": {},
   "source": [
    "## Selecting by Sentinel-1 product name (swath and time)"
   ]
  },
  {
   "cell_type": "markdown",
   "metadata": {},
   "source": [
    "The **time** selection can be combined with a selection by **swath** using the **product_name** keyword."
   ]
  },
  {
   "cell_type": "code",
   "execution_count": 13,
   "metadata": {},
   "outputs": [
    {
     "name": "stdout",
     "output_type": "stream",
     "text": [
      "Number of bursts: 3\n"
     ]
    },
    {
     "data": {
      "text/html": [
       "<div>\n",
       "<style scoped>\n",
       "    .dataframe tbody tr th:only-of-type {\n",
       "        vertical-align: middle;\n",
       "    }\n",
       "\n",
       "    .dataframe tbody tr th {\n",
       "        vertical-align: top;\n",
       "    }\n",
       "\n",
       "    .dataframe thead th {\n",
       "        text-align: right;\n",
       "    }\n",
       "</style>\n",
       "<table border=\"1\" class=\"dataframe\">\n",
       "  <thead>\n",
       "    <tr style=\"text-align: right;\">\n",
       "      <th></th>\n",
       "      <th>bIndex</th>\n",
       "      <th>pIndex</th>\n",
       "      <th>sIndex</th>\n",
       "      <th>productID</th>\n",
       "      <th>swathID</th>\n",
       "      <th>azimuthTimeMin</th>\n",
       "      <th>azimuthTimeMax</th>\n",
       "    </tr>\n",
       "  </thead>\n",
       "  <tbody>\n",
       "    <tr>\n",
       "      <th>20</th>\n",
       "      <td>6</td>\n",
       "      <td>1</td>\n",
       "      <td>3</td>\n",
       "      <td>S1B_IW_SLC__1ADV_20200124T221416_20200124T2214...</td>\n",
       "      <td>IW3</td>\n",
       "      <td>2020-01-24 22:14:21.143694598</td>\n",
       "      <td>2020-01-24 22:14:24.310850023</td>\n",
       "    </tr>\n",
       "    <tr>\n",
       "      <th>21</th>\n",
       "      <td>9</td>\n",
       "      <td>1</td>\n",
       "      <td>3</td>\n",
       "      <td>S1B_IW_SLC__1ADV_20200124T221416_20200124T2214...</td>\n",
       "      <td>IW3</td>\n",
       "      <td>2020-01-24 22:14:23.900292838</td>\n",
       "      <td>2020-01-24 22:14:27.067448263</td>\n",
       "    </tr>\n",
       "    <tr>\n",
       "      <th>22</th>\n",
       "      <td>12</td>\n",
       "      <td>1</td>\n",
       "      <td>3</td>\n",
       "      <td>S1B_IW_SLC__1ADV_20200124T221416_20200124T2214...</td>\n",
       "      <td>IW3</td>\n",
       "      <td>2020-01-24 22:14:26.656891079</td>\n",
       "      <td>2020-01-24 22:14:29.824046504</td>\n",
       "    </tr>\n",
       "  </tbody>\n",
       "</table>\n",
       "</div>"
      ],
      "text/plain": [
       "    bIndex  pIndex  sIndex                                          productID  \\\n",
       "20       6       1       3  S1B_IW_SLC__1ADV_20200124T221416_20200124T2214...   \n",
       "21       9       1       3  S1B_IW_SLC__1ADV_20200124T221416_20200124T2214...   \n",
       "22      12       1       3  S1B_IW_SLC__1ADV_20200124T221416_20200124T2214...   \n",
       "\n",
       "   swathID                azimuthTimeMin                azimuthTimeMax  \n",
       "20     IW3 2020-01-24 22:14:21.143694598 2020-01-24 22:14:24.310850023  \n",
       "21     IW3 2020-01-24 22:14:23.900292838 2020-01-24 22:14:27.067448263  \n",
       "22     IW3 2020-01-24 22:14:26.656891079 2020-01-24 22:14:29.824046504  "
      ]
     },
     "execution_count": 13,
     "metadata": {},
     "output_type": "execute_result"
    }
   ],
   "source": [
    "first_time = dateutil.parser.parse(\"2020-01-24 22:14:19.237536240\")\n",
    "last_time = dateutil.parser.parse(\"2020-01-24 22:14:29.824047\")\n",
    "\n",
    "product_name = (\n",
    "    \"S1B_IW_SLC__1ADV_20200124T221416_20200124T221444_019964_025C43_95FB.SAFE\"\n",
    ")\n",
    "df = eta.query_burst(\n",
    "    first_time=first_time,\n",
    "    last_time=last_time,\n",
    "    product_name=product_name,\n",
    "    swath=[\"IW3\"],\n",
    ")\n",
    "\n",
    "print(f\"Number of bursts: {len(df)}\")\n",
    "df.head()"
   ]
  }
 ],
 "metadata": {
  "kernelspec": {
   "display_name": "Python 3",
   "language": "python",
   "name": "python3"
  },
  "language_info": {
   "codemirror_mode": {
    "name": "ipython",
    "version": 3
   },
   "file_extension": ".py",
   "mimetype": "text/x-python",
   "name": "python",
   "nbconvert_exporter": "python",
   "pygments_lexer": "ipython3",
   "version": "3.12.7"
  }
 },
 "nbformat": 4,
 "nbformat_minor": 4
}
